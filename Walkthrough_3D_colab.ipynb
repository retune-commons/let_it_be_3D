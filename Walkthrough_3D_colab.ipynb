{
 "cells": [
  {
   "cell_type": "code",
   "execution_count": null,
   "id": "WRX-jL-79fFJ",
   "metadata": {},
   "outputs": [],
   "source": [
    "!pip install aniposelib\n",
    "!pip install imageio==2.19.3\n",
    "!pip install pip install aniposelib\n",
    "!pip install ffmpeg\n",
    "!pip install ffmpeg-python\n",
    "!pip install imageio-ffmpeg\n",
    "!pip install deeplabcut\n",
    "# restart runtime after this step!"
   ]
  },
  {
   "cell_type": "code",
   "execution_count": null,
   "id": "whwfjZxi6Y2p",
   "metadata": {},
   "outputs": [],
   "source": [
    "from google.colab import drive\n",
    "\n",
    "drive.mount(\"/content/drive/\")\n",
    "import sys\n",
    "\n",
    "sys.path.insert(0, \"/content/drive/My Drive/Medizin/Shareable/\")"
   ]
  },
  {
   "cell_type": "code",
   "execution_count": null,
   "id": "0f2ec33e-8724-40c0-8cf1-7f9fbae03295",
   "metadata": {},
   "outputs": [],
   "source": [
    "from core.meta import MetaInterface"
   ]
  },
  {
   "cell_type": "code",
   "execution_count": null,
   "id": "5ea35e8d-2332-4cf2-adce-e16a1b98594f",
   "metadata": {},
   "outputs": [],
   "source": []
  },
  {
   "cell_type": "code",
   "execution_count": null,
   "id": "a03a4ea9-c141-4656-be59-c0cf9230b626",
   "metadata": {},
   "outputs": [],
   "source": []
  },
  {
   "cell_type": "code",
   "execution_count": null,
   "id": "b475c3e6-2385-489f-8e02-60f6d1f1cd10",
   "metadata": {},
   "outputs": [],
   "source": []
  }
 ],
 "metadata": {
  "kernelspec": {
   "display_name": "python3",
   "language": "python",
   "name": "python3"
  }
 },
 "nbformat": 4,
 "nbformat_minor": 5
}
