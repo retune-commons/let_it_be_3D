{
 "cells": [
  {
   "cell_type": "code",
   "execution_count": null,
   "id": "WRX-jL-79fFJ",
   "metadata": {
    "id": "WRX-jL-79fFJ"
   },
   "outputs": [],
   "source": [
    "!pip install aniposelib\n",
    "!pip install imageio==2.19.3\n",
    "!pip install pip install aniposelib\n",
    "!pip install ffmpeg\n",
    "!pip install ffmpeg-python\n",
    "!pip install imageio-ffmpeg\n",
    "!pip install deeplabcut\n",
    "# restart runtime after this step!"
   ]
  },
  {
   "cell_type": "code",
   "execution_count": null,
   "id": "whwfjZxi6Y2p",
   "metadata": {
    "id": "whwfjZxi6Y2p"
   },
   "outputs": [],
   "source": [
    "from google.colab import drive\n",
    "\n",
    "drive.mount(\"/content/drive/\")\n",
    "import sys\n",
    "\n",
    "sys.path.insert(0, \"/content/drive/My Drive/Medizin/Shareable/\")"
   ]
  },
  {
   "cell_type": "code",
   "execution_count": null,
   "id": "0f2ec33e-8724-40c0-8cf1-7f9fbae03295",
   "metadata": {
    "id": "0f2ec33e-8724-40c0-8cf1-7f9fbae03295",
    "tags": []
   },
   "outputs": [],
   "source": [
    "from core.meta import meta_interface\n",
    "\n",
    "%matplotlib inline"
   ]
  },
  {
   "cell_type": "code",
   "execution_count": null,
   "id": "3140589d-1324-4469-a37a-94d96a917fca",
   "metadata": {
    "id": "5d56a5c6-066e-443b-a194-ad453f040f17",
    "tags": []
   },
   "outputs": [],
   "source": [
    "d = meta_interface(\n",
    "    project_config_filepath=\"/content/drive/My Drive/data/project_config_colab.yaml\"\n",
    ")\n",
    "d.add_recording_config('/content/drive/My Drive/let_it_be_3D/test_data/Server_structure/Calibrations/220922/recording_config_220922.yaml')\n",
    "d.initialize_meta_config()"
   ]
  },
  {
   "cell_type": "code",
   "execution_count": null,
   "id": "3a5c71ad-cfd1-437e-8191-9691f95cd0c1",
   "metadata": {
    "id": "3a5c71ad-cfd1-437e-8191-9691f95cd0c1",
    "tags": []
   },
   "outputs": [],
   "source": [
    "d.create_recordings(test_mode=True)"
   ]
  },
  {
   "cell_type": "code",
   "execution_count": null,
   "id": "715e09b9-673b-44df-af59-139eaeaf9d04",
   "metadata": {
    "id": "715e09b9-673b-44df-af59-139eaeaf9d04",
    "tags": []
   },
   "outputs": [],
   "source": [
    "d.synchronize_recordings(test_mode=True)"
   ]
  },
  {
   "cell_type": "code",
   "execution_count": null,
   "id": "bdca04fd-9e0c-4c6b-a4ee-6f2236be8b17",
   "metadata": {
    "id": "bdca04fd-9e0c-4c6b-a4ee-6f2236be8b17",
    "tags": []
   },
   "outputs": [],
   "source": [
    "d.create_calibrations(ground_truth_config_filepath=\"test_data/ground_truth_config.yaml\", test_mode=True)"
   ]
  },
  {
   "cell_type": "code",
   "execution_count": null,
   "id": "76663c1f-a516-4f43-9b33-5ad098a67fdd",
   "metadata": {
    "id": "76663c1f-a516-4f43-9b33-5ad098a67fdd",
    "tags": []
   },
   "outputs": [],
   "source": [
    "d.synchronize_calibrations(test_mode=True)"
   ]
  },
  {
   "cell_type": "code",
   "execution_count": null,
   "id": "ece5a619-2d48-4675-a397-341ab9c3715e",
   "metadata": {
    "id": "ece5a619-2d48-4675-a397-341ab9c3715e",
    "tags": []
   },
   "outputs": [],
   "source": [
    "d.calibrate(verbose=2, calibrate_optimal=True, test_mode=False)"
   ]
  },
  {
   "cell_type": "code",
   "execution_count": null,
   "id": "c5a557dd-fc29-4c05-bca1-17bace9e21b6",
   "metadata": {
    "id": "c5a557dd-fc29-4c05-bca1-17bace9e21b6",
    "tags": []
   },
   "outputs": [],
   "source": [
    "d.triangulate_recordings(test_mode=False)"
   ]
  },
  {
   "cell_type": "code",
   "execution_count": null,
   "id": "b9599b10-881b-42aa-b91d-06c3e219b0ad",
   "metadata": {
    "id": "b9599b10-881b-42aa-b91d-06c3e219b0ad"
   },
   "outputs": [],
   "source": []
  },
  {
   "cell_type": "code",
   "execution_count": null,
   "id": "4f75519e-a7c8-46f5-a072-efb98882c274",
   "metadata": {
    "id": "4f75519e-a7c8-46f5-a072-efb98882c274"
   },
   "outputs": [],
   "source": []
  },
  {
   "cell_type": "code",
   "execution_count": null,
   "id": "6c7a2e88-40d1-4998-9908-44ee286dfbcf",
   "metadata": {
    "id": "6c7a2e88-40d1-4998-9908-44ee286dfbcf"
   },
   "outputs": [],
   "source": []
  },
  {
   "cell_type": "code",
   "execution_count": null,
   "id": "eb82f9ae-1313-4b14-af25-f499573c81b8",
   "metadata": {
    "id": "eb82f9ae-1313-4b14-af25-f499573c81b8"
   },
   "outputs": [],
   "source": []
  },
  {
   "cell_type": "code",
   "execution_count": null,
   "id": "e63b59f6-9fa0-4a93-8f58-6fb4f0bc1f3f",
   "metadata": {
    "id": "e63b59f6-9fa0-4a93-8f58-6fb4f0bc1f3f"
   },
   "outputs": [],
   "source": []
  },
  {
   "cell_type": "code",
   "execution_count": null,
   "id": "4e3c2b0e-c8c4-46cd-bd2c-78323afc53f4",
   "metadata": {
    "id": "4e3c2b0e-c8c4-46cd-bd2c-78323afc53f4"
   },
   "outputs": [],
   "source": []
  },
  {
   "cell_type": "code",
   "execution_count": null,
   "id": "abd7d7a7-0777-461a-a3a9-576123ed19fe",
   "metadata": {
    "id": "abd7d7a7-0777-461a-a3a9-576123ed19fe"
   },
   "outputs": [],
   "source": []
  },
  {
   "cell_type": "code",
   "execution_count": null,
   "id": "228fa7ea-6470-4b26-8c03-0c7de4c3077e",
   "metadata": {
    "id": "228fa7ea-6470-4b26-8c03-0c7de4c3077e"
   },
   "outputs": [],
   "source": []
  },
  {
   "cell_type": "code",
   "execution_count": null,
   "id": "c24fdd4a",
   "metadata": {
    "id": "c24fdd4a"
   },
   "outputs": [],
   "source": [
    "from core.triangulation_calibration_module import (\n",
    "    Calibration,\n",
    "    Triangulation_Positions,\n",
    "    Triangulation_Recordings,\n",
    ")"
   ]
  },
  {
   "cell_type": "code",
   "execution_count": null,
   "id": "b13cae61",
   "metadata": {
    "id": "b13cae61",
    "scrolled": true,
    "tags": []
   },
   "outputs": [],
   "source": [
    "a = Calibration(\n",
    "    calibration_directory=\"/content/drive/My Drive/Medizin/Shareable/test_data/Server_structure/Calibrations/220826/\",\n",
    "    project_config_filepath=\"/content/drive/My Drive/Medizin/Shareable/test_data/project_config.yaml\",\n",
    "    recording_config_filepath=\"/content/drive/My Drive/Medizin/Shareable/test_data/Server_structure/Calibrations/220826/recording_config.yaml\",\n",
    "    output_directory=\"/content/drive/My Drive/Medizin/Shareable/test_data/Server_structure/Calibrations/220826/\",\n",
    ")"
   ]
  },
  {
   "cell_type": "code",
   "execution_count": null,
   "id": "628e3bb8-ce39-4733-83d8-89030428ee6b",
   "metadata": {
    "id": "628e3bb8-ce39-4733-83d8-89030428ee6b",
    "tags": []
   },
   "outputs": [],
   "source": [
    "a.run_synchronization()"
   ]
  },
  {
   "cell_type": "code",
   "execution_count": null,
   "id": "519526d5",
   "metadata": {
    "id": "519526d5",
    "scrolled": true,
    "tags": []
   },
   "outputs": [],
   "source": [
    "a.run_calibration(verbose=True)"
   ]
  },
  {
   "cell_type": "code",
   "execution_count": null,
   "id": "c67ac275",
   "metadata": {
    "id": "c67ac275"
   },
   "outputs": [],
   "source": [
    "b = Triangulation_Recordings(\n",
    "    recording_directory=\"test_data/Server_structure/VGlut2-flp/September2022/196_F7-27/220826_OTT/\",\n",
    "    calibration_directory=\"test_data/Server_structure/Calibrations/220826/\",\n",
    "    recording_config_filepath=\"test_data/Server_structure/Calibrations/220826/recording_config.yaml\",\n",
    "    project_config_filepath=\"test_data/project_config.yaml\",\n",
    "    output_directory=\"test_data/Server_structure/VGlut2-flp/September2022/196_F7-27/220826_OTT/\",\n",
    ")"
   ]
  },
  {
   "cell_type": "code",
   "execution_count": null,
   "id": "f7e34efe-dc61-4ed2-bb6d-9e6acdfe1d59",
   "metadata": {
    "id": "f7e34efe-dc61-4ed2-bb6d-9e6acdfe1d59"
   },
   "outputs": [],
   "source": [
    "b.run_synchronization()"
   ]
  },
  {
   "cell_type": "code",
   "execution_count": null,
   "id": "fb2aabbb",
   "metadata": {
    "id": "fb2aabbb",
    "scrolled": true
   },
   "outputs": [],
   "source": [
    "b.run_triangulation(\n",
    "    calibration_toml_filepath=\"test_data/Server_structure/Calibrations/220826/calibration_220826.toml\"\n",
    ")"
   ]
  },
  {
   "cell_type": "code",
   "execution_count": null,
   "id": "a0b1927d-a532-4206-9c57-daeb0553a5a5",
   "metadata": {
    "id": "a0b1927d-a532-4206-9c57-daeb0553a5a5"
   },
   "outputs": [],
   "source": [
    "c = Triangulation_Positions(\n",
    "    positions_directory=\"test_data/Server_structure/Calibrations/220826/\",\n",
    "    calibration_directory=\"test_data/Server_structure/Calibrations/220826/\",\n",
    "    recording_config_filepath=\"test_data/Server_structure/Calibrations/220826/recording_config.yaml\",\n",
    "    project_config_filepath=\"test_data/project_config.yaml\",\n",
    "    output_directory=\"test_data/Server_structure/Calibrations/220826/\",\n",
    ")"
   ]
  },
  {
   "cell_type": "code",
   "execution_count": null,
   "id": "fb8f9bb3-8578-4703-8562-6e12f0c26d2b",
   "metadata": {
    "id": "fb8f9bb3-8578-4703-8562-6e12f0c26d2b",
    "tags": []
   },
   "outputs": [],
   "source": [
    "c.get_marker_predictions()"
   ]
  },
  {
   "cell_type": "code",
   "execution_count": null,
   "id": "e96eaf92-545f-40a1-897d-76b5cd38b978",
   "metadata": {
    "id": "e96eaf92-545f-40a1-897d-76b5cd38b978"
   },
   "outputs": [],
   "source": [
    "c.run_triangulation(\n",
    "    calibration_toml_filepath=\"test_data/Server_structure/Calibrations/220826/calibration_220826.toml\"\n",
    ")"
   ]
  },
  {
   "cell_type": "code",
   "execution_count": null,
   "id": "5ea35e8d-2332-4cf2-adce-e16a1b98594f",
   "metadata": {
    "id": "5ea35e8d-2332-4cf2-adce-e16a1b98594f"
   },
   "outputs": [],
   "source": []
  },
  {
   "cell_type": "code",
   "execution_count": null,
   "id": "a03a4ea9-c141-4656-be59-c0cf9230b626",
   "metadata": {
    "id": "a03a4ea9-c141-4656-be59-c0cf9230b626"
   },
   "outputs": [],
   "source": []
  },
  {
   "cell_type": "code",
   "execution_count": null,
   "id": "b475c3e6-2385-489f-8e02-60f6d1f1cd10",
   "metadata": {
    "id": "b475c3e6-2385-489f-8e02-60f6d1f1cd10"
   },
   "outputs": [],
   "source": []
  }
 ],
 "metadata": {
  "accelerator": "GPU",
  "colab": {
   "provenance": []
  },
  "gpuClass": "standard",
  "kernelspec": {
   "display_name": "Python 3 (ipykernel)",
   "language": "python",
   "name": "python3"
  },
  "language_info": {
   "codemirror_mode": {
    "name": "ipython",
    "version": 3
   },
   "file_extension": ".py",
   "mimetype": "text/x-python",
   "name": "python",
   "nbconvert_exporter": "python",
   "pygments_lexer": "ipython3",
   "version": "3.9.16"
  }
 },
 "nbformat": 4,
 "nbformat_minor": 5
}
