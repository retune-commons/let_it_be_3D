{
 "cells": [
  {
   "cell_type": "code",
   "execution_count": null,
   "id": "ec72be32-1f22-4a2a-b4a3-7bd9019beeb3",
   "metadata": {},
   "outputs": [],
   "source": [
    "import pandas as pd\n",
    "from pathlib import Path"
   ]
  },
  {
   "cell_type": "code",
   "execution_count": null,
   "id": "b208182f-4a06-43cb-b38c-3ea9dc0c753b",
   "metadata": {},
   "outputs": [],
   "source": [
    "def convert_marker_id(marker_id: str) -> str:\n",
    "    adapted_marker_id = ''\n",
    "    marker_id_splits = marker_id.split('_')\n",
    "    for split in marker_id_splits:\n",
    "        adapted_marker_id += split.capitalize()\n",
    "    return adapted_marker_id"
   ]
  },
  {
   "cell_type": "code",
   "execution_count": null,
   "id": "c28629c3-9edc-4272-abd1-50c1f366ba87",
   "metadata": {},
   "outputs": [],
   "source": [
    "def convert_marker_ids_in_h5_files_to_camelcase(h5_filepath: Path) -> None:\n",
    "    df = pd.read_hdf(h5_filepath)\n",
    "    nested_lists = [[], [], []]\n",
    "    for scorer, marker_id, column_name in df.columns:\n",
    "        adapted_marker_id = convert_marker_id(marker_id = marker_id)\n",
    "        nested_lists[0].append(scorer)\n",
    "        nested_lists[1].append(adapted_marker_id)\n",
    "        nested_lists[2].append(column_name)\n",
    "    df.columns = pd.MultiIndex.from_arrays(nested_lists, names=('scorer', 'bodyparts', 'coords'))\n",
    "    df.to_hdf(h5_filepath, \"df\")"
   ]
  },
  {
   "cell_type": "code",
   "execution_count": null,
   "id": "cbfa0189-6b7f-4710-b561-aa28e00f1082",
   "metadata": {},
   "outputs": [],
   "source": [
    "h5_filepath = Path('test_data/evaluate_calibration/Side2_manual_test_position_marker_fake.h5')"
   ]
  },
  {
   "cell_type": "code",
   "execution_count": null,
   "id": "6c513309-26b1-47e2-ad08-2589710e3d51",
   "metadata": {},
   "outputs": [],
   "source": [
    "# running this will overwrite the h5 file with marker ids converted into CamelCase\n",
    "convert_marker_ids_in_h5_files_to_camelcase(h5_filepath)"
   ]
  }
 ],
 "metadata": {
  "kernelspec": {
   "display_name": "Python 3 (ipykernel)",
   "language": "python",
   "name": "python3"
  },
  "language_info": {
   "codemirror_mode": {
    "name": "ipython",
    "version": 3
   },
   "file_extension": ".py",
   "mimetype": "text/x-python",
   "name": "python",
   "nbconvert_exporter": "python",
   "pygments_lexer": "ipython3",
   "version": "3.7.13"
  }
 },
 "nbformat": 4,
 "nbformat_minor": 5
}
