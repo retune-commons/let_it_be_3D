{
 "cells": [
  {
   "cell_type": "markdown",
   "id": "3c01515e-0093-45fa-a21c-5179610717fa",
   "metadata": {},
   "source": [
    "## To run the pipeline:\n",
    "##### in general: test_mode is a boolean argument, that speeds up all processes by using pre-existing data if found.\n",
    "##### for a real analysis or to overwrite pre-existing files, you should set test_mode to False"
   ]
  },
  {
   "cell_type": "code",
   "execution_count": null,
   "id": "0f2ec33e-8724-40c0-8cf1-7f9fbae03295",
   "metadata": {},
   "outputs": [],
   "source": [
    "from core.meta import meta_interface"
   ]
  },
  {
   "cell_type": "markdown",
   "id": "cd0c6b80-c3cd-4100-a76f-034258c1c951",
   "metadata": {},
   "source": [
    "##### overwrite: bool whether to overwrite the meta.yaml at the given project_name or if existing appending the project_name by _01"
   ]
  },
  {
   "cell_type": "code",
   "execution_count": null,
   "id": "f059c912-24ee-4975-9e0b-c23212f6a10a",
   "metadata": {},
   "outputs": [],
   "source": [
    "d = meta_interface(\n",
    "    project_config_filepath=\"test_data/project_config.yaml\",\n",
    "    project_name=\"test_data\",\n",
    "    overwrite=True,\n",
    ")"
   ]
  },
  {
   "cell_type": "code",
   "execution_count": null,
   "id": "6dabb529-8cb0-4931-8b12-8def470a287f",
   "metadata": {},
   "outputs": [],
   "source": [
    "d.add_recording_config(\"test_data/Server_structure/Calibrations/220922/recording_config_220922.yaml\")"
   ]
  },
  {
   "cell_type": "code",
   "execution_count": null,
   "id": "94876f1b-330a-4ba3-8044-0f4fa56e7ea6",
   "metadata": {},
   "outputs": [
    {
     "name": "stdout",
     "output_type": "stream",
     "text": [
      "Found 1 recordings at recording day 220922!\n"
     ]
    }
   ],
   "source": [
    "d.initialize_meta_config()"
   ]
  },
  {
   "cell_type": "markdown",
   "id": "3ecb5ba9-4d40-455d-adbc-568bcdbea537",
   "metadata": {},
   "source": [
    "#### creates undistorted images per cam and reads metadata\n",
    "##### test_mode = True doesnt save the undistorted images"
   ]
  },
  {
   "cell_type": "code",
   "execution_count": null,
   "id": "ca93a065-918a-4682-81f6-9999990f7194",
   "metadata": {},
   "outputs": [
    {
     "ename": "AttributeError",
     "evalue": "'Reader' object has no attribute 'count_frames'",
     "output_type": "error",
     "traceback": [
      "\u001b[0;31m---------------------------------------------------------------------------\u001b[0m",
      "\u001b[0;31mAttributeError\u001b[0m                            Traceback (most recent call last)",
      "Cell \u001b[0;32mIn[5], line 1\u001b[0m\n\u001b[0;32m----> 1\u001b[0m \u001b[43md\u001b[49m\u001b[38;5;241;43m.\u001b[39;49m\u001b[43mcreate_recordings\u001b[49m\u001b[43m(\u001b[49m\u001b[43mtest_mode\u001b[49m\u001b[38;5;241;43m=\u001b[39;49m\u001b[38;5;28;43;01mTrue\u001b[39;49;00m\u001b[43m)\u001b[49m\n",
      "File \u001b[0;32m~/let_it_be_3D/core/meta.py:120\u001b[0m, in \u001b[0;36mmeta_interface.create_recordings\u001b[0;34m(self, test_mode)\u001b[0m\n\u001b[1;32m    116\u001b[0m \u001b[38;5;28;01mfor\u001b[39;00m recording_day \u001b[38;5;129;01min\u001b[39;00m \u001b[38;5;28mself\u001b[39m\u001b[38;5;241m.\u001b[39mmeta[\u001b[38;5;124m\"\u001b[39m\u001b[38;5;124mrecording_days\u001b[39m\u001b[38;5;124m\"\u001b[39m]:\n\u001b[1;32m    117\u001b[0m     \u001b[38;5;28;01mfor\u001b[39;00m recording \u001b[38;5;129;01min\u001b[39;00m \u001b[38;5;28mself\u001b[39m\u001b[38;5;241m.\u001b[39mmeta[\u001b[38;5;124m\"\u001b[39m\u001b[38;5;124mrecording_days\u001b[39m\u001b[38;5;124m\"\u001b[39m][recording_day][\n\u001b[1;32m    118\u001b[0m         \u001b[38;5;124m\"\u001b[39m\u001b[38;5;124mrecording_directories\u001b[39m\u001b[38;5;124m\"\u001b[39m\n\u001b[1;32m    119\u001b[0m     ]:\n\u001b[0;32m--> 120\u001b[0m         triangulation_recordings_object \u001b[38;5;241m=\u001b[39m \u001b[43mTriangulationRecordings\u001b[49m\u001b[43m(\u001b[49m\n\u001b[1;32m    121\u001b[0m \u001b[43m            \u001b[49m\u001b[43mdirectory\u001b[49m\u001b[38;5;241;43m=\u001b[39;49m\u001b[43mPath\u001b[49m\u001b[43m(\u001b[49m\u001b[43mrecording\u001b[49m\u001b[43m)\u001b[49m\u001b[43m,\u001b[49m\n\u001b[1;32m    122\u001b[0m \u001b[43m            \u001b[49m\u001b[43mrecording_config_filepath\u001b[49m\u001b[38;5;241;43m=\u001b[39;49m\u001b[38;5;28;43mself\u001b[39;49m\u001b[38;5;241;43m.\u001b[39;49m\u001b[43mmeta\u001b[49m\u001b[43m[\u001b[49m\u001b[38;5;124;43m\"\u001b[39;49m\u001b[38;5;124;43mrecording_days\u001b[39;49m\u001b[38;5;124;43m\"\u001b[39;49m\u001b[43m]\u001b[49m\u001b[43m[\u001b[49m\n\u001b[1;32m    123\u001b[0m \u001b[43m                \u001b[49m\u001b[43mrecording_day\u001b[49m\n\u001b[1;32m    124\u001b[0m \u001b[43m            \u001b[49m\u001b[43m]\u001b[49m\u001b[43m[\u001b[49m\u001b[38;5;124;43m\"\u001b[39;49m\u001b[38;5;124;43mrecording_config_filepath\u001b[39;49m\u001b[38;5;124;43m\"\u001b[39;49m\u001b[43m]\u001b[49m\u001b[43m,\u001b[49m\n\u001b[1;32m    125\u001b[0m \u001b[43m            \u001b[49m\u001b[43mproject_config_filepath\u001b[49m\u001b[38;5;241;43m=\u001b[39;49m\u001b[38;5;28;43mself\u001b[39;49m\u001b[38;5;241;43m.\u001b[39;49m\u001b[43mmeta\u001b[49m\u001b[43m[\u001b[49m\u001b[38;5;124;43m\"\u001b[39;49m\u001b[38;5;124;43mproject_config_filepath\u001b[39;49m\u001b[38;5;124;43m\"\u001b[39;49m\u001b[43m]\u001b[49m\u001b[43m,\u001b[49m\n\u001b[1;32m    126\u001b[0m \u001b[43m            \u001b[49m\u001b[43moutput_directory\u001b[49m\u001b[38;5;241;43m=\u001b[39;49m\u001b[43mrecording\u001b[49m\u001b[43m,\u001b[49m\n\u001b[1;32m    127\u001b[0m \u001b[43m            \u001b[49m\u001b[43mtest_mode\u001b[49m\u001b[38;5;241;43m=\u001b[39;49m\u001b[43mtest_mode\u001b[49m\u001b[43m,\u001b[49m\n\u001b[1;32m    128\u001b[0m \u001b[43m            \u001b[49m\u001b[43mvideometadata_tag\u001b[49m\u001b[38;5;241;43m=\u001b[39;49m\u001b[38;5;124;43m\"\u001b[39;49m\u001b[38;5;124;43mrecording\u001b[39;49m\u001b[38;5;124;43m\"\u001b[39;49m\u001b[43m,\u001b[49m\n\u001b[1;32m    129\u001b[0m \u001b[43m        \u001b[49m\u001b[43m)\u001b[49m\n\u001b[1;32m    130\u001b[0m         individual_key \u001b[38;5;241m=\u001b[39m \u001b[38;5;124mf\u001b[39m\u001b[38;5;124m\"\u001b[39m\u001b[38;5;132;01m{\u001b[39;00mtriangulation_recordings_object\u001b[38;5;241m.\u001b[39mmouse_id\u001b[38;5;132;01m}\u001b[39;00m\u001b[38;5;124m_\u001b[39m\u001b[38;5;132;01m{\u001b[39;00mtriangulation_recordings_object\u001b[38;5;241m.\u001b[39mrecording_date\u001b[38;5;132;01m}\u001b[39;00m\u001b[38;5;124m_\u001b[39m\u001b[38;5;132;01m{\u001b[39;00mtriangulation_recordings_object\u001b[38;5;241m.\u001b[39mparadigm\u001b[38;5;132;01m}\u001b[39;00m\u001b[38;5;124m\"\u001b[39m\n\u001b[1;32m    131\u001b[0m         videos \u001b[38;5;241m=\u001b[39m {\n\u001b[1;32m    132\u001b[0m             video: \u001b[38;5;28mself\u001b[39m\u001b[38;5;241m.\u001b[39m_create_video_dict(\n\u001b[1;32m    133\u001b[0m                 video\u001b[38;5;241m=\u001b[39mtriangulation_recordings_object\u001b[38;5;241m.\u001b[39mmetadata_from_videos[\n\u001b[0;32m   (...)\u001b[0m\n\u001b[1;32m    137\u001b[0m             \u001b[38;5;28;01mfor\u001b[39;00m video \u001b[38;5;129;01min\u001b[39;00m triangulation_recordings_object\u001b[38;5;241m.\u001b[39mmetadata_from_videos\n\u001b[1;32m    138\u001b[0m         }\n",
      "File \u001b[0;32m~/let_it_be_3D/core/triangulation_calibration_module.py:553\u001b[0m, in \u001b[0;36mTriangulation.__init__\u001b[0;34m(self, project_config_filepath, directory, recording_config_filepath, videometadata_tag, test_mode, output_directory, ground_truth_config_filepath)\u001b[0m\n\u001b[1;32m    550\u001b[0m \u001b[38;5;28mself\u001b[39m\u001b[38;5;241m.\u001b[39mtriangulation_type \u001b[38;5;241m=\u001b[39m project_config_dict[\u001b[38;5;124m\"\u001b[39m\u001b[38;5;124mtriangulation_type\u001b[39m\u001b[38;5;124m\"\u001b[39m]\n\u001b[1;32m    551\u001b[0m \u001b[38;5;28mself\u001b[39m\u001b[38;5;241m.\u001b[39mallowed_num_diverging_frames \u001b[38;5;241m=\u001b[39m project_config_dict[\u001b[38;5;124m\"\u001b[39m\u001b[38;5;124mallowed_num_diverging_frames\u001b[39m\u001b[38;5;124m\"\u001b[39m]\n\u001b[0;32m--> 553\u001b[0m \u001b[38;5;28mself\u001b[39m\u001b[38;5;241m.\u001b[39mvideo_interfaces, \u001b[38;5;28mself\u001b[39m\u001b[38;5;241m.\u001b[39mmetadata_from_videos \u001b[38;5;241m=\u001b[39m \u001b[43m_create_video_objects\u001b[49m\u001b[43m(\u001b[49m\n\u001b[1;32m    554\u001b[0m \u001b[43m    \u001b[49m\u001b[43mdirectory\u001b[49m\u001b[38;5;241;43m=\u001b[39;49m\u001b[38;5;28;43mself\u001b[39;49m\u001b[38;5;241;43m.\u001b[39;49m\u001b[43mdirectory\u001b[49m\u001b[43m,\u001b[49m\n\u001b[1;32m    555\u001b[0m \u001b[43m    \u001b[49m\u001b[43mrecording_config_dict\u001b[49m\u001b[38;5;241;43m=\u001b[39;49m\u001b[43mrecording_config_dict\u001b[49m\u001b[43m,\u001b[49m\n\u001b[1;32m    556\u001b[0m \u001b[43m    \u001b[49m\u001b[43mproject_config_dict\u001b[49m\u001b[38;5;241;43m=\u001b[39;49m\u001b[43mproject_config_dict\u001b[49m\u001b[43m,\u001b[49m\n\u001b[1;32m    557\u001b[0m \u001b[43m    \u001b[49m\u001b[43mvideometadata_tag\u001b[49m\u001b[38;5;241;43m=\u001b[39;49m\u001b[43mvideometadata_tag\u001b[49m\u001b[43m,\u001b[49m\n\u001b[1;32m    558\u001b[0m \u001b[43m    \u001b[49m\u001b[43moutput_directory\u001b[49m\u001b[38;5;241;43m=\u001b[39;49m\u001b[38;5;28;43mself\u001b[39;49m\u001b[38;5;241;43m.\u001b[39;49m\u001b[43moutput_directory\u001b[49m\u001b[43m,\u001b[49m\n\u001b[1;32m    559\u001b[0m \u001b[43m    \u001b[49m\u001b[43mfilename_tag\u001b[49m\u001b[38;5;241;43m=\u001b[39;49m\u001b[38;5;28;43mself\u001b[39;49m\u001b[38;5;241;43m.\u001b[39;49m\u001b[43mcalibration_validation_tag\u001b[49m\u001b[43m \u001b[49m\u001b[38;5;28;43;01mif\u001b[39;49;00m\u001b[43m \u001b[49m\u001b[43mvideometadata_tag\u001b[49m\u001b[43m \u001b[49m\u001b[38;5;241;43m==\u001b[39;49m\u001b[43m \u001b[49m\u001b[38;5;124;43m\"\u001b[39;49m\u001b[38;5;124;43mcalvin\u001b[39;49m\u001b[38;5;124;43m\"\u001b[39;49m\u001b[43m \u001b[49m\u001b[38;5;28;43;01melse\u001b[39;49;00m\u001b[43m \u001b[49m\u001b[38;5;124;43m\"\u001b[39;49m\u001b[38;5;124;43m\"\u001b[39;49m\u001b[43m,\u001b[49m\n\u001b[1;32m    560\u001b[0m \u001b[43m    \u001b[49m\u001b[43mtest_mode\u001b[49m\u001b[38;5;241;43m=\u001b[39;49m\u001b[43mtest_mode\u001b[49m\u001b[43m,\u001b[49m\n\u001b[1;32m    561\u001b[0m \u001b[43m\u001b[49m\u001b[43m)\u001b[49m\n\u001b[1;32m    563\u001b[0m \u001b[38;5;28;01mif\u001b[39;00m videometadata_tag \u001b[38;5;241m==\u001b[39m \u001b[38;5;124m\"\u001b[39m\u001b[38;5;124mcalvin\u001b[39m\u001b[38;5;124m\"\u001b[39m:\n\u001b[1;32m    564\u001b[0m     \u001b[38;5;28mself\u001b[39m\u001b[38;5;241m.\u001b[39mrecording_date, \u001b[38;5;241m*\u001b[39m_ \u001b[38;5;241m=\u001b[39m _validate_and_save_metadata_for_recording(\n\u001b[1;32m    565\u001b[0m         metadata_from_videos\u001b[38;5;241m=\u001b[39m\u001b[38;5;28mself\u001b[39m\u001b[38;5;241m.\u001b[39mmetadata_from_videos, attributes_to_check\u001b[38;5;241m=\u001b[39m[\u001b[38;5;124m'\u001b[39m\u001b[38;5;124mrecording_date\u001b[39m\u001b[38;5;124m'\u001b[39m])\n",
      "File \u001b[0;32m~/let_it_be_3D/core/triangulation_calibration_module.py:196\u001b[0m, in \u001b[0;36m_create_video_objects\u001b[0;34m(directory, recording_config_dict, project_config_dict, videometadata_tag, output_directory, filename_tag, test_mode)\u001b[0m\n\u001b[1;32m    194\u001b[0m metadata_from_videos \u001b[38;5;241m=\u001b[39m {}\n\u001b[1;32m    195\u001b[0m \u001b[38;5;28;01mfor\u001b[39;00m filepath \u001b[38;5;129;01min\u001b[39;00m videofiles:\n\u001b[0;32m--> 196\u001b[0m     video_metadata \u001b[38;5;241m=\u001b[39m \u001b[43mVideoMetadata\u001b[49m\u001b[43m(\u001b[49m\n\u001b[1;32m    197\u001b[0m \u001b[43m        \u001b[49m\u001b[43mvideo_filepath\u001b[49m\u001b[38;5;241;43m=\u001b[39;49m\u001b[43mfilepath\u001b[49m\u001b[43m,\u001b[49m\n\u001b[1;32m    198\u001b[0m \u001b[43m        \u001b[49m\u001b[43mrecording_config_dict\u001b[49m\u001b[38;5;241;43m=\u001b[39;49m\u001b[43mrecording_config_dict\u001b[49m\u001b[43m,\u001b[49m\n\u001b[1;32m    199\u001b[0m \u001b[43m        \u001b[49m\u001b[43mproject_config_dict\u001b[49m\u001b[38;5;241;43m=\u001b[39;49m\u001b[43mproject_config_dict\u001b[49m\u001b[43m,\u001b[49m\n\u001b[1;32m    200\u001b[0m \u001b[43m        \u001b[49m\u001b[43mtag\u001b[49m\u001b[38;5;241;43m=\u001b[39;49m\u001b[43mvideometadata_tag\u001b[49m\u001b[43m,\u001b[49m\n\u001b[1;32m    201\u001b[0m \u001b[43m    \u001b[49m\u001b[43m)\u001b[49m\n\u001b[1;32m    203\u001b[0m     video_interfaces[video_metadata\u001b[38;5;241m.\u001b[39mcam_id] \u001b[38;5;241m=\u001b[39m VideoInterface(\n\u001b[1;32m    204\u001b[0m         video_metadata\u001b[38;5;241m=\u001b[39mvideo_metadata,\n\u001b[1;32m    205\u001b[0m         output_dir\u001b[38;5;241m=\u001b[39moutput_directory,\n\u001b[1;32m    206\u001b[0m         test_mode\u001b[38;5;241m=\u001b[39mtest_mode,\n\u001b[1;32m    207\u001b[0m     )\n\u001b[1;32m    208\u001b[0m     metadata_from_videos[video_metadata\u001b[38;5;241m.\u001b[39mcam_id] \u001b[38;5;241m=\u001b[39m video_metadata\n",
      "File \u001b[0;32m~/let_it_be_3D/core/video_metadata.py:49\u001b[0m, in \u001b[0;36mVideoMetadata.__init__\u001b[0;34m(self, video_filepath, recording_config_dict, project_config_dict, tag)\u001b[0m\n\u001b[1;32m     47\u001b[0m     \u001b[38;5;28mself\u001b[39m\u001b[38;5;241m.\u001b[39mframenum \u001b[38;5;241m=\u001b[39m \u001b[38;5;241m1\u001b[39m\n\u001b[1;32m     48\u001b[0m \u001b[38;5;28;01melse\u001b[39;00m:\n\u001b[0;32m---> 49\u001b[0m     \u001b[38;5;28mself\u001b[39m\u001b[38;5;241m.\u001b[39mframenum \u001b[38;5;241m=\u001b[39m \u001b[43miio\u001b[49m\u001b[38;5;241;43m.\u001b[39;49m\u001b[43mv2\u001b[49m\u001b[38;5;241;43m.\u001b[39;49m\u001b[43mget_reader\u001b[49m\u001b[43m(\u001b[49m\u001b[43mvideo_filepath\u001b[49m\u001b[43m)\u001b[49m\u001b[38;5;241;43m.\u001b[39;49m\u001b[43mcount_frames\u001b[49m()\n",
      "\u001b[0;31mAttributeError\u001b[0m: 'Reader' object has no attribute 'count_frames'"
     ]
    }
   ],
   "source": [
    "d.create_recordings(test_mode=True)"
   ]
  },
  {
   "cell_type": "markdown",
   "id": "d4f0e9e5-9919-43c9-b2ab-b0b86db2bfe7",
   "metadata": {},
   "source": [
    "#### runs synchronisation and DLC analysis\n",
    "##### test_mode=True doesn't overwrite already existing synchronized/analysed files\n",
    "##### synchronize_only=True doesn't DLC analyse files\n",
    "##### verbose=True prints the duration of one recording analysis"
   ]
  },
  {
   "cell_type": "code",
   "execution_count": null,
   "id": "715e09b9-673b-44df-af59-139eaeaf9d04",
   "metadata": {},
   "outputs": [],
   "source": [
    "d.synchronize_recordings(verbose=True, test_mode=True)"
   ]
  },
  {
   "cell_type": "markdown",
   "id": "6ad91ebe-1183-480c-b056-3372f24ed204",
   "metadata": {},
   "source": [
    "#### creates undistorted images per cam and reads metadata\n",
    "##### test_mode = True doesnt save the undistorted images"
   ]
  },
  {
   "cell_type": "code",
   "execution_count": null,
   "id": "bdca04fd-9e0c-4c6b-a4ee-6f2236be8b17",
   "metadata": {},
   "outputs": [],
   "source": [
    "d.create_calibrations(\n",
    "    ground_truth_config_filepath=\"test_data/ground_truth_config_only_corners.yaml\", test_mode=True\n",
    ")"
   ]
  },
  {
   "cell_type": "markdown",
   "id": "cbf2cd00-5790-4a7f-a9fa-b7bf3bd2c63e",
   "metadata": {},
   "source": [
    "#### runs synchronisation\n",
    "##### test_mode=True doesn't overwrite already existing synchronized videos"
   ]
  },
  {
   "cell_type": "code",
   "execution_count": null,
   "id": "76663c1f-a516-4f43-9b33-5ad098a67fdd",
   "metadata": {},
   "outputs": [],
   "source": [
    "d.synchronize_calibrations(test_mode=True)"
   ]
  },
  {
   "cell_type": "code",
   "execution_count": null,
   "id": "f866e009-23ed-4dc6-a61b-61fa044576fc",
   "metadata": {},
   "outputs": [],
   "source": [
    "d.exclude_markers(all_markers_to_exclude_config_path = \"test_data/markers_to_exclude_config.yaml\", verbose=False)"
   ]
  },
  {
   "cell_type": "markdown",
   "id": "cf9f3320-52ea-4c02-be9b-b9bc97bb58c2",
   "metadata": {},
   "source": [
    "#### Anipose calibration\n",
    "##### calibrate_optimal = True uses calibration_validation for repeated calibrations\n",
    "##### verbose > 1 shows aniposelib output. verbose > 0 shows Calibration_validation output. verbose = 0 doesnt show any output"
   ]
  },
  {
   "cell_type": "code",
   "execution_count": null,
   "id": "ece5a619-2d48-4675-a397-341ab9c3715e",
   "metadata": {},
   "outputs": [],
   "source": [
    "d.calibrate(verbose=2, calibrate_optimal=True, test_mode=True)"
   ]
  },
  {
   "cell_type": "code",
   "execution_count": null,
   "id": "c5a557dd-fc29-4c05-bca1-17bace9e21b6",
   "metadata": {},
   "outputs": [],
   "source": [
    "d.triangulate_recordings(test_mode=True)"
   ]
  },
  {
   "cell_type": "code",
   "execution_count": null,
   "id": "bc17b86d-931d-47e3-995d-a04b397c515d",
   "metadata": {},
   "outputs": [],
   "source": [
    "d.normalize_recordings(normalization_config_path=\"test_data/normalization_config.yaml\", test_mode = True)"
   ]
  },
  {
   "cell_type": "code",
   "execution_count": null,
   "id": "5ac4121f-94d2-4660-85ff-369ab21253ae",
   "metadata": {},
   "outputs": [],
   "source": [
    "d.objects[\"triangulation_recordings_objects\"][\n",
    "    \"206_F2-63_220922_OTE\"\n",
    "].create_triangulated_video(\"test_video\", \"test_data/video_plotting_config_OTE.yaml\")"
   ]
  },
  {
   "cell_type": "code",
   "execution_count": null,
   "id": "fd186e0b-a3c5-412d-b178-fb0d7d8194c6",
   "metadata": {},
   "outputs": [],
   "source": []
  },
  {
   "cell_type": "code",
   "execution_count": null,
   "id": "673077fa-53bb-46a2-bd67-b0a1743b694d",
   "metadata": {},
   "outputs": [],
   "source": []
  },
  {
   "cell_type": "markdown",
   "id": "252986f6-f34f-4005-9f61-ea1912656d17",
   "metadata": {},
   "source": [
    "#### Add metadata to database"
   ]
  },
  {
   "cell_type": "code",
   "execution_count": null,
   "id": "9be1faf4-a20c-4012-bfb0-faa21af1459e",
   "metadata": {},
   "outputs": [],
   "source": [
    "# create empty database\n",
    "import pandas as pd\n",
    "\n",
    "df = pd.DataFrame(\n",
    "    {},\n",
    "    columns=[\n",
    "        \"recording\",\n",
    "        \"date\",\n",
    "        \"session_id\",\n",
    "        \"paradigm\",\n",
    "        \"subject_id\",\n",
    "        \"group_id\",\n",
    "        \"batch\",\n",
    "        \"trial_id\",\n",
    "    ],\n",
    ")\n",
    "df.to_csv(\"test.csv\", index=False)"
   ]
  },
  {
   "cell_type": "code",
   "execution_count": null,
   "id": "38d0267f-9d49-4a64-acf2-95887e50da0f",
   "metadata": {},
   "outputs": [],
   "source": [
    "# add recording, date, paradigm, subject id\n",
    "d.add_triangulated_csv_to_database(\"test.csv\")"
   ]
  },
  {
   "cell_type": "code",
   "execution_count": null,
   "id": "030cb8d4-8ca2-4474-b78a-ee2dea89ccec",
   "metadata": {},
   "outputs": [],
   "source": [
    "# add group id, session id, batch, trial id\n",
    "def add_database_metadata(recording, overwrite=False) -> None:\n",
    "    old_df = pd.read_csv(database, dtype=\"str\")\n",
    "    if (\n",
    "        old_df.loc[\n",
    "            old_df[\"recording\"] == recording,\n",
    "            [\"session_id\", \"group_id\", \"batch\", \"trial_id\"],\n",
    "        ]\n",
    "        .isna()\n",
    "        .any(axis=1)\n",
    "        .values[0]\n",
    "        or overwrite\n",
    "    ):\n",
    "        subject_id = old_df.loc[old_df[\"recording\"] == recording, \"subject_id\"].values[\n",
    "            0\n",
    "        ]\n",
    "        recording_date = old_df.loc[old_df[\"recording\"] == recording, \"date\"].values[0]\n",
    "\n",
    "        try:\n",
    "            batch = groups.loc[groups[\"subject_id\"] == subject_id, \"batch\"].values[0]\n",
    "        except IndexError:\n",
    "            raise ValueError(f\"Found no group identity for {subject_id}!\")\n",
    "        group = groups.loc[groups[\"subject_id\"] == subject_id, \"group_id\"].values[0]\n",
    "        try:\n",
    "            session = (\n",
    "                time.loc[time[\"batch\"] == str(batch),]\n",
    "                .loc[time[\"date\"] == recording_date, \"session_id\"]\n",
    "                .values[0]\n",
    "            )\n",
    "        except IndexError:\n",
    "            raise ValueError(f\"Found no session identity for {subject_id}!\")\n",
    "        trial_id = (\n",
    "            time.loc[time[\"batch\"] == batch,]\n",
    "            .loc[time[\"date\"] == recording_date, \"trial_id\"]\n",
    "            .values[0]\n",
    "        )\n",
    "\n",
    "        old_df.loc[\n",
    "            old_df[\"recording\"] == recording,\n",
    "            [\"group_id\", \"batch\", \"session_id\", \"trial_id\"],\n",
    "        ] = (group, batch, session, trial_id)\n",
    "        old_df.to_csv(database, index=False)\n",
    "    else:\n",
    "        print(\"metadata was already in csv!\")\n",
    "\n",
    "\n",
    "time = pd.read_csv(\"time.csv\", dtype=\"str\")\n",
    "groups = pd.read_csv(\"groups.csv\", dtype=\"str\")\n",
    "database = \"test.csv\"\n",
    "\n",
    "for recording in pd.read_csv(database, dtype=\"str\")[\"recording\"].values:\n",
    "    add_database_metadata(recording, overwrite=False)"
   ]
  },
  {
   "cell_type": "code",
   "execution_count": null,
   "id": "fc484c4e-18f0-46c0-bef9-e81e9cf1d7d7",
   "metadata": {},
   "outputs": [],
   "source": [
    "pd.read_csv(\"test.csv\")"
   ]
  },
  {
   "cell_type": "code",
   "execution_count": null,
   "id": "490d4c8a-a254-4c12-b764-e7a6fb3e46f6",
   "metadata": {},
   "outputs": [],
   "source": []
  },
  {
   "cell_type": "code",
   "execution_count": null,
   "id": "4df21442-d8ec-4a7f-bb6d-21016b9c8342",
   "metadata": {},
   "outputs": [],
   "source": []
  },
  {
   "cell_type": "code",
   "execution_count": null,
   "id": "a75954f5-6c80-47cb-ba0b-601d352a240e",
   "metadata": {},
   "outputs": [],
   "source": []
  },
  {
   "cell_type": "markdown",
   "id": "b2fff393-26e2-4592-85e7-44503f647550",
   "metadata": {},
   "source": [
    "### The meta .yaml file contains all information stored in d.meta"
   ]
  },
  {
   "cell_type": "code",
   "execution_count": null,
   "id": "f2ab7809-b48d-4f6d-9b1b-a8c9f7fd4714",
   "metadata": {},
   "outputs": [],
   "source": [
    "d.export_meta_to_yaml(filepath=\"test_data/test_data.yaml\")"
   ]
  },
  {
   "cell_type": "code",
   "execution_count": null,
   "id": "e589b036-0788-4d00-b62f-c3fbb3d3ffb9",
   "metadata": {},
   "outputs": [],
   "source": [
    "# not fully supported at the moment\n",
    "d.load_meta_from_yaml(filepath=\"test_data/test_data.yaml\")"
   ]
  },
  {
   "cell_type": "markdown",
   "id": "96e4be0e-f647-492c-8515-d76e2e519d14",
   "metadata": {},
   "source": [
    "#### To inspect the files, we recommend https://www.treedoc.org/, which creates a tree-like structured view for .yaml files"
   ]
  },
  {
   "cell_type": "code",
   "execution_count": null,
   "id": "281d587f-60ab-44cf-93a1-43b118515974",
   "metadata": {},
   "outputs": [],
   "source": []
  }
 ],
 "metadata": {
  "kernelspec": {
   "display_name": "python3",
   "language": "python",
   "name": "python3"
  }
 },
 "nbformat": 4,
 "nbformat_minor": 5
}
