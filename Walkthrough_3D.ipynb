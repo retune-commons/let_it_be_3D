{
 "cells": [
  {
   "cell_type": "markdown",
   "id": "3c01515e-0093-45fa-a21c-5179610717fa",
   "metadata": {},
   "source": [
    "## Run the pipeline:"
   ]
  },
  {
   "cell_type": "code",
   "execution_count": 1,
   "id": "0f2ec33e-8724-40c0-8cf1-7f9fbae03295",
   "metadata": {},
   "outputs": [],
   "source": [
    "from core.meta import MetaInterface"
   ]
  },
  {
   "cell_type": "code",
   "execution_count": null,
   "id": "f059c912-24ee-4975-9e0b-c23212f6a10a",
   "metadata": {},
   "outputs": [],
   "source": [
    "d = MetaInterface(\n",
    "    project_config_filepath=\"test_data/project_config.yaml\",\n",
    "    project_name=\"test_data\",\n",
    ")"
   ]
  },
  {
   "cell_type": "code",
   "execution_count": null,
   "id": "6dabb529-8cb0-4931-8b12-8def470a287f",
   "metadata": {},
   "outputs": [],
   "source": [
    "d.add_recording_config(\"test_data/Server_structure/Calibrations/221222/recording_config_221222.yaml\")"
   ]
  },
  {
   "cell_type": "code",
   "execution_count": null,
   "id": "94876f1b-330a-4ba3-8044-0f4fa56e7ea6",
   "metadata": {},
   "outputs": [],
   "source": [
    "d.initialize_meta_config()\n",
    "d.remove_recordings()"
   ]
  },
  {
   "cell_type": "code",
   "execution_count": null,
   "id": "ca93a065-918a-4682-81f6-9999990f7194",
   "metadata": {},
   "outputs": [],
   "source": [
    "d.create_recordings(recreate_undistorted_plots=True)"
   ]
  },
  {
   "cell_type": "code",
   "execution_count": null,
   "id": "715e09b9-673b-44df-af59-139eaeaf9d04",
   "metadata": {},
   "outputs": [],
   "source": [
    "d.synchronize_recordings(verbose=True)"
   ]
  },
  {
   "cell_type": "code",
   "execution_count": null,
   "id": "bdca04fd-9e0c-4c6b-a4ee-6f2236be8b17",
   "metadata": {},
   "outputs": [],
   "source": [
    "d.create_calibrations(\n",
    "    ground_truth_config_filepath=\"test_data/ground_truth_config.yaml\", recreate_undistorted_plots=True\n",
    ")"
   ]
  },
  {
   "cell_type": "code",
   "execution_count": null,
   "id": "76663c1f-a516-4f43-9b33-5ad098a67fdd",
   "metadata": {},
   "outputs": [],
   "source": [
    "d.synchronize_calibrations(verbose=True)"
   ]
  },
  {
   "cell_type": "code",
   "execution_count": null,
   "id": "f866e009-23ed-4dc6-a61b-61fa044576fc",
   "metadata": {},
   "outputs": [],
   "source": [
    "d.exclude_markers(all_markers_to_exclude_config_path = \"test_data/markers_to_exclude_config.yaml\", verbose=False)"
   ]
  },
  {
   "cell_type": "code",
   "execution_count": null,
   "id": "ece5a619-2d48-4675-a397-341ab9c3715e",
   "metadata": {},
   "outputs": [],
   "source": [
    "d.calibrate(verbose=2, calibrate_optimal=True)"
   ]
  },
  {
   "cell_type": "code",
   "execution_count": null,
   "id": "c5a557dd-fc29-4c05-bca1-17bace9e21b6",
   "metadata": {},
   "outputs": [],
   "source": [
    "d.triangulate_recordings()"
   ]
  },
  {
   "cell_type": "code",
   "execution_count": null,
   "id": "bc17b86d-931d-47e3-995d-a04b397c515d",
   "metadata": {},
   "outputs": [],
   "source": [
    "d.normalize_recordings(normalization_config_path=\"test_data/normalization_config.yaml\", verbose=True)"
   ]
  },
  {
   "cell_type": "code",
   "execution_count": null,
   "id": "38d0267f-9d49-4a64-acf2-95887e50da0f",
   "metadata": {},
   "outputs": [],
   "source": [
    "d.add_triangulated_csv_to_database(\"test.csv\")"
   ]
  },
  {
   "cell_type": "code",
   "execution_count": null,
   "id": "d20852f7-66f8-4d56-822f-21eb29696942",
   "metadata": {},
   "outputs": [],
   "source": []
  },
  {
   "cell_type": "code",
   "execution_count": null,
   "id": "d065e470-3fc0-4ca5-9736-31f92a3a64d0",
   "metadata": {},
   "outputs": [],
   "source": []
  },
  {
   "cell_type": "code",
   "execution_count": null,
   "id": "5ac4121f-94d2-4660-85ff-369ab21253ae",
   "metadata": {},
   "outputs": [],
   "source": [
    "d.objects[\"triangulation_recordings_objects\"][\n",
    "    \"206_F2-63_220922_OTE\"\n",
    "].create_triangulated_video(\"test_video\", \"test_data/video_plotting_config_OTE.yaml\")"
   ]
  },
  {
   "cell_type": "markdown",
   "id": "252986f6-f34f-4005-9f61-ea1912656d17",
   "metadata": {},
   "source": [
    "#### Add metadata to database"
   ]
  },
  {
   "cell_type": "code",
   "execution_count": null,
   "id": "9be1faf4-a20c-4012-bfb0-faa21af1459e",
   "metadata": {},
   "outputs": [],
   "source": [
    "# create empty database\n",
    "import pandas as pd\n",
    "\n",
    "df = pd.DataFrame(\n",
    "    {},\n",
    "    columns=[\n",
    "        \"recording\",\n",
    "        \"date\",\n",
    "        \"session_id\",\n",
    "        \"paradigm\",\n",
    "        \"subject_id\",\n",
    "        \"group_id\",\n",
    "        \"batch\",\n",
    "        \"trial_id\",\n",
    "    ],\n",
    ")\n",
    "df.to_csv(\"test.csv\", index=False)"
   ]
  },
  {
   "cell_type": "code",
   "execution_count": null,
   "id": "030cb8d4-8ca2-4474-b78a-ee2dea89ccec",
   "metadata": {},
   "outputs": [],
   "source": [
    "# add group id, session id, batch, trial id\n",
    "import pandas as pd\n",
    "def add_database_metadata(recording, overwrite=False) -> None:\n",
    "    old_df = pd.read_csv(database, dtype=\"str\")\n",
    "    if (\n",
    "        old_df.loc[\n",
    "            old_df[\"recording\"] == recording,\n",
    "            [\"session_id\", \"group_id\", \"batch\", \"trial_id\"],\n",
    "        ]\n",
    "        .isna()\n",
    "        .any(axis=1)\n",
    "        .values[0]\n",
    "        or overwrite\n",
    "    ):\n",
    "        subject_id = old_df.loc[old_df[\"recording\"] == recording, \"subject_id\"].values[\n",
    "            0\n",
    "        ]\n",
    "        recording_date = old_df.loc[old_df[\"recording\"] == recording, \"date\"].values[0]\n",
    "\n",
    "        try:\n",
    "            batch = groups.loc[groups[\"subject_id\"] == subject_id, \"batch\"].values[0]\n",
    "        except IndexError:\n",
    "            raise ValueError(f\"Found no group identity for {subject_id}!\")\n",
    "            \n",
    "        group = groups.loc[groups[\"subject_id\"] == subject_id, \"group_id\"].values[0]\n",
    "        \n",
    "        try:\n",
    "            session = (\n",
    "                time.loc[time[\"batch\"] == int(batch),]\n",
    "                .loc[time[\"date\"] == int(recording_date), \"session_id\"]\n",
    "                .values[0]\n",
    "            )\n",
    "        except IndexError:\n",
    "            raise ValueError(f\"Found no session identity for {subject_id} {recording_date}!\")\n",
    "            \n",
    "        try:\n",
    "            trial_id = (\n",
    "                time.loc[time[\"batch\"] == int(batch),]\n",
    "                .loc[time[\"date\"] == int(recording_date), \"trial_id\"]\n",
    "                .values[0]\n",
    "            )\n",
    "        except IndexError:\n",
    "            raise ValueError(f\"Found no trial identity for {subject_id} {recording_date}!\")\n",
    "\n",
    "        old_df.loc[\n",
    "            old_df[\"recording\"] == recording,\n",
    "            [\"group_id\", \"batch\", \"session_id\", \"trial_id\"],\n",
    "        ] = (group, batch, session, trial_id)\n",
    "        old_df.to_csv(database, index=False)\n",
    "    else:\n",
    "        print(\"metadata was already in csv!\")\n",
    "    return old_df\n",
    "\n",
    "\n",
    "time = pd.read_excel(\"time.xlsx\")\n",
    "groups = pd.read_excel(\"groups.xlsx\")\n",
    "database = \"test.csv\"\n",
    "\n",
    "for recording in pd.read_csv(database, dtype=\"str\")[\"recording\"].values:\n",
    "    add_database_metadata(recording, overwrite=False)"
   ]
  },
  {
   "cell_type": "code",
   "execution_count": null,
   "id": "490d4c8a-a254-4c12-b764-e7a6fb3e46f6",
   "metadata": {},
   "outputs": [],
   "source": []
  },
  {
   "cell_type": "code",
   "execution_count": null,
   "id": "4df21442-d8ec-4a7f-bb6d-21016b9c8342",
   "metadata": {},
   "outputs": [],
   "source": []
  },
  {
   "cell_type": "code",
   "execution_count": null,
   "id": "a75954f5-6c80-47cb-ba0b-601d352a240e",
   "metadata": {},
   "outputs": [],
   "source": []
  },
  {
   "cell_type": "markdown",
   "id": "b2fff393-26e2-4592-85e7-44503f647550",
   "metadata": {},
   "source": [
    "### The meta .yaml file contains all information stored in d.meta"
   ]
  },
  {
   "cell_type": "code",
   "execution_count": null,
   "id": "f2ab7809-b48d-4f6d-9b1b-a8c9f7fd4714",
   "metadata": {},
   "outputs": [],
   "source": [
    "d.export_meta_to_yaml(filepath=\"test_data/test_data.yaml\")"
   ]
  },
  {
   "cell_type": "markdown",
   "id": "96e4be0e-f647-492c-8515-d76e2e519d14",
   "metadata": {},
   "source": [
    "#### To inspect the files, we recommend https://www.treedoc.org/, which creates a tree-like structured view for .yaml files"
   ]
  },
  {
   "cell_type": "code",
   "execution_count": null,
   "id": "2e4a310f-d4ee-4179-8e7c-410fced42c56",
   "metadata": {},
   "outputs": [],
   "source": []
  },
  {
   "cell_type": "code",
   "execution_count": null,
   "id": "9434c218-292a-4eac-87a5-6c38c437697e",
   "metadata": {},
   "outputs": [],
   "source": []
  },
  {
   "cell_type": "code",
   "execution_count": null,
   "id": "acb6bbff-15ff-4691-9f54-e0dbb39b7b99",
   "metadata": {},
   "outputs": [],
   "source": [
    "#d.objects['triangulation_recordings_objects']['206_F2-63_220922_OTE'].metadata_from_videos['Bottom'].fps"
   ]
  }
 ],
 "metadata": {
  "kernelspec": {
   "display_name": "Python 3 (ipykernel)",
   "language": "python",
   "name": "python3"
  },
  "language_info": {
   "codemirror_mode": {
    "name": "ipython",
    "version": 3
   },
   "file_extension": ".py",
   "mimetype": "text/x-python",
   "name": "python",
   "nbconvert_exporter": "python",
   "pygments_lexer": "ipython3",
   "version": "3.9.16"
  }
 },
 "nbformat": 4,
 "nbformat_minor": 5
}
