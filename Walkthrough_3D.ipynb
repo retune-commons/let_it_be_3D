{
 "cells": [
  {
   "cell_type": "code",
   "execution_count": 1,
   "id": "0f2ec33e-8724-40c0-8cf1-7f9fbae03295",
   "metadata": {
    "tags": []
   },
   "outputs": [],
   "source": [
    "from core.meta import meta_interface\n",
    "%matplotlib inline"
   ]
  },
  {
   "cell_type": "code",
   "execution_count": 2,
   "id": "5d56a5c6-066e-443b-a194-ad453f040f17",
   "metadata": {
    "tags": []
   },
   "outputs": [],
   "source": [
    "d = meta_interface(project_config_path=\"test_data/project_config.yaml\")\n",
    "# manually add recording_configs \n",
    "d.add_recording_config('test_data/Server_structure/Calibrations/220826/recording_config.yaml')\n",
    "d.initialize_meta_config()\n",
    "#d.meta\n",
    "# switch recordings to other Recording_days -> calibration_directroy"
   ]
  },
  {
   "cell_type": "code",
   "execution_count": 3,
   "id": "dfe586d7-72d4-4f9d-89f1-723757539add",
   "metadata": {
    "jupyter": {
     "source_hidden": true
    },
    "tags": []
   },
   "outputs": [],
   "source": [
    "d.export_meta_to_yaml(filename = \"test_data/meta_test.yaml\")\n",
    "# change recordingvideo target_fps, fps in videos, filepaths (e.g. if multiple topcam files)"
   ]
  },
  {
   "cell_type": "code",
   "execution_count": 4,
   "id": "406d7f78-830a-4143-a01d-41bed64720ac",
   "metadata": {
    "jupyter": {
     "source_hidden": true
    },
    "tags": []
   },
   "outputs": [],
   "source": [
    "d.load_meta_from_yaml(filename = \"test_data/meta_test.yaml\")"
   ]
  },
  {
   "cell_type": "code",
   "execution_count": 5,
   "id": "3a5c71ad-cfd1-437e-8191-9691f95cd0c1",
   "metadata": {
    "tags": []
   },
   "outputs": [],
   "source": [
    "d.create_recordings()\n",
    "#d.meta"
   ]
  },
  {
   "cell_type": "code",
   "execution_count": 6,
   "id": "23d9a61a-cae8-4270-a90a-99e063d7733b",
   "metadata": {
    "jupyter": {
     "source_hidden": true
    },
    "tags": []
   },
   "outputs": [],
   "source": [
    "d.export_meta_to_yaml(filename = \"test_data/meta_test.yaml\")\n",
    "# change recordingvideo target_fps, fps in videos, filepaths (e.g. if multiple topcam files)"
   ]
  },
  {
   "cell_type": "code",
   "execution_count": 7,
   "id": "323e5c8b-afa9-426d-b02f-b9d0426e1c63",
   "metadata": {
    "jupyter": {
     "source_hidden": true
    },
    "tags": []
   },
   "outputs": [],
   "source": [
    "d.load_meta_from_yaml(filename = \"test_data/meta_test.yaml\")"
   ]
  },
  {
   "cell_type": "code",
   "execution_count": 8,
   "id": "715e09b9-673b-44df-af59-139eaeaf9d04",
   "metadata": {
    "tags": []
   },
   "outputs": [],
   "source": [
    "d.synchronize_recordings()\n",
    "#d.meta\n",
    "# exclude recordingvideos based on synchronization"
   ]
  },
  {
   "cell_type": "code",
   "execution_count": 9,
   "id": "bdca04fd-9e0c-4c6b-a4ee-6f2236be8b17",
   "metadata": {
    "tags": []
   },
   "outputs": [],
   "source": [
    "d.create_calibrations()\n",
    "#d.meta"
   ]
  },
  {
   "cell_type": "code",
   "execution_count": 10,
   "id": "054e9acf-9bae-4dd7-9c95-aac0412011ee",
   "metadata": {
    "jupyter": {
     "source_hidden": true
    },
    "tags": []
   },
   "outputs": [],
   "source": [
    "d.export_meta_to_yaml(filename = \"test_data/meta_test.yaml\")\n",
    "# change calibrationvideo target_fps, fps in videos, filepaths (e.g. if multiple topcam files)"
   ]
  },
  {
   "cell_type": "code",
   "execution_count": 11,
   "id": "3d730a89-4625-49c1-be0a-bf42244062d5",
   "metadata": {
    "jupyter": {
     "source_hidden": true
    },
    "tags": []
   },
   "outputs": [],
   "source": [
    "d.load_meta_from_yaml(filename = \"test_data/meta_test.yaml\")"
   ]
  },
  {
   "cell_type": "code",
   "execution_count": 12,
   "id": "76663c1f-a516-4f43-9b33-5ad098a67fdd",
   "metadata": {
    "tags": []
   },
   "outputs": [],
   "source": [
    "d.synchronize_calibrations()\n",
    "#d.meta\n",
    "# exclude calibrationvideos based on synchronization"
   ]
  },
  {
   "cell_type": "code",
   "execution_count": 13,
   "id": "c7e3ac5b-61fd-455c-b1e9-e1f7cedf6f8f",
   "metadata": {
    "tags": []
   },
   "outputs": [],
   "source": [
    "d.export_meta_to_yaml(filename = \"test_data/meta_test.yaml\")"
   ]
  },
  {
   "cell_type": "code",
   "execution_count": 14,
   "id": "e546d4b6-ee13-4e76-b215-b9c6e7ab182e",
   "metadata": {},
   "outputs": [],
   "source": [
    "d.load_meta_from_yaml(filename = \"test_data/meta_test.yaml\")"
   ]
  },
  {
   "cell_type": "code",
   "execution_count": 15,
   "id": "ece5a619-2d48-4675-a397-341ab9c3715e",
   "metadata": {
    "tags": []
   },
   "outputs": [],
   "source": [
    "d.calibrate()\n",
    "#d.meta\n",
    "# exclude calibrations based on calibration log (not yet implemented) and repeat calibration "
   ]
  },
  {
   "cell_type": "code",
   "execution_count": 16,
   "id": "f2ab7809-b48d-4f6d-9b1b-a8c9f7fd4714",
   "metadata": {
    "jupyter": {
     "source_hidden": true
    },
    "tags": []
   },
   "outputs": [],
   "source": [
    "d.export_meta_to_yaml(filename = \"test_data/meta_test.yaml\")"
   ]
  },
  {
   "cell_type": "code",
   "execution_count": 17,
   "id": "e589b036-0788-4d00-b62f-c3fbb3d3ffb9",
   "metadata": {
    "jupyter": {
     "source_hidden": true
    },
    "tags": []
   },
   "outputs": [],
   "source": [
    "d.load_meta_from_yaml(filename = \"test_data/meta_test.yaml\")"
   ]
  },
  {
   "cell_type": "code",
   "execution_count": 18,
   "id": "c5a557dd-fc29-4c05-bca1-17bace9e21b6",
   "metadata": {
    "tags": []
   },
   "outputs": [],
   "source": [
    "d.triangulate_recordings()"
   ]
  },
  {
   "cell_type": "code",
   "execution_count": null,
   "id": "b9599b10-881b-42aa-b91d-06c3e219b0ad",
   "metadata": {},
   "outputs": [],
   "source": []
  },
  {
   "cell_type": "code",
   "execution_count": null,
   "id": "4f75519e-a7c8-46f5-a072-efb98882c274",
   "metadata": {},
   "outputs": [],
   "source": []
  },
  {
   "cell_type": "code",
   "execution_count": null,
   "id": "5d0ad7b3-cf84-4ba8-b027-1a06dc6c1752",
   "metadata": {},
   "outputs": [],
   "source": [
    "Was geschehen soll:\n",
    "    \n",
    "1.\n",
    "- alle recording configs manuell hinzufügen\n",
    "- alle recording directories finden/manuell hinzufügen\n",
    "- Recording_Triangulation objekte erstellen\n",
    "# in notebook (per user input) filenaming (paradigm, etc.) korrigieren\n",
    "- metadata sammeln\n",
    "STOP \n",
    "2.\n",
    "- synchronisiert videos und läuft DLC\n",
    "- meta: synchro_path, DLC_path, synchro_framenum\n",
    "STOP: check exclusion manually!\n",
    "3.\n",
    "?A\n",
    "- necessary_calibrations based on exclusion_flags\n",
    "- meta: calibration_to_use based on necessary_calibrations\n",
    "- create calibration objects based on necessary_calibrations\n",
    "4.\n",
    "Calibration wird erstellt\n",
    "- meta: videos mit cam_id, fps, framenum, path, exclusion_flag, intrinsic_calibrations\n",
    "erstellt Positions\n",
    "- meta: Positions\n",
    "STOP\n",
    "5.\n",
    "- Positions: marker predicition\n",
    "- synchronisiert videos\n",
    "- meta: synchro videos, marker_predictions positions\n",
    "STOP\n",
    "6.\n",
    "!wenn calbration video excluded wird, repeat von ?A mit overwrite=False, remove video from Triangulation object\n",
    "- create calibration.toml \n",
    "7.\n",
    "Triangulation_Recordings\n",
    "- run triangulation\n",
    "- meta: 3D.csv, error"
   ]
  },
  {
   "cell_type": "code",
   "execution_count": null,
   "id": "35727373-5458-47c9-bcdd-1c327a3092f4",
   "metadata": {},
   "outputs": [],
   "source": [
    "Was bisher noch fehlt:\n",
    "\n",
    "    \n",
    "positions updaten können?\n",
    "\n",
    "2. exclusion based on synchro und bei zu vielen framedrops\n",
    "6. exclusion based on synchro und bei zu vielen framedrops \n",
    "-> wie removed man Kameras von schon erstellten Triangulation_objects? bzw von triangulation_dlc_filepaths\n",
    "=> sollte schon gelöst sein auf Ebene der calibration!\n",
    "\n",
    "6. (sobald implementiert: optimize calibration based on positions dafür: triangulate positions)  \n",
    "\n",
    "x. already_existing and overwrite false\n"
   ]
  },
  {
   "cell_type": "code",
   "execution_count": null,
   "id": "77d1f1b8-6281-44be-88d2-b881ee16338e",
   "metadata": {},
   "outputs": [],
   "source": [
    "how to handle:\n",
    "    several calibrations at one day:\n",
    "        individual directories and recording_configs per calibration, set calibration_index in recording_configs individually!\n",
    "    in meta.yaml: all recordings of the day can be found at all calibrations of the day -> just keep the right recordings and delete the others"
   ]
  },
  {
   "cell_type": "code",
   "execution_count": null,
   "id": "4e3c2b0e-c8c4-46cd-bd2c-78323afc53f4",
   "metadata": {},
   "outputs": [],
   "source": []
  },
  {
   "cell_type": "code",
   "execution_count": null,
   "id": "abd7d7a7-0777-461a-a3a9-576123ed19fe",
   "metadata": {},
   "outputs": [],
   "source": []
  },
  {
   "cell_type": "code",
   "execution_count": null,
   "id": "228fa7ea-6470-4b26-8c03-0c7de4c3077e",
   "metadata": {},
   "outputs": [],
   "source": []
  },
  {
   "cell_type": "code",
   "execution_count": null,
   "id": "c24fdd4a",
   "metadata": {},
   "outputs": [],
   "source": [
    "from core.triangulation_calibration_module import Calibration, Triangulation_Positions, Triangulation_Recordings"
   ]
  },
  {
   "cell_type": "code",
   "execution_count": null,
   "id": "b13cae61",
   "metadata": {
    "scrolled": true,
    "tags": []
   },
   "outputs": [],
   "source": [
    "a = Calibration(calibration_directory = 'test_data/Server_structure/Calibrations/220826/', \n",
    "                project_config_filepath = 'test_data/project_config.yaml',\n",
    "                recording_config_filepath = 'test_data/Server_structure/Calibrations/220826/recording_config.yaml',\n",
    "                output_directory = 'test_data/Server_structure/Calibrations/220826/',\n",
    "                overwrite = False)"
   ]
  },
  {
   "cell_type": "code",
   "execution_count": null,
   "id": "628e3bb8-ce39-4733-83d8-89030428ee6b",
   "metadata": {
    "tags": []
   },
   "outputs": [],
   "source": [
    "a.run_synchronization()"
   ]
  },
  {
   "cell_type": "code",
   "execution_count": null,
   "id": "519526d5",
   "metadata": {
    "scrolled": true,
    "tags": []
   },
   "outputs": [],
   "source": [
    "a.run_calibration(verbose = True)"
   ]
  },
  {
   "cell_type": "code",
   "execution_count": null,
   "id": "c67ac275",
   "metadata": {},
   "outputs": [],
   "source": [
    "b = Triangulation_Recordings(recording_directory = 'test_data/Server_structure/VGlut2-flp/September2022/196_F7-27/220826_OTT/', \n",
    "                             calibration_directory = 'test_data/Server_structure/Calibrations/220826/',\n",
    "                             recording_config_filepath = 'test_data/Server_structure/Calibrations/220826/recording_config.yaml', \n",
    "                             project_config_filepath= 'test_data/project_config.yaml',\n",
    "                             output_directory = \"test_data/Server_structure/VGlut2-flp/September2022/196_F7-27/220826_OTT/\", overwrite = False)"
   ]
  },
  {
   "cell_type": "code",
   "execution_count": null,
   "id": "f7e34efe-dc61-4ed2-bb6d-9e6acdfe1d59",
   "metadata": {},
   "outputs": [],
   "source": [
    "b.run_synchronization()"
   ]
  },
  {
   "cell_type": "code",
   "execution_count": null,
   "id": "fb2aabbb",
   "metadata": {
    "scrolled": true
   },
   "outputs": [],
   "source": [
    "b.run_triangulation(calibration_toml_filepath = 'test_data/Server_structure/Calibrations/220826/calibration_220826.toml')"
   ]
  },
  {
   "cell_type": "code",
   "execution_count": null,
   "id": "a0b1927d-a532-4206-9c57-daeb0553a5a5",
   "metadata": {},
   "outputs": [],
   "source": [
    "c = Triangulation_Positions(positions_directory = 'test_data/Server_structure/Calibrations/220826/', \n",
    "                            calibration_directory = 'test_data/Server_structure/Calibrations/220826/',\n",
    "                            recording_config_filepath = 'test_data/Server_structure/Calibrations/220826/recording_config.yaml', \n",
    "                            project_config_filepath= 'test_data/project_config.yaml',\n",
    "                            output_directory = 'test_data/Server_structure/Calibrations/220826/', \n",
    "                            overwrite = False)"
   ]
  },
  {
   "cell_type": "code",
   "execution_count": null,
   "id": "fb8f9bb3-8578-4703-8562-6e12f0c26d2b",
   "metadata": {
    "tags": []
   },
   "outputs": [],
   "source": [
    "c.get_marker_predictions()"
   ]
  },
  {
   "cell_type": "code",
   "execution_count": null,
   "id": "e96eaf92-545f-40a1-897d-76b5cd38b978",
   "metadata": {},
   "outputs": [],
   "source": [
    "c.run_triangulation(calibration_toml_filepath = 'test_data/Server_structure/Calibrations/220826/calibration_220826.toml')"
   ]
  },
  {
   "cell_type": "code",
   "execution_count": null,
   "id": "5ea35e8d-2332-4cf2-adce-e16a1b98594f",
   "metadata": {},
   "outputs": [],
   "source": []
  },
  {
   "cell_type": "code",
   "execution_count": null,
   "id": "a03a4ea9-c141-4656-be59-c0cf9230b626",
   "metadata": {},
   "outputs": [],
   "source": []
  },
  {
   "cell_type": "code",
   "execution_count": null,
   "id": "b475c3e6-2385-489f-8e02-60f6d1f1cd10",
   "metadata": {},
   "outputs": [],
   "source": []
  },
  {
   "cell_type": "code",
   "execution_count": null,
   "id": "056a5855-9ce4-45ce-9954-4092ee8302a8",
   "metadata": {},
   "outputs": [],
   "source": [
    "#dependencies"
   ]
  },
  {
   "cell_type": "code",
   "execution_count": null,
   "id": "fc040d6b",
   "metadata": {},
   "outputs": [],
   "source": [
    "\"\"\"\n",
    "pip install aniposelib\n",
    "pip install ffmpeg\n",
    "pip install ffmpeg-python\n",
    "pip install imageio-ffmpeg\n",
    "jupyter lab\n",
    "Tkinter\n",
    "\"\"\""
   ]
  }
 ],
 "metadata": {
  "kernelspec": {
   "display_name": "Python 3 (ipykernel)",
   "language": "python",
   "name": "python3"
  },
  "language_info": {
   "codemirror_mode": {
    "name": "ipython",
    "version": 3
   },
   "file_extension": ".py",
   "mimetype": "text/x-python",
   "name": "python",
   "nbconvert_exporter": "python",
   "pygments_lexer": "ipython3",
   "version": "3.9.12"
  }
 },
 "nbformat": 4,
 "nbformat_minor": 5
}
