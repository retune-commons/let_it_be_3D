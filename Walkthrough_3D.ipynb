{
 "cells": [
  {
   "cell_type": "code",
   "execution_count": null,
   "id": "0f2ec33e-8724-40c0-8cf1-7f9fbae03295",
   "metadata": {
    "tags": []
   },
   "outputs": [],
   "source": [
    "from core.meta import meta_interface\n",
    "%matplotlib widget"
   ]
  },
  {
   "cell_type": "code",
   "execution_count": null,
   "id": "f059c912-24ee-4975-9e0b-c23212f6a10a",
   "metadata": {},
   "outputs": [],
   "source": [
    "d = meta_interface(project_config_filepath=\"test_data/project_config.yaml\", project_name=\"test_data\")"
   ]
  },
  {
   "cell_type": "code",
   "execution_count": null,
   "id": "6dabb529-8cb0-4931-8b12-8def470a287f",
   "metadata": {},
   "outputs": [],
   "source": [
    "d.add_recording_config(\"/Users/kobel/Downloads/220922/recording_config_220922.yaml\")"
   ]
  },
  {
   "cell_type": "code",
   "execution_count": null,
   "id": "94876f1b-330a-4ba3-8044-0f4fa56e7ea6",
   "metadata": {},
   "outputs": [],
   "source": [
    "d.initialize_meta_config()"
   ]
  },
  {
   "cell_type": "code",
   "execution_count": null,
   "id": "ca93a065-918a-4682-81f6-9999990f7194",
   "metadata": {},
   "outputs": [],
   "source": [
    "d.create_recordings()"
   ]
  },
  {
   "cell_type": "code",
   "execution_count": null,
   "id": "715e09b9-673b-44df-af59-139eaeaf9d04",
   "metadata": {
    "tags": []
   },
   "outputs": [],
   "source": [
    "d.synchronize_recordings(verbose = True, test_mode = True)  # test_mode: bool, doesnt overwrite synchronized and analysed videos\n",
    "# exclude recordingvideos based on synchronization"
   ]
  },
  {
   "cell_type": "code",
   "execution_count": null,
   "id": "bdca04fd-9e0c-4c6b-a4ee-6f2236be8b17",
   "metadata": {
    "tags": []
   },
   "outputs": [],
   "source": [
    "d.create_calibrations(ground_truth_config_filepath=\"test_data/ground_truth_config.yaml\")"
   ]
  },
  {
   "cell_type": "code",
   "execution_count": null,
   "id": "76663c1f-a516-4f43-9b33-5ad098a67fdd",
   "metadata": {
    "tags": []
   },
   "outputs": [],
   "source": [
    "d.synchronize_calibrations(test_mode = True)  "
   ]
  },
  {
   "cell_type": "code",
   "execution_count": null,
   "id": "ece5a619-2d48-4675-a397-341ab9c3715e",
   "metadata": {
    "tags": []
   },
   "outputs": [],
   "source": [
    "d.calibrate(verbose = False)"
   ]
  },
  {
   "cell_type": "code",
   "execution_count": null,
   "id": "c5a557dd-fc29-4c05-bca1-17bace9e21b6",
   "metadata": {
    "tags": []
   },
   "outputs": [],
   "source": [
    "d.triangulate_recordings()"
   ]
  },
  {
   "cell_type": "code",
   "execution_count": null,
   "id": "f2ab7809-b48d-4f6d-9b1b-a8c9f7fd4714",
   "metadata": {
    "tags": []
   },
   "outputs": [],
   "source": [
    "d.export_meta_to_yaml(filepath=\"test_data/My_project.yaml\")"
   ]
  },
  {
   "cell_type": "code",
   "execution_count": null,
   "id": "e589b036-0788-4d00-b62f-c3fbb3d3ffb9",
   "metadata": {
    "tags": []
   },
   "outputs": [],
   "source": [
    "d.load_meta_from_yaml(filepath=\"test_data/test_data_01.yaml\")"
   ]
  },
  {
   "cell_type": "code",
   "execution_count": null,
   "id": "0b1b97df-6104-4835-8629-88199f184413",
   "metadata": {
    "tags": []
   },
   "outputs": [],
   "source": [
    "d.objects['position_objects']['220922_0_Bottom_Ground1_Ground2_Side1_Side2_Side3_Top']"
   ]
  },
  {
   "cell_type": "code",
   "execution_count": null,
   "id": "ce5f15ce-d096-4c7a-a868-6296a826f7ae",
   "metadata": {},
   "outputs": [],
   "source": []
  },
  {
   "cell_type": "code",
   "execution_count": null,
   "id": "4e3c2b0e-c8c4-46cd-bd2c-78323afc53f4",
   "metadata": {},
   "outputs": [],
   "source": [
    "from pathlib import Path\n",
    "from core.triangulation_calibration_module import (\n",
    "    Calibration,\n",
    "    Triangulation_Positions,\n",
    "    Triangulation_Recordings,\n",
    ")"
   ]
  },
  {
   "cell_type": "code",
   "execution_count": null,
   "id": "abd7d7a7-0777-461a-a3a9-576123ed19fe",
   "metadata": {},
   "outputs": [],
   "source": [
    "rec_config = Path(\"/Users/kobel/Downloads/220922/recording_config_220922.yaml\")\n",
    "calibration_object = Calibration(calibration_directory=rec_config.parent, \n",
    "                                 output_directory=rec_config.parent, \n",
    "                                 recording_config_filepath=rec_config, \n",
    "                                 project_config_filepath = \"test_data/project_config.yaml\")"
   ]
  },
  {
   "cell_type": "code",
   "execution_count": null,
   "id": "dc3a17c7-3698-49e0-8970-2d27e98c92bd",
   "metadata": {
    "tags": []
   },
   "outputs": [],
   "source": [
    "calibration_object.run_synchronization(test_mode = True)"
   ]
  },
  {
   "cell_type": "code",
   "execution_count": null,
   "id": "228fa7ea-6470-4b26-8c03-0c7de4c3077e",
   "metadata": {},
   "outputs": [],
   "source": [
    "calibration_object.run_calibration(verbose=True)"
   ]
  },
  {
   "cell_type": "code",
   "execution_count": null,
   "id": "7511f958-3ade-4b6f-bb75-70d0abdfdcfd",
   "metadata": {
    "tags": []
   },
   "outputs": [],
   "source": [
    "rec_config = Path(\"/Users/kobel/Downloads/220927/recording_config_270922.yaml\")\n",
    "calibration_object = Calibration(calibration_directory=rec_config.parent, \n",
    "                                 output_directory=rec_config.parent, \n",
    "                                 recording_config_filepath=rec_config, \n",
    "                                 project_config_filepath = \"test_data/project_config.yaml\")\n",
    "calibration_object.run_synchronization(test_mode = True)"
   ]
  },
  {
   "cell_type": "code",
   "execution_count": null,
   "id": "93231369-10e7-412b-a552-ab3685642e84",
   "metadata": {},
   "outputs": [],
   "source": [
    "calibration_object.run_calibration(verbose=True)"
   ]
  },
  {
   "cell_type": "code",
   "execution_count": null,
   "id": "009c5d74-d5d0-4ac2-acbf-2267e2ca1c5c",
   "metadata": {},
   "outputs": [],
   "source": []
  },
  {
   "cell_type": "code",
   "execution_count": null,
   "id": "71d577de-5d2d-4f79-a294-0808e9f33b7c",
   "metadata": {},
   "outputs": [],
   "source": [
    "21.09. Side3 to be excluded! do calibration!\n",
    "22.09. \n",
    "23.09. Top to be excluded!\n",
    "27.09.\n",
    "19.12. error 0.95\n",
    "20.12. Side3 not well synchronized, exclude! redo calibration!\n",
    "21.12. Side2 and Side3 not well synchronized, exclude! redo calibration! Top has 15000 frames less (why?, how?)\n",
    "22.12. error 2.22 Side3 not well synchronized, exclude! redo calibration!\n",
    "# calibration error wenn eine Kamera 0 boards detektiert hat!"
   ]
  },
  {
   "cell_type": "code",
   "execution_count": null,
   "id": "c24fdd4a",
   "metadata": {},
   "outputs": [],
   "source": []
  },
  {
   "cell_type": "code",
   "execution_count": null,
   "id": "b13cae61",
   "metadata": {
    "scrolled": true,
    "tags": []
   },
   "outputs": [],
   "source": [
    "a = Calibration(\n",
    "    calibration_directory=\"test_data/Server_structure/Calibrations/220826/\",\n",
    "    project_config_filepath=\"test_data/project_config.yaml\",\n",
    "    recording_config_filepath=\"test_data/Server_structure/Calibrations/220826/recording_config.yaml\",\n",
    "    output_directory=\"test_data/Server_structure/Calibrations/220826/\",\n",
    ")"
   ]
  },
  {
   "cell_type": "code",
   "execution_count": null,
   "id": "628e3bb8-ce39-4733-83d8-89030428ee6b",
   "metadata": {
    "tags": []
   },
   "outputs": [],
   "source": [
    "a.run_synchronization()"
   ]
  },
  {
   "cell_type": "code",
   "execution_count": null,
   "id": "519526d5",
   "metadata": {
    "scrolled": true,
    "tags": []
   },
   "outputs": [],
   "source": [
    "a.run_calibration(verbose=True)"
   ]
  },
  {
   "cell_type": "code",
   "execution_count": null,
   "id": "c67ac275",
   "metadata": {},
   "outputs": [],
   "source": [
    "b = Triangulation_Recordings(\n",
    "    recording_directory=\"test_data/Server_structure/VGlut2-flp/September2022/196_F7-27/220826_OTT/\",\n",
    "    calibration_directory=\"test_data/Server_structure/Calibrations/220826/\",\n",
    "    recording_config_filepath=\"test_data/Server_structure/Calibrations/220826/recording_config.yaml\",\n",
    "    project_config_filepath=\"test_data/project_config.yaml\",\n",
    "    output_directory=\"test_data/Server_structure/VGlut2-flp/September2022/196_F7-27/220826_OTT/\",\n",
    ")"
   ]
  },
  {
   "cell_type": "code",
   "execution_count": null,
   "id": "f7e34efe-dc61-4ed2-bb6d-9e6acdfe1d59",
   "metadata": {},
   "outputs": [],
   "source": [
    "b.run_synchronization()"
   ]
  },
  {
   "cell_type": "code",
   "execution_count": null,
   "id": "fb2aabbb",
   "metadata": {
    "scrolled": true
   },
   "outputs": [],
   "source": [
    "b.run_triangulation(\n",
    "    calibration_toml_filepath=\"test_data/Server_structure/Calibrations/220826/calibration_220826.toml\"\n",
    ")"
   ]
  },
  {
   "cell_type": "code",
   "execution_count": null,
   "id": "a0b1927d-a532-4206-9c57-daeb0553a5a5",
   "metadata": {},
   "outputs": [],
   "source": [
    "c = Triangulation_Positions(\n",
    "    positions_directory=\"test_data/Server_structure/Calibrations/220826/\",\n",
    "    calibration_directory=\"test_data/Server_structure/Calibrations/220826/\",\n",
    "    recording_config_filepath=\"test_data/Server_structure/Calibrations/220826/recording_config.yaml\",\n",
    "    project_config_filepath=\"test_data/project_config.yaml\",\n",
    "    output_directory=\"test_data/Server_structure/Calibrations/220826/\",\n",
    ")"
   ]
  },
  {
   "cell_type": "code",
   "execution_count": null,
   "id": "fb8f9bb3-8578-4703-8562-6e12f0c26d2b",
   "metadata": {
    "tags": []
   },
   "outputs": [],
   "source": [
    "c.get_marker_predictions()"
   ]
  },
  {
   "cell_type": "code",
   "execution_count": null,
   "id": "e96eaf92-545f-40a1-897d-76b5cd38b978",
   "metadata": {},
   "outputs": [],
   "source": [
    "c.run_triangulation(\n",
    "    calibration_toml_filepath=\"test_data/Server_structure/Calibrations/220826/calibration_220826.toml\"\n",
    ")"
   ]
  },
  {
   "cell_type": "code",
   "execution_count": null,
   "id": "5ea35e8d-2332-4cf2-adce-e16a1b98594f",
   "metadata": {},
   "outputs": [],
   "source": []
  },
  {
   "cell_type": "code",
   "execution_count": null,
   "id": "a03a4ea9-c141-4656-be59-c0cf9230b626",
   "metadata": {},
   "outputs": [],
   "source": []
  },
  {
   "cell_type": "code",
   "execution_count": null,
   "id": "b475c3e6-2385-489f-8e02-60f6d1f1cd10",
   "metadata": {},
   "outputs": [],
   "source": []
  },
  {
   "cell_type": "code",
   "execution_count": null,
   "id": "056a5855-9ce4-45ce-9954-4092ee8302a8",
   "metadata": {},
   "outputs": [],
   "source": [
    "# special dependencies"
   ]
  },
  {
   "cell_type": "code",
   "execution_count": null,
   "id": "fc040d6b",
   "metadata": {},
   "outputs": [],
   "source": [
    "\"\"\"\n",
    "pip install aniposelib\n",
    "pip install ffmpeg\n",
    "pip install ffmpeg-python\n",
    "pip install imageio-ffmpeg\n",
    "jupyter lab\n",
    "Tkinter\n",
    "\"\"\""
   ]
  }
 ],
 "metadata": {
  "kernelspec": {
   "display_name": "Python 3 (ipykernel)",
   "language": "python",
   "name": "python3"
  },
  "language_info": {
   "codemirror_mode": {
    "name": "ipython",
    "version": 3
   },
   "file_extension": ".py",
   "mimetype": "text/x-python",
   "name": "python",
   "nbconvert_exporter": "python",
   "pygments_lexer": "ipython3",
   "version": "3.9.12"
  }
 },
 "nbformat": 4,
 "nbformat_minor": 5
}
