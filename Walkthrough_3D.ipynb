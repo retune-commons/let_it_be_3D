{
 "cells": [
  {
   "cell_type": "markdown",
   "id": "3c01515e-0093-45fa-a21c-5179610717fa",
   "metadata": {},
   "source": [
    "## To run the pipeline:\n",
    "##### in general: test_mode is a boolean argument, that speeds up all processes by using pre-existing data if found.\n",
    "##### for a real analysis or to overwrite pre-existing files, you should set test_mode to False"
   ]
  },
  {
   "cell_type": "code",
   "execution_count": null,
   "id": "0f2ec33e-8724-40c0-8cf1-7f9fbae03295",
   "metadata": {
    "tags": []
   },
   "outputs": [],
   "source": [
    "from core.meta import meta_interface"
   ]
  },
  {
   "cell_type": "markdown",
   "id": "cd0c6b80-c3cd-4100-a76f-034258c1c951",
   "metadata": {},
   "source": [
    "##### overwrite: bool whether to overwrite the meta.yaml at the given project_name or if existing appending the project_name by _01"
   ]
  },
  {
   "cell_type": "code",
   "execution_count": null,
   "id": "f059c912-24ee-4975-9e0b-c23212f6a10a",
   "metadata": {},
   "outputs": [],
   "source": [
    "d = meta_interface(\n",
    "    project_config_filepath=\"test_data/project_config.yaml\",\n",
    "    project_name=\"test_data\",\n",
    "    overwrite=True,\n",
    ")"
   ]
  },
  {
   "cell_type": "code",
   "execution_count": null,
   "id": "6dabb529-8cb0-4931-8b12-8def470a287f",
   "metadata": {},
   "outputs": [],
   "source": [
    "d.add_recording_config(\"test_data/Server_structure/Calibrations/220922/recording_config_220922.yaml\")"
   ]
  },
  {
   "cell_type": "code",
   "execution_count": null,
   "id": "94876f1b-330a-4ba3-8044-0f4fa56e7ea6",
   "metadata": {
    "tags": []
   },
   "outputs": [],
   "source": [
    "d.initialize_meta_config()"
   ]
  },
  {
   "cell_type": "markdown",
   "id": "3ecb5ba9-4d40-455d-adbc-568bcdbea537",
   "metadata": {},
   "source": [
    "#### creates undistorted images per cam and reads metadata\n",
    "##### test_mode = True doesnt save the undistorted images"
   ]
  },
  {
   "cell_type": "code",
   "execution_count": null,
   "id": "ca93a065-918a-4682-81f6-9999990f7194",
   "metadata": {},
   "outputs": [],
   "source": [
    "d.create_recordings(test_mode=True)"
   ]
  },
  {
   "cell_type": "markdown",
   "id": "d4f0e9e5-9919-43c9-b2ab-b0b86db2bfe7",
   "metadata": {},
   "source": [
    "#### runs synchronisation and DLC analysis\n",
    "##### test_mode=True doesn't overwrite already existing synchronized/analysed files\n",
    "##### synchronize_only=True doesn't DLC analyse files\n",
    "##### verbose=True prints the duration of one recording analysis"
   ]
  },
  {
   "cell_type": "code",
   "execution_count": null,
   "id": "715e09b9-673b-44df-af59-139eaeaf9d04",
   "metadata": {
    "tags": []
   },
   "outputs": [],
   "source": [
    "d.synchronize_recordings(verbose=True, test_mode=True)"
   ]
  },
  {
   "cell_type": "markdown",
   "id": "6ad91ebe-1183-480c-b056-3372f24ed204",
   "metadata": {},
   "source": [
    "#### creates undistorted images per cam and reads metadata\n",
    "##### test_mode = True doesnt save the undistorted images"
   ]
  },
  {
   "cell_type": "code",
   "execution_count": null,
   "id": "bdca04fd-9e0c-4c6b-a4ee-6f2236be8b17",
   "metadata": {
    "tags": []
   },
   "outputs": [],
   "source": [
    "d.create_calibrations(\n",
    "    ground_truth_config_filepath=\"test_data/ground_truth_config_only_corners.yaml\", test_mode=True\n",
    ")"
   ]
  },
  {
   "cell_type": "markdown",
   "id": "cbf2cd00-5790-4a7f-a9fa-b7bf3bd2c63e",
   "metadata": {},
   "source": [
    "#### runs synchronisation\n",
    "##### test_mode=True doesn't overwrite already existing synchronized videos"
   ]
  },
  {
   "cell_type": "code",
   "execution_count": null,
   "id": "76663c1f-a516-4f43-9b33-5ad098a67fdd",
   "metadata": {
    "tags": []
   },
   "outputs": [],
   "source": [
    "d.synchronize_calibrations(test_mode=True)"
   ]
  },
  {
   "cell_type": "code",
   "execution_count": null,
   "id": "f866e009-23ed-4dc6-a61b-61fa044576fc",
   "metadata": {},
   "outputs": [],
   "source": [
    "d.exclude_markers(all_markers_to_exclude_config_path = \"test_data/markers_to_exclude_config.yaml\", verbose=False)"
   ]
  },
  {
   "cell_type": "markdown",
   "id": "cf9f3320-52ea-4c02-be9b-b9bc97bb58c2",
   "metadata": {},
   "source": [
    "#### Anipose calibration\n",
    "##### calibrate_optimal = True uses calibration_validation for repeated calibrations\n",
    "##### verbose > 1 shows aniposelib output. verbose > 0 shows Calibration_validation output. verbose = 0 doesnt show any output"
   ]
  },
  {
   "cell_type": "code",
   "execution_count": null,
   "id": "ece5a619-2d48-4675-a397-341ab9c3715e",
   "metadata": {
    "tags": []
   },
   "outputs": [],
   "source": [
    "d.calibrate(verbose=2, calibrate_optimal=True, test_mode=True)"
   ]
  },
  {
   "cell_type": "code",
   "execution_count": null,
   "id": "c5a557dd-fc29-4c05-bca1-17bace9e21b6",
   "metadata": {
    "tags": []
   },
   "outputs": [],
   "source": [
    "d.triangulate_recordings(test_mode=True)"
   ]
  },
  {
   "cell_type": "code",
   "execution_count": null,
   "id": "bc17b86d-931d-47e3-995d-a04b397c515d",
   "metadata": {},
   "outputs": [],
   "source": [
    "d.normalize_recordings(normalization_config_path=\"test_data/normalization_config.yaml\")"
   ]
  },
  {
   "cell_type": "code",
   "execution_count": null,
   "id": "5ac4121f-94d2-4660-85ff-369ab21253ae",
   "metadata": {},
   "outputs": [],
   "source": []
  },
  {
   "cell_type": "markdown",
   "id": "19492d63-c2f4-490d-a438-78938de3b8ce",
   "metadata": {},
   "source": []
  },
  {
   "cell_type": "markdown",
   "id": "252986f6-f34f-4005-9f61-ea1912656d17",
   "metadata": {},
   "source": [
    "#### Add metadata to database"
   ]
  },
  {
   "cell_type": "code",
   "execution_count": null,
   "id": "9be1faf4-a20c-4012-bfb0-faa21af1459e",
   "metadata": {},
   "outputs": [],
   "source": [
    "# create empty database\n",
    "import pandas as pd\n",
    "\n",
    "df = pd.DataFrame(\n",
    "    {},\n",
    "    columns=[\n",
    "        \"recording\",\n",
    "        \"date\",\n",
    "        \"session_id\",\n",
    "        \"paradigm\",\n",
    "        \"subject_id\",\n",
    "        \"group_id\",\n",
    "        \"batch\",\n",
    "        \"trial_id\",\n",
    "    ],\n",
    ")\n",
    "df.to_csv(\"test.csv\", index=False)"
   ]
  },
  {
   "cell_type": "code",
   "execution_count": null,
   "id": "38d0267f-9d49-4a64-acf2-95887e50da0f",
   "metadata": {},
   "outputs": [],
   "source": [
    "# add recording, date, paradigm, subject id\n",
    "d.add_triangulated_csv_to_database(\"test.csv\")"
   ]
  },
  {
   "cell_type": "code",
   "execution_count": null,
   "id": "030cb8d4-8ca2-4474-b78a-ee2dea89ccec",
   "metadata": {},
   "outputs": [],
   "source": [
    "# add group id, session id, batch, trial id\n",
    "def add_database_metadata(recording, overwrite=False) -> None:\n",
    "    old_df = pd.read_csv(database, dtype=\"str\")\n",
    "    if (\n",
    "        old_df.loc[\n",
    "            old_df[\"recording\"] == recording,\n",
    "            [\"session_id\", \"group_id\", \"batch\", \"trial_id\"],\n",
    "        ]\n",
    "        .isna()\n",
    "        .any(axis=1)\n",
    "        .values[0]\n",
    "        or overwrite\n",
    "    ):\n",
    "        subject_id = old_df.loc[old_df[\"recording\"] == recording, \"subject_id\"].values[\n",
    "            0\n",
    "        ]\n",
    "        recording_date = old_df.loc[old_df[\"recording\"] == recording, \"date\"].values[0]\n",
    "\n",
    "        try:\n",
    "            batch = groups.loc[groups[\"subject_id\"] == subject_id, \"batch\"].values[0]\n",
    "        except IndexError:\n",
    "            raise ValueError(f\"Found no group identity for {subject_id}!\")\n",
    "        group = groups.loc[groups[\"subject_id\"] == subject_id, \"group_id\"].values[0]\n",
    "        try:\n",
    "            session = (\n",
    "                time.loc[time[\"batch\"] == str(batch),]\n",
    "                .loc[time[\"date\"] == recording_date, \"session_id\"]\n",
    "                .values[0]\n",
    "            )\n",
    "        except IndexError:\n",
    "            raise ValueError(f\"Found no session identity for {subject_id}!\")\n",
    "        trial_id = (\n",
    "            time.loc[time[\"batch\"] == batch,]\n",
    "            .loc[time[\"date\"] == recording_date, \"trial_id\"]\n",
    "            .values[0]\n",
    "        )\n",
    "\n",
    "        old_df.loc[\n",
    "            old_df[\"recording\"] == recording,\n",
    "            [\"group_id\", \"batch\", \"session_id\", \"trial_id\"],\n",
    "        ] = (group, batch, session, trial_id)\n",
    "        old_df.to_csv(database, index=False)\n",
    "    else:\n",
    "        print(\"metadata was already in csv!\")\n",
    "\n",
    "\n",
    "time = pd.read_csv(\"time.csv\", dtype=\"str\")\n",
    "groups = pd.read_csv(\"groups.csv\", dtype=\"str\")\n",
    "database = \"test.csv\"\n",
    "\n",
    "for recording in pd.read_csv(database, dtype=\"str\")[\"recording\"].values:\n",
    "    add_database_metadata(recording, overwrite=False)"
   ]
  },
  {
   "cell_type": "code",
   "execution_count": null,
   "id": "fc484c4e-18f0-46c0-bef9-e81e9cf1d7d7",
   "metadata": {},
   "outputs": [],
   "source": [
    "pd.read_csv(\"test.csv\")"
   ]
  },
  {
   "cell_type": "markdown",
   "id": "36f4844f-a89f-4db3-9d77-5c44ca47d601",
   "metadata": {},
   "source": [
    "#### create triangulated video\n",
    "##### (filename, start in s, end in s, output fps, speed)"
   ]
  },
  {
   "cell_type": "code",
   "execution_count": null,
   "id": "490d4c8a-a254-4c12-b764-e7a6fb3e46f6",
   "metadata": {},
   "outputs": [],
   "source": [
    "d.objects[\"triangulation_recordings_objects\"][\n",
    "    \"206_F2-63_220922_OTE\"\n",
    "].create_triangulated_video(\"test_125fps\", start_s=184, end_s=186, output_fps=24, speed=2)"
   ]
  },
  {
   "cell_type": "code",
   "execution_count": null,
   "id": "e0b1586b-ea11-48c9-bba3-83b0fa104acc",
   "metadata": {},
   "outputs": [],
   "source": []
  },
  {
   "cell_type": "code",
   "execution_count": null,
   "id": "e3acb150-b89c-4a13-aac5-ed221a03124b",
   "metadata": {},
   "outputs": [],
   "source": []
  },
  {
   "cell_type": "code",
   "execution_count": null,
   "id": "e465eafa-ceb8-4263-bafc-2b74a5be2c0a",
   "metadata": {},
   "outputs": [],
   "source": []
  },
  {
   "cell_type": "code",
   "execution_count": null,
   "id": "95801dc3-cc4d-439f-97fc-422156e51364",
   "metadata": {},
   "outputs": [],
   "source": []
  },
  {
   "cell_type": "code",
   "execution_count": null,
   "id": "8896d6a7-ef1e-45a0-846a-0fda3be1ae58",
   "metadata": {},
   "outputs": [],
   "source": []
  },
  {
   "cell_type": "code",
   "execution_count": null,
   "id": "b7daca53-2a43-48d3-a1d5-0e06255fde7b",
   "metadata": {},
   "outputs": [],
   "source": []
  },
  {
   "cell_type": "markdown",
   "id": "b2fff393-26e2-4592-85e7-44503f647550",
   "metadata": {},
   "source": [
    "### The meta .yaml file contains all information stored in d.meta"
   ]
  },
  {
   "cell_type": "code",
   "execution_count": null,
   "id": "f2ab7809-b48d-4f6d-9b1b-a8c9f7fd4714",
   "metadata": {
    "tags": []
   },
   "outputs": [],
   "source": [
    "d.export_meta_to_yaml(filepath=\"test_data/test_data.yaml\")"
   ]
  },
  {
   "cell_type": "code",
   "execution_count": null,
   "id": "e589b036-0788-4d00-b62f-c3fbb3d3ffb9",
   "metadata": {
    "tags": []
   },
   "outputs": [],
   "source": [
    "# not fully supported at the moment\n",
    "d.load_meta_from_yaml(filepath=\"test_data/test_data.yaml\")"
   ]
  },
  {
   "cell_type": "markdown",
   "id": "96e4be0e-f647-492c-8515-d76e2e519d14",
   "metadata": {},
   "source": [
    "#### To inspect the files, we recommend https://www.treedoc.org/, which creates a tree-like structured view for .yaml files"
   ]
  },
  {
   "cell_type": "code",
   "execution_count": null,
   "id": "9e17e9ae-5b23-4726-b618-fe0040a7a28f",
   "metadata": {
    "tags": []
   },
   "outputs": [],
   "source": []
  }
 ],
 "metadata": {
  "kernelspec": {
   "display_name": "Python 3 (ipykernel)",
   "language": "python",
   "name": "python3"
  },
  "language_info": {
   "codemirror_mode": {
    "name": "ipython",
    "version": 3
   },
   "file_extension": ".py",
   "mimetype": "text/x-python",
   "name": "python",
   "nbconvert_exporter": "python",
   "pygments_lexer": "ipython3",
   "version": "3.9.16"
  }
 },
 "nbformat": 4,
 "nbformat_minor": 5
}
