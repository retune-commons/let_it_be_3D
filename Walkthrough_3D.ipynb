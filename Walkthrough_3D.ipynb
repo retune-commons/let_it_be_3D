{
 "cells": [
  {
   "cell_type": "code",
   "execution_count": 2,
   "id": "0f2ec33e-8724-40c0-8cf1-7f9fbae03295",
   "metadata": {
    "tags": []
   },
   "outputs": [],
   "source": [
    "from core.meta import meta_interface\n",
    "\n",
    "%matplotlib inline"
   ]
  },
  {
   "cell_type": "code",
   "execution_count": 3,
   "id": "5d56a5c6-066e-443b-a194-ad453f040f17",
   "metadata": {
    "tags": []
   },
   "outputs": [],
   "source": [
    "d = meta_interface(project_config_path=\"test_data/project_config.yaml\")\n",
    "# manually add recording_configs\n",
    "d.add_recording_config(\n",
    "    \"test_data/Server_structure/Calibrations/220826/recording_config.yaml\"\n",
    ")\n",
    "d.initialize_meta_config()\n",
    "# switch recordings to other Recording_days -> calibration_directroy"
   ]
  },
  {
   "cell_type": "code",
   "execution_count": 4,
   "id": "3a5c71ad-cfd1-437e-8191-9691f95cd0c1",
   "metadata": {
    "tags": []
   },
   "outputs": [],
   "source": [
    "d.create_recordings()\n",
    "# update fps, video_filepath, target_fps"
   ]
  },
  {
   "cell_type": "code",
   "execution_count": null,
   "id": "715e09b9-673b-44df-af59-139eaeaf9d04",
   "metadata": {
    "tags": []
   },
   "outputs": [],
   "source": [
    "d.synchronize_recordings()  # test_mode: bool, doesnt overwrite synchronized and analysed videos\n",
    "# exclude recordingvideos based on synchronization"
   ]
  },
  {
   "cell_type": "code",
   "execution_count": 10,
   "id": "bdca04fd-9e0c-4c6b-a4ee-6f2236be8b17",
   "metadata": {
    "tags": []
   },
   "outputs": [],
   "source": [
    "d.create_calibrations()\n",
    "# update fps, video_filepath, target_fps"
   ]
  },
  {
   "cell_type": "code",
   "execution_count": null,
   "id": "76663c1f-a516-4f43-9b33-5ad098a67fdd",
   "metadata": {
    "tags": []
   },
   "outputs": [],
   "source": [
    "d.synchronize_calibrations()  # test_mode: bool, doesnt overwrite synchronized videos\n",
    "# exclude calibrationvideos based on synchronization, change markerdetection_filepaths etc."
   ]
  },
  {
   "cell_type": "code",
   "execution_count": null,
   "id": "931e8d8e-60a6-428a-ba95-db040bad14ff",
   "metadata": {
    "tags": []
   },
   "outputs": [],
   "source": []
  },
  {
   "cell_type": "code",
   "execution_count": null,
   "id": "ece5a619-2d48-4675-a397-341ab9c3715e",
   "metadata": {
    "tags": []
   },
   "outputs": [],
   "source": [
    "d.calibrate()\n",
    "# exclude calibrations based on calibration log and repeat calibration (not yet implemented) "
   ]
  },
  {
   "cell_type": "code",
   "execution_count": 18,
   "id": "c5a557dd-fc29-4c05-bca1-17bace9e21b6",
   "metadata": {
    "tags": []
   },
   "outputs": [],
   "source": [
    "d.triangulate_recordings()"
   ]
  },
  {
   "cell_type": "code",
   "execution_count": null,
   "id": "f98577ef-aeac-494b-b123-4efe7d105838",
   "metadata": {},
   "outputs": [],
   "source": []
  },
  {
   "cell_type": "code",
   "execution_count": null,
   "id": "28050af6-004a-4cf7-a912-54cb5a28104e",
   "metadata": {},
   "outputs": [],
   "source": []
  },
  {
   "cell_type": "code",
   "execution_count": 16,
   "id": "f2ab7809-b48d-4f6d-9b1b-a8c9f7fd4714",
   "metadata": {
    "tags": []
   },
   "outputs": [],
   "source": [
    "d.export_meta_to_yaml(filename=\"test_data/meta_test.yaml\")"
   ]
  },
  {
   "cell_type": "code",
   "execution_count": 17,
   "id": "e589b036-0788-4d00-b62f-c3fbb3d3ffb9",
   "metadata": {
    "tags": []
   },
   "outputs": [],
   "source": [
    "d.load_meta_from_yaml(filename=\"test_data/meta_test.yaml\")"
   ]
  },
  {
   "cell_type": "code",
   "execution_count": null,
   "id": "6ebaaeb2-9b93-4084-9eca-9952e8cbdd20",
   "metadata": {},
   "outputs": [],
   "source": []
  },
  {
   "cell_type": "code",
   "execution_count": null,
   "id": "e63b59f6-9fa0-4a93-8f58-6fb4f0bc1f3f",
   "metadata": {},
   "outputs": [],
   "source": []
  },
  {
   "cell_type": "code",
   "execution_count": null,
   "id": "4e3c2b0e-c8c4-46cd-bd2c-78323afc53f4",
   "metadata": {},
   "outputs": [],
   "source": []
  },
  {
   "cell_type": "code",
   "execution_count": null,
   "id": "abd7d7a7-0777-461a-a3a9-576123ed19fe",
   "metadata": {},
   "outputs": [],
   "source": []
  },
  {
   "cell_type": "code",
   "execution_count": null,
   "id": "228fa7ea-6470-4b26-8c03-0c7de4c3077e",
   "metadata": {},
   "outputs": [],
   "source": []
  },
  {
   "cell_type": "code",
   "execution_count": null,
   "id": "c24fdd4a",
   "metadata": {},
   "outputs": [],
   "source": [
    "from core.triangulation_calibration_module import (\n",
    "    Calibration,\n",
    "    Triangulation_Positions,\n",
    "    Triangulation_Recordings,\n",
    ")"
   ]
  },
  {
   "cell_type": "code",
   "execution_count": null,
   "id": "b13cae61",
   "metadata": {
    "scrolled": true,
    "tags": []
   },
   "outputs": [],
   "source": [
    "a = Calibration(\n",
    "    calibration_directory=\"test_data/Server_structure/Calibrations/220826/\",\n",
    "    project_config_filepath=\"test_data/project_config.yaml\",\n",
    "    recording_config_filepath=\"test_data/Server_structure/Calibrations/220826/recording_config.yaml\",\n",
    "    output_directory=\"test_data/Server_structure/Calibrations/220826/\",\n",
    ")"
   ]
  },
  {
   "cell_type": "code",
   "execution_count": null,
   "id": "628e3bb8-ce39-4733-83d8-89030428ee6b",
   "metadata": {
    "tags": []
   },
   "outputs": [],
   "source": [
    "a.run_synchronization()"
   ]
  },
  {
   "cell_type": "code",
   "execution_count": null,
   "id": "519526d5",
   "metadata": {
    "scrolled": true,
    "tags": []
   },
   "outputs": [],
   "source": [
    "a.run_calibration(verbose=True)"
   ]
  },
  {
   "cell_type": "code",
   "execution_count": null,
   "id": "c67ac275",
   "metadata": {},
   "outputs": [],
   "source": [
    "b = Triangulation_Recordings(\n",
    "    recording_directory=\"test_data/Server_structure/VGlut2-flp/September2022/196_F7-27/220826_OTT/\",\n",
    "    calibration_directory=\"test_data/Server_structure/Calibrations/220826/\",\n",
    "    recording_config_filepath=\"test_data/Server_structure/Calibrations/220826/recording_config.yaml\",\n",
    "    project_config_filepath=\"test_data/project_config.yaml\",\n",
    "    output_directory=\"test_data/Server_structure/VGlut2-flp/September2022/196_F7-27/220826_OTT/\",\n",
    ")"
   ]
  },
  {
   "cell_type": "code",
   "execution_count": null,
   "id": "f7e34efe-dc61-4ed2-bb6d-9e6acdfe1d59",
   "metadata": {},
   "outputs": [],
   "source": [
    "b.run_synchronization()"
   ]
  },
  {
   "cell_type": "code",
   "execution_count": null,
   "id": "fb2aabbb",
   "metadata": {
    "scrolled": true
   },
   "outputs": [],
   "source": [
    "b.run_triangulation(\n",
    "    calibration_toml_filepath=\"test_data/Server_structure/Calibrations/220826/calibration_220826.toml\"\n",
    ")"
   ]
  },
  {
   "cell_type": "code",
   "execution_count": null,
   "id": "a0b1927d-a532-4206-9c57-daeb0553a5a5",
   "metadata": {},
   "outputs": [],
   "source": [
    "c = Triangulation_Positions(\n",
    "    positions_directory=\"test_data/Server_structure/Calibrations/220826/\",\n",
    "    calibration_directory=\"test_data/Server_structure/Calibrations/220826/\",\n",
    "    recording_config_filepath=\"test_data/Server_structure/Calibrations/220826/recording_config.yaml\",\n",
    "    project_config_filepath=\"test_data/project_config.yaml\",\n",
    "    output_directory=\"test_data/Server_structure/Calibrations/220826/\",\n",
    ")"
   ]
  },
  {
   "cell_type": "code",
   "execution_count": null,
   "id": "fb8f9bb3-8578-4703-8562-6e12f0c26d2b",
   "metadata": {
    "tags": []
   },
   "outputs": [],
   "source": [
    "c.get_marker_predictions()"
   ]
  },
  {
   "cell_type": "code",
   "execution_count": null,
   "id": "e96eaf92-545f-40a1-897d-76b5cd38b978",
   "metadata": {},
   "outputs": [],
   "source": [
    "c.run_triangulation(\n",
    "    calibration_toml_filepath=\"test_data/Server_structure/Calibrations/220826/calibration_220826.toml\"\n",
    ")"
   ]
  },
  {
   "cell_type": "code",
   "execution_count": null,
   "id": "5ea35e8d-2332-4cf2-adce-e16a1b98594f",
   "metadata": {},
   "outputs": [],
   "source": []
  },
  {
   "cell_type": "code",
   "execution_count": null,
   "id": "a03a4ea9-c141-4656-be59-c0cf9230b626",
   "metadata": {},
   "outputs": [],
   "source": []
  },
  {
   "cell_type": "code",
   "execution_count": null,
   "id": "b475c3e6-2385-489f-8e02-60f6d1f1cd10",
   "metadata": {},
   "outputs": [],
   "source": []
  },
  {
   "cell_type": "code",
   "execution_count": null,
   "id": "056a5855-9ce4-45ce-9954-4092ee8302a8",
   "metadata": {},
   "outputs": [],
   "source": [
    "# special dependencies"
   ]
  },
  {
   "cell_type": "code",
   "execution_count": null,
   "id": "fc040d6b",
   "metadata": {},
   "outputs": [],
   "source": [
    "\"\"\"\n",
    "pip install aniposelib\n",
    "pip install ffmpeg\n",
    "pip install ffmpeg-python\n",
    "pip install imageio-ffmpeg\n",
    "jupyter lab\n",
    "Tkinter\n",
    "\"\"\""
   ]
  }
 ],
 "metadata": {
  "kernelspec": {
   "display_name": "Python 3 (ipykernel)",
   "language": "python",
   "name": "python3"
  },
  "language_info": {
   "codemirror_mode": {
    "name": "ipython",
    "version": 3
   },
   "file_extension": ".py",
   "mimetype": "text/x-python",
   "name": "python",
   "nbconvert_exporter": "python",
   "pygments_lexer": "ipython3",
   "version": "3.9.12"
  }
 },
 "nbformat": 4,
 "nbformat_minor": 5
}
