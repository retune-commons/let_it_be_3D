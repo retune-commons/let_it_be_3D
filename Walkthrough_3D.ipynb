{
 "cells": [
  {
   "cell_type": "code",
   "execution_count": 1,
   "id": "0f2ec33e-8724-40c0-8cf1-7f9fbae03295",
   "metadata": {
    "tags": []
   },
   "outputs": [],
   "source": [
    "from core.meta import meta_interface\n",
    "%matplotlib inline"
   ]
  },
  {
   "cell_type": "code",
   "execution_count": 2,
   "id": "5d56a5c6-066e-443b-a194-ad453f040f17",
   "metadata": {
    "tags": []
   },
   "outputs": [],
   "source": [
    "d = meta_interface(project_config_path=\"test_data/project_config.yaml\")\n",
    "# manually add recording_configs \n",
    "d.add_recording_config('test_data/Server_structure/Calibrations/220826/recording_config.yaml')\n",
    "d.initialize_meta_config()\n",
    "#d.meta\n",
    "# switch recordings to other Recording_days -> calibration_directroy"
   ]
  },
  {
   "cell_type": "code",
   "execution_count": 3,
   "id": "dfe586d7-72d4-4f9d-89f1-723757539add",
   "metadata": {
    "jupyter": {
     "source_hidden": true
    },
    "tags": []
   },
   "outputs": [],
   "source": [
    "d.export_meta_to_yaml(filename = \"test_data/meta_test.yaml\")\n",
    "# change recordingvideo target_fps, fps in videos, filepaths (e.g. if multiple topcam files)"
   ]
  },
  {
   "cell_type": "code",
   "execution_count": 4,
   "id": "406d7f78-830a-4143-a01d-41bed64720ac",
   "metadata": {
    "jupyter": {
     "source_hidden": true
    },
    "tags": []
   },
   "outputs": [],
   "source": [
    "d.load_meta_from_yaml(filename = \"test_data/meta_test.yaml\")"
   ]
  },
  {
   "cell_type": "code",
   "execution_count": 5,
   "id": "3a5c71ad-cfd1-437e-8191-9691f95cd0c1",
   "metadata": {
    "tags": []
   },
   "outputs": [],
   "source": [
    "d.create_recordings()\n",
    "#d.meta"
   ]
  },
  {
   "cell_type": "code",
   "execution_count": 6,
   "id": "23d9a61a-cae8-4270-a90a-99e063d7733b",
   "metadata": {
    "jupyter": {
     "source_hidden": true
    },
    "tags": []
   },
   "outputs": [],
   "source": [
    "d.export_meta_to_yaml(filename = \"test_data/meta_test.yaml\")\n",
    "# change recordingvideo target_fps, fps in videos, filepaths (e.g. if multiple topcam files)"
   ]
  },
  {
   "cell_type": "code",
   "execution_count": 7,
   "id": "323e5c8b-afa9-426d-b02f-b9d0426e1c63",
   "metadata": {
    "jupyter": {
     "source_hidden": true
    },
    "tags": []
   },
   "outputs": [],
   "source": [
    "d.load_meta_from_yaml(filename = \"test_data/meta_test.yaml\")"
   ]
  },
  {
   "cell_type": "code",
   "execution_count": 8,
   "id": "715e09b9-673b-44df-af59-139eaeaf9d04",
   "metadata": {
    "collapsed": true,
    "jupyter": {
     "outputs_hidden": true
    },
    "tags": []
   },
   "outputs": [
    {
     "ename": "KeyboardInterrupt",
     "evalue": "",
     "output_type": "error",
     "traceback": [
      "\u001b[0;31m---------------------------------------------------------------------------\u001b[0m",
      "\u001b[0;31mKeyboardInterrupt\u001b[0m                         Traceback (most recent call last)",
      "\u001b[0;32m/var/folders/hx/_gs381js7bx3d219r2yjsf8c0000gn/T/ipykernel_7075/2059934303.py\u001b[0m in \u001b[0;36m<cell line: 1>\u001b[0;34m()\u001b[0m\n\u001b[0;32m----> 1\u001b[0;31m \u001b[0md\u001b[0m\u001b[0;34m.\u001b[0m\u001b[0msynchronize_recordings\u001b[0m\u001b[0;34m(\u001b[0m\u001b[0;34m)\u001b[0m\u001b[0;34m\u001b[0m\u001b[0;34m\u001b[0m\u001b[0m\n\u001b[0m\u001b[1;32m      2\u001b[0m \u001b[0;31m#d.meta\u001b[0m\u001b[0;34m\u001b[0m\u001b[0;34m\u001b[0m\u001b[0m\n\u001b[1;32m      3\u001b[0m \u001b[0;31m# exclude recordingvideos based on synchronization\u001b[0m\u001b[0;34m\u001b[0m\u001b[0;34m\u001b[0m\u001b[0m\n",
      "\u001b[0;32m~/let_it_be_3D/core/meta.py\u001b[0m in \u001b[0;36msynchronize_recordings\u001b[0;34m(self)\u001b[0m\n\u001b[1;32m    174\u001b[0m         \u001b[0;32mfor\u001b[0m \u001b[0mrecording_day\u001b[0m \u001b[0;32min\u001b[0m \u001b[0mself\u001b[0m\u001b[0;34m.\u001b[0m\u001b[0mmeta\u001b[0m\u001b[0;34m[\u001b[0m\u001b[0;34m'recording_days'\u001b[0m\u001b[0;34m]\u001b[0m\u001b[0;34m.\u001b[0m\u001b[0mvalues\u001b[0m\u001b[0;34m(\u001b[0m\u001b[0;34m)\u001b[0m\u001b[0;34m:\u001b[0m\u001b[0;34m\u001b[0m\u001b[0;34m\u001b[0m\u001b[0m\n\u001b[1;32m    175\u001b[0m             \u001b[0;32mfor\u001b[0m \u001b[0mrecording\u001b[0m \u001b[0;32min\u001b[0m \u001b[0mrecording_day\u001b[0m\u001b[0;34m[\u001b[0m\u001b[0;34m'recordings'\u001b[0m\u001b[0;34m]\u001b[0m\u001b[0;34m:\u001b[0m\u001b[0;34m\u001b[0m\u001b[0;34m\u001b[0m\u001b[0m\n\u001b[0;32m--> 176\u001b[0;31m                 \u001b[0mself\u001b[0m\u001b[0;34m.\u001b[0m\u001b[0mobjects\u001b[0m\u001b[0;34m[\u001b[0m\u001b[0;34m\"triangulation_recordings_objects\"\u001b[0m\u001b[0;34m]\u001b[0m\u001b[0;34m[\u001b[0m\u001b[0mrecording\u001b[0m\u001b[0;34m]\u001b[0m\u001b[0;34m.\u001b[0m\u001b[0mrun_synchronization\u001b[0m\u001b[0;34m(\u001b[0m\u001b[0;34m)\u001b[0m\u001b[0;34m\u001b[0m\u001b[0;34m\u001b[0m\u001b[0m\n\u001b[0m\u001b[1;32m    177\u001b[0m                 \u001b[0;32mfor\u001b[0m \u001b[0mvideo\u001b[0m \u001b[0;32min\u001b[0m \u001b[0mrecording_day\u001b[0m\u001b[0;34m[\u001b[0m\u001b[0;34m'recordings'\u001b[0m\u001b[0;34m]\u001b[0m\u001b[0;34m[\u001b[0m\u001b[0mrecording\u001b[0m\u001b[0;34m]\u001b[0m\u001b[0;34m[\u001b[0m\u001b[0;34m\"videos\"\u001b[0m\u001b[0;34m]\u001b[0m\u001b[0;34m:\u001b[0m\u001b[0;34m\u001b[0m\u001b[0;34m\u001b[0m\u001b[0m\n\u001b[1;32m    178\u001b[0m                     \u001b[0mrecording_day\u001b[0m\u001b[0;34m[\u001b[0m\u001b[0;34m'recordings'\u001b[0m\u001b[0;34m]\u001b[0m\u001b[0;34m[\u001b[0m\u001b[0mrecording\u001b[0m\u001b[0;34m]\u001b[0m\u001b[0;34m[\u001b[0m\u001b[0;34m\"videos\"\u001b[0m\u001b[0;34m]\u001b[0m\u001b[0;34m[\u001b[0m\u001b[0mvideo\u001b[0m\u001b[0;34m]\u001b[0m\u001b[0;34m[\u001b[0m\u001b[0;34m\"marker_detection_filepath\"\u001b[0m\u001b[0;34m]\u001b[0m \u001b[0;34m=\u001b[0m \u001b[0mstr\u001b[0m\u001b[0;34m(\u001b[0m\u001b[0mself\u001b[0m\u001b[0;34m.\u001b[0m\u001b[0mobjects\u001b[0m\u001b[0;34m[\u001b[0m\u001b[0;34m\"triangulation_recordings_objects\"\u001b[0m\u001b[0;34m]\u001b[0m\u001b[0;34m[\u001b[0m\u001b[0mrecording\u001b[0m\u001b[0;34m]\u001b[0m\u001b[0;34m.\u001b[0m\u001b[0mtriangulation_dlc_cams_filepaths\u001b[0m\u001b[0;34m[\u001b[0m\u001b[0mvideo\u001b[0m\u001b[0;34m]\u001b[0m\u001b[0;34m)\u001b[0m\u001b[0;34m\u001b[0m\u001b[0;34m\u001b[0m\u001b[0m\n",
      "\u001b[0;32m~/let_it_be_3D/core/triangulation_calibration_module.py\u001b[0m in \u001b[0;36mrun_synchronization\u001b[0;34m(self, synchronize_only)\u001b[0m\n\u001b[1;32m    509\u001b[0m         \u001b[0;32mfor\u001b[0m \u001b[0mvideo_interface\u001b[0m \u001b[0;32min\u001b[0m \u001b[0mself\u001b[0m\u001b[0;34m.\u001b[0m\u001b[0mrecording_interfaces\u001b[0m\u001b[0;34m:\u001b[0m\u001b[0;34m\u001b[0m\u001b[0;34m\u001b[0m\u001b[0m\n\u001b[1;32m    510\u001b[0m             \u001b[0;32mif\u001b[0m \u001b[0mvideo_interface\u001b[0m\u001b[0;34m.\u001b[0m\u001b[0mmetadata\u001b[0m\u001b[0;34m.\u001b[0m\u001b[0mfps\u001b[0m \u001b[0;34m>=\u001b[0m \u001b[0mvideo_interface\u001b[0m\u001b[0;34m.\u001b[0m\u001b[0mmetadata\u001b[0m\u001b[0;34m.\u001b[0m\u001b[0mtarget_fps\u001b[0m\u001b[0;34m:\u001b[0m\u001b[0;34m\u001b[0m\u001b[0;34m\u001b[0m\u001b[0m\n\u001b[0;32m--> 511\u001b[0;31m                 video_interface.run_synchronizer(\n\u001b[0m\u001b[1;32m    512\u001b[0m                     \u001b[0msynchronizer\u001b[0m\u001b[0;34m=\u001b[0m\u001b[0mRecordingVideoDownSynchronizer\u001b[0m\u001b[0;34m,\u001b[0m\u001b[0;34m\u001b[0m\u001b[0;34m\u001b[0m\u001b[0m\n\u001b[1;32m    513\u001b[0m                     \u001b[0muse_gpu\u001b[0m\u001b[0;34m=\u001b[0m\u001b[0mvideo_interface\u001b[0m\u001b[0;34m.\u001b[0m\u001b[0mmetadata\u001b[0m\u001b[0;34m.\u001b[0m\u001b[0muse_gpu\u001b[0m\u001b[0;34m,\u001b[0m\u001b[0;34m\u001b[0m\u001b[0;34m\u001b[0m\u001b[0m\n",
      "\u001b[0;32m~/let_it_be_3D/core/video_interface.py\u001b[0m in \u001b[0;36mrun_synchronizer\u001b[0;34m(self, synchronizer, use_gpu, output_directory, overwrite, synchronize_only)\u001b[0m\n\u001b[1;32m     43\u001b[0m             \u001b[0mself\u001b[0m\u001b[0;34m.\u001b[0m\u001b[0msynchronized_video_filepath\u001b[0m\u001b[0;34m,\u001b[0m\u001b[0;34m\u001b[0m\u001b[0;34m\u001b[0m\u001b[0m\n\u001b[1;32m     44\u001b[0m             \u001b[0mself\u001b[0m\u001b[0;34m.\u001b[0m\u001b[0malready_synchronized\u001b[0m\u001b[0;34m,\u001b[0m\u001b[0;34m\u001b[0m\u001b[0;34m\u001b[0m\u001b[0m\n\u001b[0;32m---> 45\u001b[0;31m         ) = self.synchronizer_object.run_synchronization(overwrite=overwrite, synchronize_only = synchronize_only)\n\u001b[0m\u001b[1;32m     46\u001b[0m \u001b[0;34m\u001b[0m\u001b[0m\n\u001b[1;32m     47\u001b[0m     \u001b[0;32mdef\u001b[0m \u001b[0mexport_for_aniposelib\u001b[0m\u001b[0;34m(\u001b[0m\u001b[0mself\u001b[0m\u001b[0;34m)\u001b[0m \u001b[0;34m->\u001b[0m \u001b[0mUnion\u001b[0m\u001b[0;34m[\u001b[0m\u001b[0map_lib\u001b[0m\u001b[0;34m.\u001b[0m\u001b[0mcameras\u001b[0m\u001b[0;34m.\u001b[0m\u001b[0mCamera\u001b[0m\u001b[0;34m,\u001b[0m \u001b[0mPath\u001b[0m\u001b[0;34m]\u001b[0m\u001b[0;34m:\u001b[0m\u001b[0;34m\u001b[0m\u001b[0;34m\u001b[0m\u001b[0m\n",
      "\u001b[0;32m~/let_it_be_3D/core/video_synchronization.py\u001b[0m in \u001b[0;36mrun_synchronization\u001b[0;34m(self, synchronize_only, overwrite)\u001b[0m\n\u001b[1;32m    148\u001b[0m                 \u001b[0mled_center_coordinates\u001b[0m \u001b[0;34m=\u001b[0m \u001b[0mself\u001b[0m\u001b[0;34m.\u001b[0m\u001b[0m_get_LED_center_coordinates\u001b[0m\u001b[0;34m(\u001b[0m\u001b[0;34m)\u001b[0m\u001b[0;34m\u001b[0m\u001b[0;34m\u001b[0m\u001b[0m\n\u001b[1;32m    149\u001b[0m             \u001b[0;32melif\u001b[0m \u001b[0mi\u001b[0m \u001b[0;34m<\u001b[0m \u001b[0;36m3\u001b[0m\u001b[0;34m:\u001b[0m\u001b[0;34m\u001b[0m\u001b[0;34m\u001b[0m\u001b[0m\n\u001b[0;32m--> 150\u001b[0;31m                 \u001b[0mled_center_coordinates\u001b[0m \u001b[0;34m=\u001b[0m \u001b[0mself\u001b[0m\u001b[0;34m.\u001b[0m\u001b[0m_get_LED_center_coordinates\u001b[0m\u001b[0;34m(\u001b[0m\u001b[0;34m)\u001b[0m\u001b[0;34m\u001b[0m\u001b[0;34m\u001b[0m\u001b[0m\n\u001b[0m\u001b[1;32m    151\u001b[0m             \u001b[0;32melse\u001b[0m\u001b[0;34m:\u001b[0m\u001b[0;34m\u001b[0m\u001b[0;34m\u001b[0m\u001b[0m\n\u001b[1;32m    152\u001b[0m                 print(\n",
      "\u001b[0;32m~/let_it_be_3D/core/video_synchronization.py\u001b[0m in \u001b[0;36m_get_LED_center_coordinates\u001b[0;34m(self)\u001b[0m\n\u001b[1;32m    259\u001b[0m                 \u001b[0;32mfor\u001b[0m \u001b[0midx\u001b[0m \u001b[0;32min\u001b[0m \u001b[0msample_frame_idxs\u001b[0m\u001b[0;34m:\u001b[0m\u001b[0;34m\u001b[0m\u001b[0;34m\u001b[0m\u001b[0m\n\u001b[1;32m    260\u001b[0m                     selected_frames.append(\n\u001b[0;32m--> 261\u001b[0;31m                         \u001b[0miio\u001b[0m\u001b[0;34m.\u001b[0m\u001b[0mv3\u001b[0m\u001b[0;34m.\u001b[0m\u001b[0mimread\u001b[0m\u001b[0;34m(\u001b[0m\u001b[0mself\u001b[0m\u001b[0;34m.\u001b[0m\u001b[0mvideo_metadata\u001b[0m\u001b[0;34m.\u001b[0m\u001b[0mfilepath\u001b[0m\u001b[0;34m,\u001b[0m \u001b[0mindex\u001b[0m\u001b[0;34m=\u001b[0m\u001b[0midx\u001b[0m\u001b[0;34m)\u001b[0m\u001b[0;34m\u001b[0m\u001b[0;34m\u001b[0m\u001b[0m\n\u001b[0m\u001b[1;32m    262\u001b[0m                     )\n\u001b[1;32m    263\u001b[0m                 \u001b[0mvideo_array\u001b[0m \u001b[0;34m=\u001b[0m \u001b[0mnp\u001b[0m\u001b[0;34m.\u001b[0m\u001b[0masarray\u001b[0m\u001b[0;34m(\u001b[0m\u001b[0mselected_frames\u001b[0m\u001b[0;34m)\u001b[0m\u001b[0;34m\u001b[0m\u001b[0;34m\u001b[0m\u001b[0m\n",
      "\u001b[0;32m~/opt/anaconda3/lib/python3.9/site-packages/imageio/v3.py\u001b[0m in \u001b[0;36mimread\u001b[0;34m(uri, index, plugin, extension, format_hint, **kwargs)\u001b[0m\n\u001b[1;32m     56\u001b[0m \u001b[0;34m\u001b[0m\u001b[0m\n\u001b[1;32m     57\u001b[0m     \u001b[0;32mwith\u001b[0m \u001b[0mimopen\u001b[0m\u001b[0;34m(\u001b[0m\u001b[0muri\u001b[0m\u001b[0;34m,\u001b[0m \u001b[0;34m\"r\"\u001b[0m\u001b[0;34m,\u001b[0m \u001b[0;34m**\u001b[0m\u001b[0mplugin_kwargs\u001b[0m\u001b[0;34m)\u001b[0m \u001b[0;32mas\u001b[0m \u001b[0mimg_file\u001b[0m\u001b[0;34m:\u001b[0m\u001b[0;34m\u001b[0m\u001b[0;34m\u001b[0m\u001b[0m\n\u001b[0;32m---> 58\u001b[0;31m         \u001b[0;32mreturn\u001b[0m \u001b[0mnp\u001b[0m\u001b[0;34m.\u001b[0m\u001b[0masarray\u001b[0m\u001b[0;34m(\u001b[0m\u001b[0mimg_file\u001b[0m\u001b[0;34m.\u001b[0m\u001b[0mread\u001b[0m\u001b[0;34m(\u001b[0m\u001b[0;34m**\u001b[0m\u001b[0mcall_kwargs\u001b[0m\u001b[0;34m)\u001b[0m\u001b[0;34m)\u001b[0m\u001b[0;34m\u001b[0m\u001b[0;34m\u001b[0m\u001b[0m\n\u001b[0m\u001b[1;32m     59\u001b[0m \u001b[0;34m\u001b[0m\u001b[0m\n\u001b[1;32m     60\u001b[0m \u001b[0;34m\u001b[0m\u001b[0m\n",
      "\u001b[0;32m~/opt/anaconda3/lib/python3.9/site-packages/imageio/core/legacy_plugin_wrapper.py\u001b[0m in \u001b[0;36mread\u001b[0;34m(self, index, **kwargs)\u001b[0m\n\u001b[1;32m    144\u001b[0m \u001b[0;34m\u001b[0m\u001b[0m\n\u001b[1;32m    145\u001b[0m         \u001b[0mreader\u001b[0m \u001b[0;34m=\u001b[0m \u001b[0mself\u001b[0m\u001b[0;34m.\u001b[0m\u001b[0mlegacy_get_reader\u001b[0m\u001b[0;34m(\u001b[0m\u001b[0;34m**\u001b[0m\u001b[0mkwargs\u001b[0m\u001b[0;34m)\u001b[0m\u001b[0;34m\u001b[0m\u001b[0;34m\u001b[0m\u001b[0m\n\u001b[0;32m--> 146\u001b[0;31m         \u001b[0;32mreturn\u001b[0m \u001b[0mreader\u001b[0m\u001b[0;34m.\u001b[0m\u001b[0mget_data\u001b[0m\u001b[0;34m(\u001b[0m\u001b[0mindex\u001b[0m\u001b[0;34m)\u001b[0m\u001b[0;34m\u001b[0m\u001b[0;34m\u001b[0m\u001b[0m\n\u001b[0m\u001b[1;32m    147\u001b[0m \u001b[0;34m\u001b[0m\u001b[0m\n\u001b[1;32m    148\u001b[0m     \u001b[0;32mdef\u001b[0m \u001b[0mlegacy_get_writer\u001b[0m\u001b[0;34m(\u001b[0m\u001b[0mself\u001b[0m\u001b[0;34m,\u001b[0m \u001b[0;34m**\u001b[0m\u001b[0mkwargs\u001b[0m\u001b[0;34m)\u001b[0m\u001b[0;34m:\u001b[0m\u001b[0;34m\u001b[0m\u001b[0;34m\u001b[0m\u001b[0m\n",
      "\u001b[0;32m~/opt/anaconda3/lib/python3.9/site-packages/imageio/core/format.py\u001b[0m in \u001b[0;36mget_data\u001b[0;34m(self, index, **kwargs)\u001b[0m\n\u001b[1;32m    432\u001b[0m             \u001b[0mself\u001b[0m\u001b[0;34m.\u001b[0m\u001b[0m_BaseReaderWriter_last_index\u001b[0m \u001b[0;34m=\u001b[0m \u001b[0mindex\u001b[0m\u001b[0;34m\u001b[0m\u001b[0;34m\u001b[0m\u001b[0m\n\u001b[1;32m    433\u001b[0m             \u001b[0;32mtry\u001b[0m\u001b[0;34m:\u001b[0m\u001b[0;34m\u001b[0m\u001b[0;34m\u001b[0m\u001b[0m\n\u001b[0;32m--> 434\u001b[0;31m                 \u001b[0mim\u001b[0m\u001b[0;34m,\u001b[0m \u001b[0mmeta\u001b[0m \u001b[0;34m=\u001b[0m \u001b[0mself\u001b[0m\u001b[0;34m.\u001b[0m\u001b[0m_get_data\u001b[0m\u001b[0;34m(\u001b[0m\u001b[0mindex\u001b[0m\u001b[0;34m,\u001b[0m \u001b[0;34m**\u001b[0m\u001b[0mkwargs\u001b[0m\u001b[0;34m)\u001b[0m\u001b[0;34m\u001b[0m\u001b[0;34m\u001b[0m\u001b[0m\n\u001b[0m\u001b[1;32m    435\u001b[0m             \u001b[0;32mexcept\u001b[0m \u001b[0mStopIteration\u001b[0m\u001b[0;34m:\u001b[0m\u001b[0;34m\u001b[0m\u001b[0;34m\u001b[0m\u001b[0m\n\u001b[1;32m    436\u001b[0m                 \u001b[0;32mraise\u001b[0m \u001b[0mIndexError\u001b[0m\u001b[0;34m(\u001b[0m\u001b[0mindex\u001b[0m\u001b[0;34m)\u001b[0m\u001b[0;34m\u001b[0m\u001b[0;34m\u001b[0m\u001b[0m\n",
      "\u001b[0;32m~/opt/anaconda3/lib/python3.9/site-packages/imageio/plugins/ffmpeg.py\u001b[0m in \u001b[0;36m_get_data\u001b[0;34m(self, index)\u001b[0m\n\u001b[1;32m    411\u001b[0m             \u001b[0;32melse\u001b[0m\u001b[0;34m:\u001b[0m\u001b[0;34m\u001b[0m\u001b[0;34m\u001b[0m\u001b[0m\n\u001b[1;32m    412\u001b[0m                 \u001b[0;32mif\u001b[0m \u001b[0;34m(\u001b[0m\u001b[0mindex\u001b[0m \u001b[0;34m<\u001b[0m \u001b[0mself\u001b[0m\u001b[0;34m.\u001b[0m\u001b[0m_pos\u001b[0m\u001b[0;34m)\u001b[0m \u001b[0;32mor\u001b[0m \u001b[0;34m(\u001b[0m\u001b[0mindex\u001b[0m \u001b[0;34m>\u001b[0m \u001b[0mself\u001b[0m\u001b[0;34m.\u001b[0m\u001b[0m_pos\u001b[0m \u001b[0;34m+\u001b[0m \u001b[0;36m100\u001b[0m\u001b[0;34m)\u001b[0m\u001b[0;34m:\u001b[0m\u001b[0;34m\u001b[0m\u001b[0;34m\u001b[0m\u001b[0m\n\u001b[0;32m--> 413\u001b[0;31m                     \u001b[0mself\u001b[0m\u001b[0;34m.\u001b[0m\u001b[0m_initialize\u001b[0m\u001b[0;34m(\u001b[0m\u001b[0mindex\u001b[0m\u001b[0;34m)\u001b[0m\u001b[0;34m\u001b[0m\u001b[0;34m\u001b[0m\u001b[0m\n\u001b[0m\u001b[1;32m    414\u001b[0m                 \u001b[0;32melse\u001b[0m\u001b[0;34m:\u001b[0m\u001b[0;34m\u001b[0m\u001b[0;34m\u001b[0m\u001b[0m\n\u001b[1;32m    415\u001b[0m                     \u001b[0mself\u001b[0m\u001b[0;34m.\u001b[0m\u001b[0m_skip_frames\u001b[0m\u001b[0;34m(\u001b[0m\u001b[0mindex\u001b[0m \u001b[0;34m-\u001b[0m \u001b[0mself\u001b[0m\u001b[0;34m.\u001b[0m\u001b[0m_pos\u001b[0m \u001b[0;34m-\u001b[0m \u001b[0;36m1\u001b[0m\u001b[0;34m)\u001b[0m\u001b[0;34m\u001b[0m\u001b[0;34m\u001b[0m\u001b[0m\n",
      "\u001b[0;32m~/opt/anaconda3/lib/python3.9/site-packages/imageio/plugins/ffmpeg.py\u001b[0m in \u001b[0;36m_initialize\u001b[0;34m(self, index)\u001b[0m\n\u001b[1;32m    500\u001b[0m                 \u001b[0mself\u001b[0m\u001b[0;34m.\u001b[0m\u001b[0m_meta\u001b[0m\u001b[0;34m.\u001b[0m\u001b[0mupdate\u001b[0m\u001b[0;34m(\u001b[0m\u001b[0mself\u001b[0m\u001b[0;34m.\u001b[0m\u001b[0m_read_gen\u001b[0m\u001b[0;34m.\u001b[0m\u001b[0m__next__\u001b[0m\u001b[0;34m(\u001b[0m\u001b[0;34m)\u001b[0m\u001b[0;34m)\u001b[0m\u001b[0;34m\u001b[0m\u001b[0;34m\u001b[0m\u001b[0m\n\u001b[1;32m    501\u001b[0m             \u001b[0;32melse\u001b[0m\u001b[0;34m:\u001b[0m\u001b[0;34m\u001b[0m\u001b[0;34m\u001b[0m\u001b[0m\n\u001b[0;32m--> 502\u001b[0;31m                 \u001b[0mself\u001b[0m\u001b[0;34m.\u001b[0m\u001b[0m_read_gen\u001b[0m\u001b[0;34m.\u001b[0m\u001b[0m__next__\u001b[0m\u001b[0;34m(\u001b[0m\u001b[0;34m)\u001b[0m  \u001b[0;31m# we already have meta data\u001b[0m\u001b[0;34m\u001b[0m\u001b[0;34m\u001b[0m\u001b[0m\n\u001b[0m\u001b[1;32m    503\u001b[0m \u001b[0;34m\u001b[0m\u001b[0m\n\u001b[1;32m    504\u001b[0m         \u001b[0;32mdef\u001b[0m \u001b[0m_skip_frames\u001b[0m\u001b[0;34m(\u001b[0m\u001b[0mself\u001b[0m\u001b[0;34m,\u001b[0m \u001b[0mn\u001b[0m\u001b[0;34m=\u001b[0m\u001b[0;36m1\u001b[0m\u001b[0;34m)\u001b[0m\u001b[0;34m:\u001b[0m\u001b[0;34m\u001b[0m\u001b[0;34m\u001b[0m\u001b[0m\n",
      "\u001b[0;32m~/opt/anaconda3/lib/python3.9/site-packages/imageio_ffmpeg/_io.py\u001b[0m in \u001b[0;36mread_frames\u001b[0;34m(path, pix_fmt, bpp, input_params, output_params, bits_per_pixel)\u001b[0m\n\u001b[1;32m    267\u001b[0m     )\n\u001b[1;32m    268\u001b[0m \u001b[0;34m\u001b[0m\u001b[0m\n\u001b[0;32m--> 269\u001b[0;31m     \u001b[0mlog_catcher\u001b[0m \u001b[0;34m=\u001b[0m \u001b[0mLogCatcher\u001b[0m\u001b[0;34m(\u001b[0m\u001b[0mp\u001b[0m\u001b[0;34m.\u001b[0m\u001b[0mstderr\u001b[0m\u001b[0;34m)\u001b[0m\u001b[0;34m\u001b[0m\u001b[0;34m\u001b[0m\u001b[0m\n\u001b[0m\u001b[1;32m    270\u001b[0m \u001b[0;34m\u001b[0m\u001b[0m\n\u001b[1;32m    271\u001b[0m     \u001b[0;31m# Init policy by which to terminate ffmpeg. May be set to \"kill\" later.\u001b[0m\u001b[0;34m\u001b[0m\u001b[0;34m\u001b[0m\u001b[0m\n",
      "\u001b[0;32m~/opt/anaconda3/lib/python3.9/site-packages/imageio_ffmpeg/_parsing.py\u001b[0m in \u001b[0;36m__init__\u001b[0;34m(self, file)\u001b[0m\n\u001b[1;32m     21\u001b[0m         \u001b[0mself\u001b[0m\u001b[0;34m.\u001b[0m\u001b[0mdaemon\u001b[0m \u001b[0;34m=\u001b[0m \u001b[0;32mTrue\u001b[0m  \u001b[0;31m# do not let this thread hold up Python shutdown\u001b[0m\u001b[0;34m\u001b[0m\u001b[0;34m\u001b[0m\u001b[0m\n\u001b[1;32m     22\u001b[0m         \u001b[0mself\u001b[0m\u001b[0;34m.\u001b[0m\u001b[0m_should_stop\u001b[0m \u001b[0;34m=\u001b[0m \u001b[0;32mFalse\u001b[0m\u001b[0;34m\u001b[0m\u001b[0;34m\u001b[0m\u001b[0m\n\u001b[0;32m---> 23\u001b[0;31m         \u001b[0mself\u001b[0m\u001b[0;34m.\u001b[0m\u001b[0mstart\u001b[0m\u001b[0;34m(\u001b[0m\u001b[0;34m)\u001b[0m\u001b[0;34m\u001b[0m\u001b[0;34m\u001b[0m\u001b[0m\n\u001b[0m\u001b[1;32m     24\u001b[0m \u001b[0;34m\u001b[0m\u001b[0m\n\u001b[1;32m     25\u001b[0m     \u001b[0;32mdef\u001b[0m \u001b[0mstop_me\u001b[0m\u001b[0;34m(\u001b[0m\u001b[0mself\u001b[0m\u001b[0;34m)\u001b[0m\u001b[0;34m:\u001b[0m\u001b[0;34m\u001b[0m\u001b[0;34m\u001b[0m\u001b[0m\n",
      "\u001b[0;32m~/opt/anaconda3/lib/python3.9/threading.py\u001b[0m in \u001b[0;36mstart\u001b[0;34m(self)\u001b[0m\n\u001b[1;32m    895\u001b[0m                 \u001b[0;32mdel\u001b[0m \u001b[0m_limbo\u001b[0m\u001b[0;34m[\u001b[0m\u001b[0mself\u001b[0m\u001b[0;34m]\u001b[0m\u001b[0;34m\u001b[0m\u001b[0;34m\u001b[0m\u001b[0m\n\u001b[1;32m    896\u001b[0m             \u001b[0;32mraise\u001b[0m\u001b[0;34m\u001b[0m\u001b[0;34m\u001b[0m\u001b[0m\n\u001b[0;32m--> 897\u001b[0;31m         \u001b[0mself\u001b[0m\u001b[0;34m.\u001b[0m\u001b[0m_started\u001b[0m\u001b[0;34m.\u001b[0m\u001b[0mwait\u001b[0m\u001b[0;34m(\u001b[0m\u001b[0;34m)\u001b[0m\u001b[0;34m\u001b[0m\u001b[0;34m\u001b[0m\u001b[0m\n\u001b[0m\u001b[1;32m    898\u001b[0m \u001b[0;34m\u001b[0m\u001b[0m\n\u001b[1;32m    899\u001b[0m     \u001b[0;32mdef\u001b[0m \u001b[0mrun\u001b[0m\u001b[0;34m(\u001b[0m\u001b[0mself\u001b[0m\u001b[0;34m)\u001b[0m\u001b[0;34m:\u001b[0m\u001b[0;34m\u001b[0m\u001b[0;34m\u001b[0m\u001b[0m\n",
      "\u001b[0;32m~/opt/anaconda3/lib/python3.9/threading.py\u001b[0m in \u001b[0;36mwait\u001b[0;34m(self, timeout)\u001b[0m\n\u001b[1;32m    572\u001b[0m             \u001b[0msignaled\u001b[0m \u001b[0;34m=\u001b[0m \u001b[0mself\u001b[0m\u001b[0;34m.\u001b[0m\u001b[0m_flag\u001b[0m\u001b[0;34m\u001b[0m\u001b[0;34m\u001b[0m\u001b[0m\n\u001b[1;32m    573\u001b[0m             \u001b[0;32mif\u001b[0m \u001b[0;32mnot\u001b[0m \u001b[0msignaled\u001b[0m\u001b[0;34m:\u001b[0m\u001b[0;34m\u001b[0m\u001b[0;34m\u001b[0m\u001b[0m\n\u001b[0;32m--> 574\u001b[0;31m                 \u001b[0msignaled\u001b[0m \u001b[0;34m=\u001b[0m \u001b[0mself\u001b[0m\u001b[0;34m.\u001b[0m\u001b[0m_cond\u001b[0m\u001b[0;34m.\u001b[0m\u001b[0mwait\u001b[0m\u001b[0;34m(\u001b[0m\u001b[0mtimeout\u001b[0m\u001b[0;34m)\u001b[0m\u001b[0;34m\u001b[0m\u001b[0;34m\u001b[0m\u001b[0m\n\u001b[0m\u001b[1;32m    575\u001b[0m             \u001b[0;32mreturn\u001b[0m \u001b[0msignaled\u001b[0m\u001b[0;34m\u001b[0m\u001b[0;34m\u001b[0m\u001b[0m\n\u001b[1;32m    576\u001b[0m \u001b[0;34m\u001b[0m\u001b[0m\n",
      "\u001b[0;32m~/opt/anaconda3/lib/python3.9/threading.py\u001b[0m in \u001b[0;36mwait\u001b[0;34m(self, timeout)\u001b[0m\n\u001b[1;32m    310\u001b[0m         \u001b[0;32mtry\u001b[0m\u001b[0;34m:\u001b[0m    \u001b[0;31m# restore state no matter what (e.g., KeyboardInterrupt)\u001b[0m\u001b[0;34m\u001b[0m\u001b[0;34m\u001b[0m\u001b[0m\n\u001b[1;32m    311\u001b[0m             \u001b[0;32mif\u001b[0m \u001b[0mtimeout\u001b[0m \u001b[0;32mis\u001b[0m \u001b[0;32mNone\u001b[0m\u001b[0;34m:\u001b[0m\u001b[0;34m\u001b[0m\u001b[0;34m\u001b[0m\u001b[0m\n\u001b[0;32m--> 312\u001b[0;31m                 \u001b[0mwaiter\u001b[0m\u001b[0;34m.\u001b[0m\u001b[0macquire\u001b[0m\u001b[0;34m(\u001b[0m\u001b[0;34m)\u001b[0m\u001b[0;34m\u001b[0m\u001b[0;34m\u001b[0m\u001b[0m\n\u001b[0m\u001b[1;32m    313\u001b[0m                 \u001b[0mgotit\u001b[0m \u001b[0;34m=\u001b[0m \u001b[0;32mTrue\u001b[0m\u001b[0;34m\u001b[0m\u001b[0;34m\u001b[0m\u001b[0m\n\u001b[1;32m    314\u001b[0m             \u001b[0;32melse\u001b[0m\u001b[0;34m:\u001b[0m\u001b[0;34m\u001b[0m\u001b[0;34m\u001b[0m\u001b[0m\n",
      "\u001b[0;31mKeyboardInterrupt\u001b[0m: "
     ]
    }
   ],
   "source": [
    "d.synchronize_recordings()\n",
    "#d.meta\n",
    "# exclude recordingvideos based on synchronization"
   ]
  },
  {
   "cell_type": "code",
   "execution_count": 10,
   "id": "bdca04fd-9e0c-4c6b-a4ee-6f2236be8b17",
   "metadata": {
    "tags": []
   },
   "outputs": [],
   "source": [
    "d.create_calibrations()\n",
    "#d.meta"
   ]
  },
  {
   "cell_type": "code",
   "execution_count": null,
   "id": "054e9acf-9bae-4dd7-9c95-aac0412011ee",
   "metadata": {
    "jupyter": {
     "source_hidden": true
    },
    "tags": []
   },
   "outputs": [],
   "source": [
    "d.export_meta_to_yaml(filename = \"test_data/meta_test.yaml\")\n",
    "# change calibrationvideo target_fps, fps in videos, filepaths (e.g. if multiple topcam files)"
   ]
  },
  {
   "cell_type": "code",
   "execution_count": null,
   "id": "3d730a89-4625-49c1-be0a-bf42244062d5",
   "metadata": {
    "jupyter": {
     "source_hidden": true
    },
    "tags": []
   },
   "outputs": [],
   "source": [
    "d.load_meta_from_yaml(filename = \"test_data/meta_test.yaml\")"
   ]
  },
  {
   "cell_type": "code",
   "execution_count": null,
   "id": "76663c1f-a516-4f43-9b33-5ad098a67fdd",
   "metadata": {
    "tags": []
   },
   "outputs": [],
   "source": [
    "d.synchronize_calibrations()\n",
    "#d.meta\n",
    "# exclude calibrationvideos based on synchronization, change markerdetection_filepaths etc."
   ]
  },
  {
   "cell_type": "code",
   "execution_count": null,
   "id": "931e8d8e-60a6-428a-ba95-db040bad14ff",
   "metadata": {},
   "outputs": [],
   "source": [
    "import yaml\n",
    "with open(\"test_data/Server_structure/Calibrations/220826/positionsh5s.yaml\", \"r\") as ymlfile:\n",
    "    positionsh5s = yaml.load(ymlfile, Loader=yaml.SafeLoader)\n",
    "for video in d.meta[\"recording_days\"][\"Recording_Day_220826_0\"][\"calibrations\"][\"videos\"].values():\n",
    "    video[\"positions_marker_detection_filepath\"]=positionsh5s[video.cam_id]"
   ]
  },
  {
   "cell_type": "code",
   "execution_count": null,
   "id": "c7e3ac5b-61fd-455c-b1e9-e1f7cedf6f8f",
   "metadata": {
    "tags": []
   },
   "outputs": [],
   "source": [
    "d.export_meta_to_yaml(filename = \"test_data/meta_test.yaml\")"
   ]
  },
  {
   "cell_type": "code",
   "execution_count": null,
   "id": "e546d4b6-ee13-4e76-b215-b9c6e7ab182e",
   "metadata": {
    "tags": []
   },
   "outputs": [],
   "source": [
    "d.load_meta_from_yaml(filename = \"test_data/meta_test.yaml\")"
   ]
  },
  {
   "cell_type": "code",
   "execution_count": null,
   "id": "ece5a619-2d48-4675-a397-341ab9c3715e",
   "metadata": {
    "tags": []
   },
   "outputs": [],
   "source": [
    "d.calibrate()\n",
    "#d.meta\n",
    "# exclude calibrations based on calibration log (not yet implemented) and repeat calibration "
   ]
  },
  {
   "cell_type": "code",
   "execution_count": 16,
   "id": "f2ab7809-b48d-4f6d-9b1b-a8c9f7fd4714",
   "metadata": {
    "jupyter": {
     "source_hidden": true
    },
    "tags": []
   },
   "outputs": [],
   "source": [
    "d.export_meta_to_yaml(filename = \"test_data/meta_test.yaml\")"
   ]
  },
  {
   "cell_type": "code",
   "execution_count": 17,
   "id": "e589b036-0788-4d00-b62f-c3fbb3d3ffb9",
   "metadata": {
    "jupyter": {
     "source_hidden": true
    },
    "tags": []
   },
   "outputs": [],
   "source": [
    "d.load_meta_from_yaml(filename = \"test_data/meta_test.yaml\")"
   ]
  },
  {
   "cell_type": "code",
   "execution_count": 18,
   "id": "c5a557dd-fc29-4c05-bca1-17bace9e21b6",
   "metadata": {
    "tags": []
   },
   "outputs": [],
   "source": [
    "d.triangulate_recordings()"
   ]
  },
  {
   "cell_type": "code",
   "execution_count": null,
   "id": "b9599b10-881b-42aa-b91d-06c3e219b0ad",
   "metadata": {},
   "outputs": [],
   "source": []
  },
  {
   "cell_type": "code",
   "execution_count": null,
   "id": "4f75519e-a7c8-46f5-a072-efb98882c274",
   "metadata": {},
   "outputs": [],
   "source": []
  },
  {
   "cell_type": "code",
   "execution_count": null,
   "id": "5d0ad7b3-cf84-4ba8-b027-1a06dc6c1752",
   "metadata": {},
   "outputs": [],
   "source": [
    "Was geschehen soll:\n",
    "    \n",
    "1.\n",
    "- alle recording configs manuell hinzufügen\n",
    "- alle recording directories finden/manuell hinzufügen\n",
    "- Recording_Triangulation objekte erstellen\n",
    "# in notebook (per user input) filenaming (paradigm, etc.) korrigieren\n",
    "- metadata sammeln\n",
    "STOP \n",
    "2.\n",
    "- synchronisiert videos und läuft DLC\n",
    "- meta: synchro_path, DLC_path, synchro_framenum\n",
    "STOP: check exclusion manually!\n",
    "3.\n",
    "?A\n",
    "- necessary_calibrations based on exclusion_flags\n",
    "- meta: calibration_to_use based on necessary_calibrations\n",
    "- create calibration objects based on necessary_calibrations\n",
    "4.\n",
    "Calibration wird erstellt\n",
    "- meta: videos mit cam_id, fps, framenum, path, exclusion_flag, intrinsic_calibrations\n",
    "erstellt Positions\n",
    "- meta: Positions\n",
    "STOP\n",
    "5.\n",
    "- Positions: marker predicition\n",
    "- synchronisiert videos\n",
    "- meta: synchro videos, marker_predictions positions\n",
    "STOP\n",
    "6.\n",
    "!wenn calbration video excluded wird, repeat von ?A mit overwrite=False, remove video from Triangulation object\n",
    "- create calibration.toml \n",
    "7.\n",
    "Triangulation_Recordings\n",
    "- run triangulation\n",
    "- meta: 3D.csv, error"
   ]
  },
  {
   "cell_type": "code",
   "execution_count": null,
   "id": "35727373-5458-47c9-bcdd-1c327a3092f4",
   "metadata": {},
   "outputs": [],
   "source": [
    "Was bisher noch fehlt: \n",
    "\n",
    "code schöner: \n",
    "- go through.triang_calib_module, video_module, video_synchronization_module\n",
    "- remove already synchronized?\n",
    "- black\n",
    "\n",
    "update intrinsic calibrations in all recording video and calibration video objects?\n",
    "6. (sobald implementiert: optimize calibration based on positions dafür: triangulate positions) "
   ]
  },
  {
   "cell_type": "code",
   "execution_count": null,
   "id": "6c7a2e88-40d1-4998-9908-44ee286dfbcf",
   "metadata": {},
   "outputs": [],
   "source": []
  },
  {
   "cell_type": "code",
   "execution_count": null,
   "id": "eb82f9ae-1313-4b14-af25-f499573c81b8",
   "metadata": {},
   "outputs": [],
   "source": []
  },
  {
   "cell_type": "code",
   "execution_count": null,
   "id": "e63b59f6-9fa0-4a93-8f58-6fb4f0bc1f3f",
   "metadata": {},
   "outputs": [],
   "source": []
  },
  {
   "cell_type": "code",
   "execution_count": null,
   "id": "77d1f1b8-6281-44be-88d2-b881ee16338e",
   "metadata": {},
   "outputs": [],
   "source": [
    "how to handle:\n",
    "    several calibrations at one day:\n",
    "        individual directories and recording_configs per calibration, set calibration_index in recording_configs individually!\n",
    "    in meta.yaml: all recordings of the day can be found at all calibrations of the day -> just keep the right recordings and delete the others"
   ]
  },
  {
   "cell_type": "code",
   "execution_count": null,
   "id": "4e3c2b0e-c8c4-46cd-bd2c-78323afc53f4",
   "metadata": {},
   "outputs": [],
   "source": []
  },
  {
   "cell_type": "code",
   "execution_count": null,
   "id": "abd7d7a7-0777-461a-a3a9-576123ed19fe",
   "metadata": {},
   "outputs": [],
   "source": []
  },
  {
   "cell_type": "code",
   "execution_count": null,
   "id": "228fa7ea-6470-4b26-8c03-0c7de4c3077e",
   "metadata": {},
   "outputs": [],
   "source": []
  },
  {
   "cell_type": "code",
   "execution_count": null,
   "id": "c24fdd4a",
   "metadata": {},
   "outputs": [],
   "source": [
    "from core.triangulation_calibration_module import Calibration, Triangulation_Positions, Triangulation_Recordings"
   ]
  },
  {
   "cell_type": "code",
   "execution_count": null,
   "id": "b13cae61",
   "metadata": {
    "scrolled": true,
    "tags": []
   },
   "outputs": [],
   "source": [
    "a = Calibration(calibration_directory = 'test_data/Server_structure/Calibrations/220826/', \n",
    "                project_config_filepath = 'test_data/project_config.yaml',\n",
    "                recording_config_filepath = 'test_data/Server_structure/Calibrations/220826/recording_config.yaml',\n",
    "                output_directory = 'test_data/Server_structure/Calibrations/220826/')"
   ]
  },
  {
   "cell_type": "code",
   "execution_count": null,
   "id": "628e3bb8-ce39-4733-83d8-89030428ee6b",
   "metadata": {
    "tags": []
   },
   "outputs": [],
   "source": [
    "a.run_synchronization()"
   ]
  },
  {
   "cell_type": "code",
   "execution_count": null,
   "id": "519526d5",
   "metadata": {
    "scrolled": true,
    "tags": []
   },
   "outputs": [],
   "source": [
    "a.run_calibration(verbose = True)"
   ]
  },
  {
   "cell_type": "code",
   "execution_count": null,
   "id": "c67ac275",
   "metadata": {},
   "outputs": [],
   "source": [
    "b = Triangulation_Recordings(recording_directory = 'test_data/Server_structure/VGlut2-flp/September2022/196_F7-27/220826_OTT/', \n",
    "                             calibration_directory = 'test_data/Server_structure/Calibrations/220826/',\n",
    "                             recording_config_filepath = 'test_data/Server_structure/Calibrations/220826/recording_config.yaml', \n",
    "                             project_config_filepath= 'test_data/project_config.yaml',\n",
    "                             output_directory = \"test_data/Server_structure/VGlut2-flp/September2022/196_F7-27/220826_OTT/\")"
   ]
  },
  {
   "cell_type": "code",
   "execution_count": null,
   "id": "f7e34efe-dc61-4ed2-bb6d-9e6acdfe1d59",
   "metadata": {},
   "outputs": [],
   "source": [
    "b.run_synchronization()"
   ]
  },
  {
   "cell_type": "code",
   "execution_count": null,
   "id": "fb2aabbb",
   "metadata": {
    "scrolled": true
   },
   "outputs": [],
   "source": [
    "b.run_triangulation(calibration_toml_filepath = 'test_data/Server_structure/Calibrations/220826/calibration_220826.toml')"
   ]
  },
  {
   "cell_type": "code",
   "execution_count": null,
   "id": "a0b1927d-a532-4206-9c57-daeb0553a5a5",
   "metadata": {},
   "outputs": [],
   "source": [
    "c = Triangulation_Positions(positions_directory = 'test_data/Server_structure/Calibrations/220826/', \n",
    "                            calibration_directory = 'test_data/Server_structure/Calibrations/220826/',\n",
    "                            recording_config_filepath = 'test_data/Server_structure/Calibrations/220826/recording_config.yaml', \n",
    "                            project_config_filepath= 'test_data/project_config.yaml',\n",
    "                            output_directory = 'test_data/Server_structure/Calibrations/220826/')"
   ]
  },
  {
   "cell_type": "code",
   "execution_count": null,
   "id": "fb8f9bb3-8578-4703-8562-6e12f0c26d2b",
   "metadata": {
    "tags": []
   },
   "outputs": [],
   "source": [
    "c.get_marker_predictions()"
   ]
  },
  {
   "cell_type": "code",
   "execution_count": null,
   "id": "e96eaf92-545f-40a1-897d-76b5cd38b978",
   "metadata": {},
   "outputs": [],
   "source": [
    "c.run_triangulation(calibration_toml_filepath = 'test_data/Server_structure/Calibrations/220826/calibration_220826.toml')"
   ]
  },
  {
   "cell_type": "code",
   "execution_count": null,
   "id": "5ea35e8d-2332-4cf2-adce-e16a1b98594f",
   "metadata": {},
   "outputs": [],
   "source": []
  },
  {
   "cell_type": "code",
   "execution_count": null,
   "id": "a03a4ea9-c141-4656-be59-c0cf9230b626",
   "metadata": {},
   "outputs": [],
   "source": []
  },
  {
   "cell_type": "code",
   "execution_count": null,
   "id": "b475c3e6-2385-489f-8e02-60f6d1f1cd10",
   "metadata": {},
   "outputs": [],
   "source": []
  },
  {
   "cell_type": "code",
   "execution_count": null,
   "id": "056a5855-9ce4-45ce-9954-4092ee8302a8",
   "metadata": {},
   "outputs": [],
   "source": [
    "# special dependencies"
   ]
  },
  {
   "cell_type": "code",
   "execution_count": null,
   "id": "fc040d6b",
   "metadata": {},
   "outputs": [],
   "source": [
    "\"\"\"\n",
    "pip install aniposelib\n",
    "pip install ffmpeg\n",
    "pip install ffmpeg-python\n",
    "pip install imageio-ffmpeg\n",
    "jupyter lab\n",
    "Tkinter\n",
    "\"\"\""
   ]
  }
 ],
 "metadata": {
  "kernelspec": {
   "display_name": "Python 3 (ipykernel)",
   "language": "python",
   "name": "python3"
  },
  "language_info": {
   "codemirror_mode": {
    "name": "ipython",
    "version": 3
   },
   "file_extension": ".py",
   "mimetype": "text/x-python",
   "name": "python",
   "nbconvert_exporter": "python",
   "pygments_lexer": "ipython3",
   "version": "3.9.12"
  }
 },
 "nbformat": 4,
 "nbformat_minor": 5
}
