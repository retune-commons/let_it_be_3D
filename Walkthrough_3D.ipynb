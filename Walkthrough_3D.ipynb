{
 "cells": [
  {
   "cell_type": "code",
   "execution_count": null,
   "id": "c24fdd4a",
   "metadata": {},
   "outputs": [],
   "source": [
    "%matplotlib inline\n",
    "from core.triangulation_calibration_module import Calibration, Triangulation_Positions, Triangulation_Recordings"
   ]
  },
  {
   "cell_type": "code",
   "execution_count": null,
   "id": "b13cae61",
   "metadata": {
    "scrolled": true
   },
   "outputs": [],
   "source": [
    "a = Calibration(calibration_directory = 'test_data/220826_Calibration/', \n",
    "                project_config_filepath = 'test_data/project_config.yaml',\n",
    "                recording_config_filepath = 'test_data/recording_config.yaml',\n",
    "                overwrite = False, load_calibration = True, max_frame_count = 300, use_gpu = False, output_directory = 'test_data/220826_Calibration/')"
   ]
  },
  {
   "cell_type": "code",
   "execution_count": null,
   "id": "74e57d9f",
   "metadata": {
    "tags": []
   },
   "outputs": [],
   "source": [
    "a.synchronization_crossvalidation.plot()"
   ]
  },
  {
   "cell_type": "code",
   "execution_count": null,
   "id": "e75204f6",
   "metadata": {
    "scrolled": true
   },
   "outputs": [],
   "source": [
    "for individual_plot in a.synchronization_individuals:\n",
    "    individual_plot.plot()\n",
    "for individual_plot in a.led_detection_individuals:\n",
    "    individual_plot.plot()"
   ]
  },
  {
   "cell_type": "code",
   "execution_count": null,
   "id": "519526d5",
   "metadata": {
    "scrolled": true
   },
   "outputs": [],
   "source": [
    "a.run_calibration(verbose = True)"
   ]
  },
  {
   "cell_type": "code",
   "execution_count": null,
   "id": "c67ac275",
   "metadata": {},
   "outputs": [],
   "source": [
    "b = Triangulation_Recordings(recording_directory = 'test_data/220826_Recording/', \n",
    "                             calibration_toml_filepath = 'test_data/220826_Calibration/calibration_220826.toml', \n",
    "                             recording_config_filepath = 'test_data/recording_config.yaml', \n",
    "                             project_config_filepath= 'test_data/project_config.yaml',\n",
    "                             output_directory = \"test_data/220826_Recording/\", overwrite = False, load_calibration=True, use_gpu = False)"
   ]
  },
  {
   "cell_type": "code",
   "execution_count": null,
   "id": "fb2aabbb",
   "metadata": {
    "scrolled": true
   },
   "outputs": [],
   "source": [
    "b.run_triangulation()"
   ]
  },
  {
   "cell_type": "code",
   "execution_count": null,
   "id": "796a9f62",
   "metadata": {},
   "outputs": [],
   "source": [
    "b.df"
   ]
  },
  {
   "cell_type": "code",
   "execution_count": null,
   "id": "a0b1927d-a532-4206-9c57-daeb0553a5a5",
   "metadata": {},
   "outputs": [],
   "source": [
    "c = Triangulation_Positions(positions_directory = 'test_data/220826_Calibration/', \n",
    "                            calibration_toml_filepath = 'test_data/220826_Calibration/calibration_220826.toml', \n",
    "                            recording_config_filepath = 'test_data/recording_config.yaml', \n",
    "                            project_config_filepath= 'test_data/project_config.yaml',\n",
    "                            output_directory = \"test_data/220826_Calibration/\", overwrite = False, load_calibration=True)"
   ]
  },
  {
   "cell_type": "code",
   "execution_count": null,
   "id": "86c1ac2a-80b1-4b87-aac2-6ee2a333bb7d",
   "metadata": {
    "tags": []
   },
   "outputs": [],
   "source": [
    "c.get_marker_predictions()"
   ]
  },
  {
   "cell_type": "code",
   "execution_count": null,
   "id": "e96eaf92-545f-40a1-897d-76b5cd38b978",
   "metadata": {},
   "outputs": [],
   "source": [
    "c.run_triangulation()"
   ]
  },
  {
   "cell_type": "code",
   "execution_count": null,
   "id": "11183b4b-0bde-4766-bfc7-7c407d4623d1",
   "metadata": {},
   "outputs": [],
   "source": []
  },
  {
   "cell_type": "code",
   "execution_count": null,
   "id": "a347aa84-b478-4d5a-bd21-1d35612ef431",
   "metadata": {},
   "outputs": [],
   "source": []
  },
  {
   "cell_type": "code",
   "execution_count": null,
   "id": "d34c395f-e3bf-4e01-a6ae-dabf6467bd87",
   "metadata": {},
   "outputs": [],
   "source": []
  },
  {
   "cell_type": "code",
   "execution_count": null,
   "id": "b201eda0-a280-4e5f-8059-8bd1e5be40ae",
   "metadata": {},
   "outputs": [],
   "source": []
  },
  {
   "cell_type": "code",
   "execution_count": null,
   "id": "57954298",
   "metadata": {},
   "outputs": [],
   "source": [
    "#ToDo: # distinguish between max_frame_count! (used in intrinsic_calibrations and save_videoto_disk)"
   ]
  },
  {
   "cell_type": "markdown",
   "id": "e984a3ed",
   "metadata": {},
   "source": [
    "## dependencies"
   ]
  },
  {
   "cell_type": "code",
   "execution_count": null,
   "id": "fc040d6b",
   "metadata": {},
   "outputs": [],
   "source": [
    "\"\"\"\n",
    "pip install aniposelib\n",
    "pip install ffmpeg\n",
    "pip install ffmpeg-python\n",
    "pip install imageio-ffmpeg\n",
    "jupyter lab\n",
    "\"\"\""
   ]
  }
 ],
 "metadata": {
  "kernelspec": {
   "display_name": "Python 3 (ipykernel)",
   "language": "python",
   "name": "python3"
  },
  "language_info": {
   "codemirror_mode": {
    "name": "ipython",
    "version": 3
   },
   "file_extension": ".py",
   "mimetype": "text/x-python",
   "name": "python",
   "nbconvert_exporter": "python",
   "pygments_lexer": "ipython3",
   "version": "3.9.12"
  }
 },
 "nbformat": 4,
 "nbformat_minor": 5
}
