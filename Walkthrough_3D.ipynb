{
 "cells": [
  {
   "cell_type": "code",
   "execution_count": 1,
   "id": "0f2ec33e-8724-40c0-8cf1-7f9fbae03295",
   "metadata": {
    "tags": []
   },
   "outputs": [
    {
     "name": "stderr",
     "output_type": "stream",
     "text": [
      "C:\\Users\\Kobel_K\\.conda\\envs\\pipeline_b06\\lib\\site-packages\\tqdm\\auto.py:22: TqdmWarning: IProgress not found. Please update jupyter and ipywidgets. See https://ipywidgets.readthedocs.io/en/stable/user_install.html\n",
      "  from .autonotebook import tqdm as notebook_tqdm\n"
     ]
    }
   ],
   "source": [
    "from core.meta import meta_interface\n",
    "%matplotlib inline"
   ]
  },
  {
   "cell_type": "code",
   "execution_count": 2,
   "id": "f059c912-24ee-4975-9e0b-c23212f6a10a",
   "metadata": {},
   "outputs": [],
   "source": [
    "d = meta_interface(project_config_filepath=\"Z:Konstantin/project_config_server.yaml\", project_name=\"analysis_01\")"
   ]
  },
  {
   "cell_type": "code",
   "execution_count": 3,
   "id": "6dabb529-8cb0-4931-8b12-8def470a287f",
   "metadata": {},
   "outputs": [],
   "source": [
    "d.add_recording_config(\"Z:Konstantin/Calibration/220921/recording_config_210922.yaml\")\n",
    "d.add_recording_config(\"Z:Konstantin/Calibration/220922/recording_config_220922.yaml\")\n",
    "d.add_recording_config(\"Z:Konstantin/Calibration/220923/recording_config_230922.yaml\")\n",
    "#d.add_recording_config(\"Z:Konstantin/Calibration/220927/recording_config_270922.yaml\")\n",
    "#some recordings that are unnecessary\n",
    "#d.add_recording_config(\"Z:Konstantin/Calibration/221219/recording_config_191222.yaml\")\n",
    "#d.add_recording_config(\"Z:Konstantin/Calibration/221220/recording_config_201222.yaml\")\n",
    "#d.add_recording_config(\"Z:Konstantin/Calibration/221221/recording_config_211222.yaml\")\n",
    "#d.add_recording_config(\"Z:Konstantin/Calibration/221222/recording_config_221222.yaml\")"
   ]
  },
  {
   "cell_type": "code",
   "execution_count": 4,
   "id": "94876f1b-330a-4ba3-8044-0f4fa56e7ea6",
   "metadata": {},
   "outputs": [],
   "source": [
    "d.initialize_meta_config()"
   ]
  },
  {
   "cell_type": "code",
   "execution_count": 5,
   "id": "ca93a065-918a-4682-81f6-9999990f7194",
   "metadata": {},
   "outputs": [],
   "source": [
    "d.create_recordings()"
   ]
  },
  {
   "cell_type": "code",
   "execution_count": null,
   "id": "2df90ab8-b11b-4cc3-88a4-81966ea5f6c0",
   "metadata": {},
   "outputs": [],
   "source": [
    "d.load_meta_from_yaml(filepath=\"Z:Konstantin/analysis_01.yaml\")"
   ]
  },
  {
   "cell_type": "code",
   "execution_count": 6,
   "id": "715e09b9-673b-44df-af59-139eaeaf9d04",
   "metadata": {
    "collapsed": true,
    "jupyter": {
     "outputs_hidden": true
    },
    "tags": []
   },
   "outputs": [
    {
     "name": "stderr",
     "output_type": "stream",
     "text": [
      "100%|████████████████████████████████████████████████████████████████████████████████| 100/100 [00:06<00:00, 15.65it/s]\n",
      "100%|██████████████████████████████████████████████████████████████████████████▉| 47400/47440 [07:35<00:00, 104.14it/s]\n",
      "100%|████████████████████████████████████████████████████████████████████████████████| 100/100 [00:02<00:00, 37.19it/s]\n",
      "100%|███████████████████████████████████████████████████████████████████████████▉| 39900/39949 [06:55<00:00, 96.01it/s]\n",
      "100%|████████████████████████████████████████████████████████████████████████████████| 100/100 [00:04<00:00, 24.27it/s]\n",
      "100%|███████████████████████████████████████████████████████████████████████████▉| 47400/47440 [16:32<00:00, 47.77it/s]\n",
      "100%|████████████████████████████████████████████████████████████████████████████████| 100/100 [00:02<00:00, 46.84it/s]\n",
      "100%|██████████████████████████████████████████████████████████████████████████▉| 47400/47440 [05:01<00:00, 157.33it/s]\n",
      "100%|████████████████████████████████████████████████████████████████████████████████| 100/100 [00:03<00:00, 31.44it/s]\n",
      "100%|███████████████████████████████████████████████████████████████████████████▉| 47400/47440 [10:05<00:00, 78.32it/s]\n",
      "100%|████████████████████████████████████████████████████████████████████████████████| 100/100 [00:02<00:00, 39.77it/s]\n",
      "100%|██████████████████████████████████████████████████████████████████████████▉| 47400/47440 [06:48<00:00, 116.08it/s]\n",
      "100%|████████████████████████████████████████████████████████████████████████████████| 100/100 [00:03<00:00, 32.53it/s]\n",
      "100%|███████████████████████████████████████████████████████████████████████████▉| 47400/47438 [09:57<00:00, 79.39it/s]\n"
     ]
    },
    {
     "ename": "KeyboardInterrupt",
     "evalue": "",
     "output_type": "error",
     "traceback": [
      "\u001b[1;31m---------------------------------------------------------------------------\u001b[0m",
      "\u001b[1;31mKeyboardInterrupt\u001b[0m                         Traceback (most recent call last)",
      "\u001b[1;32m~\\AppData\\Local\\Temp\\28\\ipykernel_3792\\3693680970.py\u001b[0m in \u001b[0;36m<module>\u001b[1;34m\u001b[0m\n\u001b[1;32m----> 1\u001b[1;33m \u001b[0md\u001b[0m\u001b[1;33m.\u001b[0m\u001b[0msynchronize_recordings\u001b[0m\u001b[1;33m(\u001b[0m\u001b[0mverbose\u001b[0m \u001b[1;33m=\u001b[0m \u001b[1;32mTrue\u001b[0m\u001b[1;33m,\u001b[0m \u001b[0mtest_mode\u001b[0m \u001b[1;33m=\u001b[0m \u001b[1;32mFalse\u001b[0m\u001b[1;33m)\u001b[0m  \u001b[1;31m# test_mode: bool, doesnt overwrite synchronized and analysed videos\u001b[0m\u001b[1;33m\u001b[0m\u001b[1;33m\u001b[0m\u001b[0m\n\u001b[0m\u001b[0;32m      2\u001b[0m \u001b[1;31m# exclude recordingvideos based on synchronization\u001b[0m\u001b[1;33m\u001b[0m\u001b[1;33m\u001b[0m\u001b[1;33m\u001b[0m\u001b[0m\n",
      "\u001b[1;32m~\\let_it_be_3D\\core\\meta.py\u001b[0m in \u001b[0;36msynchronize_recordings\u001b[1;34m(self, verbose, test_mode)\u001b[0m\n\u001b[0;32m    153\u001b[0m                 self.objects[\"triangulation_recordings_objects\"][\n\u001b[0;32m    154\u001b[0m                     \u001b[0mrecording\u001b[0m\u001b[1;33m\u001b[0m\u001b[1;33m\u001b[0m\u001b[0m\n\u001b[1;32m--> 155\u001b[1;33m                 ].run_synchronization(test_mode=test_mode)\n\u001b[0m\u001b[0;32m    156\u001b[0m                 \u001b[1;32mfor\u001b[0m \u001b[0mvideo\u001b[0m \u001b[1;32min\u001b[0m \u001b[0mrecording_day\u001b[0m\u001b[1;33m[\u001b[0m\u001b[1;34m\"recordings\"\u001b[0m\u001b[1;33m]\u001b[0m\u001b[1;33m[\u001b[0m\u001b[0mrecording\u001b[0m\u001b[1;33m]\u001b[0m\u001b[1;33m[\u001b[0m\u001b[1;34m\"videos\"\u001b[0m\u001b[1;33m]\u001b[0m\u001b[1;33m:\u001b[0m\u001b[1;33m\u001b[0m\u001b[1;33m\u001b[0m\u001b[0m\n\u001b[0;32m    157\u001b[0m                     recording_day[\"recordings\"][recording][\"videos\"][video][\n",
      "\u001b[1;32m~\\let_it_be_3D\\core\\triangulation_calibration_module.py\u001b[0m in \u001b[0;36mrun_synchronization\u001b[1;34m(self, synchronize_only, test_mode)\u001b[0m\n\u001b[0;32m    557\u001b[0m                     \u001b[0moutput_directory\u001b[0m\u001b[1;33m=\u001b[0m\u001b[0mself\u001b[0m\u001b[1;33m.\u001b[0m\u001b[0moutput_directory\u001b[0m\u001b[1;33m,\u001b[0m\u001b[1;33m\u001b[0m\u001b[1;33m\u001b[0m\u001b[0m\n\u001b[0;32m    558\u001b[0m                     \u001b[0msynchronize_only\u001b[0m\u001b[1;33m=\u001b[0m\u001b[0msynchronize_only\u001b[0m\u001b[1;33m,\u001b[0m\u001b[1;33m\u001b[0m\u001b[1;33m\u001b[0m\u001b[0m\n\u001b[1;32m--> 559\u001b[1;33m                     \u001b[0mtest_mode\u001b[0m\u001b[1;33m=\u001b[0m\u001b[0mtest_mode\u001b[0m\u001b[1;33m,\u001b[0m\u001b[1;33m\u001b[0m\u001b[1;33m\u001b[0m\u001b[0m\n\u001b[0m\u001b[0;32m    560\u001b[0m                 )\n\u001b[0;32m    561\u001b[0m             \u001b[1;32melse\u001b[0m\u001b[1;33m:\u001b[0m\u001b[1;33m\u001b[0m\u001b[1;33m\u001b[0m\u001b[0m\n",
      "\u001b[1;32m~\\let_it_be_3D\\core\\video_interface.py\u001b[0m in \u001b[0;36mrun_synchronizer\u001b[1;34m(self, synchronizer, use_gpu, output_directory, synchronize_only, test_mode)\u001b[0m\n\u001b[0;32m     40\u001b[0m             \u001b[0mself\u001b[0m\u001b[1;33m.\u001b[0m\u001b[0msynchronized_video_filepath\u001b[0m\u001b[1;33m,\u001b[0m\u001b[1;33m\u001b[0m\u001b[1;33m\u001b[0m\u001b[0m\n\u001b[0;32m     41\u001b[0m         \u001b[1;33m)\u001b[0m \u001b[1;33m=\u001b[0m \u001b[0mself\u001b[0m\u001b[1;33m.\u001b[0m\u001b[0msynchronizer_object\u001b[0m\u001b[1;33m.\u001b[0m\u001b[0mrun_synchronization\u001b[0m\u001b[1;33m(\u001b[0m\u001b[1;33m\u001b[0m\u001b[1;33m\u001b[0m\u001b[0m\n\u001b[1;32m---> 42\u001b[1;33m             \u001b[0msynchronize_only\u001b[0m\u001b[1;33m=\u001b[0m\u001b[0msynchronize_only\u001b[0m\u001b[1;33m,\u001b[0m \u001b[0mtest_mode\u001b[0m\u001b[1;33m=\u001b[0m\u001b[0mtest_mode\u001b[0m\u001b[1;33m\u001b[0m\u001b[1;33m\u001b[0m\u001b[0m\n\u001b[0m\u001b[0;32m     43\u001b[0m         )\n\u001b[0;32m     44\u001b[0m \u001b[1;33m\u001b[0m\u001b[0m\n",
      "\u001b[1;32m~\\let_it_be_3D\\core\\video_synchronization.py\u001b[0m in \u001b[0;36mrun_synchronization\u001b[1;34m(self, synchronize_only, test_mode)\u001b[0m\n\u001b[0;32m    153\u001b[0m                 \u001b[1;32mreturn\u001b[0m \u001b[1;32mNone\u001b[0m\u001b[1;33m,\u001b[0m \u001b[1;32mNone\u001b[0m\u001b[1;33m\u001b[0m\u001b[1;33m\u001b[0m\u001b[0m\n\u001b[0;32m    154\u001b[0m             \u001b[1;32melif\u001b[0m \u001b[0mi\u001b[0m \u001b[1;33m<\u001b[0m \u001b[1;36m3\u001b[0m\u001b[1;33m:\u001b[0m\u001b[1;33m\u001b[0m\u001b[1;33m\u001b[0m\u001b[0m\n\u001b[1;32m--> 155\u001b[1;33m                 \u001b[0mled_center_coordinates\u001b[0m \u001b[1;33m=\u001b[0m \u001b[0mself\u001b[0m\u001b[1;33m.\u001b[0m\u001b[0m_get_LED_center_coordinates\u001b[0m\u001b[1;33m(\u001b[0m\u001b[1;33m)\u001b[0m\u001b[1;33m\u001b[0m\u001b[1;33m\u001b[0m\u001b[0m\n\u001b[0m\u001b[0;32m    156\u001b[0m             \u001b[1;32melse\u001b[0m\u001b[1;33m:\u001b[0m\u001b[1;33m\u001b[0m\u001b[1;33m\u001b[0m\u001b[0m\n\u001b[0;32m    157\u001b[0m                 print(\n",
      "\u001b[1;32m~\\let_it_be_3D\\core\\video_synchronization.py\u001b[0m in \u001b[0;36m_get_LED_center_coordinates\u001b[1;34m(self)\u001b[0m\n\u001b[0;32m    261\u001b[0m             \u001b[1;32mfor\u001b[0m \u001b[0midx\u001b[0m \u001b[1;32min\u001b[0m \u001b[0msample_frame_idxs\u001b[0m\u001b[1;33m:\u001b[0m\u001b[1;33m\u001b[0m\u001b[1;33m\u001b[0m\u001b[0m\n\u001b[0;32m    262\u001b[0m                 selected_frames.append(\n\u001b[1;32m--> 263\u001b[1;33m                     \u001b[0miio\u001b[0m\u001b[1;33m.\u001b[0m\u001b[0mv3\u001b[0m\u001b[1;33m.\u001b[0m\u001b[0mimread\u001b[0m\u001b[1;33m(\u001b[0m\u001b[0mself\u001b[0m\u001b[1;33m.\u001b[0m\u001b[0mvideo_metadata\u001b[0m\u001b[1;33m.\u001b[0m\u001b[0mfilepath\u001b[0m\u001b[1;33m,\u001b[0m \u001b[0mindex\u001b[0m\u001b[1;33m=\u001b[0m\u001b[0midx\u001b[0m\u001b[1;33m)\u001b[0m\u001b[1;33m\u001b[0m\u001b[1;33m\u001b[0m\u001b[0m\n\u001b[0m\u001b[0;32m    264\u001b[0m                 )\n\u001b[0;32m    265\u001b[0m             \u001b[0mvideo_array\u001b[0m \u001b[1;33m=\u001b[0m \u001b[0mnp\u001b[0m\u001b[1;33m.\u001b[0m\u001b[0masarray\u001b[0m\u001b[1;33m(\u001b[0m\u001b[0mselected_frames\u001b[0m\u001b[1;33m)\u001b[0m\u001b[1;33m\u001b[0m\u001b[1;33m\u001b[0m\u001b[0m\n",
      "\u001b[1;32m~\\.conda\\envs\\pipeline_b06\\lib\\site-packages\\imageio\\v3.py\u001b[0m in \u001b[0;36mimread\u001b[1;34m(uri, index, plugin, extension, format_hint, **kwargs)\u001b[0m\n\u001b[0;32m     52\u001b[0m \u001b[1;33m\u001b[0m\u001b[0m\n\u001b[0;32m     53\u001b[0m     \u001b[1;32mwith\u001b[0m \u001b[0mimopen\u001b[0m\u001b[1;33m(\u001b[0m\u001b[0muri\u001b[0m\u001b[1;33m,\u001b[0m \u001b[1;34m\"r\"\u001b[0m\u001b[1;33m,\u001b[0m \u001b[1;33m**\u001b[0m\u001b[0mplugin_kwargs\u001b[0m\u001b[1;33m)\u001b[0m \u001b[1;32mas\u001b[0m \u001b[0mimg_file\u001b[0m\u001b[1;33m:\u001b[0m\u001b[1;33m\u001b[0m\u001b[1;33m\u001b[0m\u001b[0m\n\u001b[1;32m---> 54\u001b[1;33m         \u001b[1;32mreturn\u001b[0m \u001b[0mnp\u001b[0m\u001b[1;33m.\u001b[0m\u001b[0masarray\u001b[0m\u001b[1;33m(\u001b[0m\u001b[0mimg_file\u001b[0m\u001b[1;33m.\u001b[0m\u001b[0mread\u001b[0m\u001b[1;33m(\u001b[0m\u001b[1;33m**\u001b[0m\u001b[0mcall_kwargs\u001b[0m\u001b[1;33m)\u001b[0m\u001b[1;33m)\u001b[0m\u001b[1;33m\u001b[0m\u001b[1;33m\u001b[0m\u001b[0m\n\u001b[0m\u001b[0;32m     55\u001b[0m \u001b[1;33m\u001b[0m\u001b[0m\n\u001b[0;32m     56\u001b[0m \u001b[1;33m\u001b[0m\u001b[0m\n",
      "\u001b[1;32m~\\.conda\\envs\\pipeline_b06\\lib\\site-packages\\imageio\\core\\legacy_plugin_wrapper.py\u001b[0m in \u001b[0;36mread\u001b[1;34m(self, index, **kwargs)\u001b[0m\n\u001b[0;32m    145\u001b[0m             \u001b[1;32mreturn\u001b[0m \u001b[0mimg\u001b[0m\u001b[1;33m\u001b[0m\u001b[1;33m\u001b[0m\u001b[0m\n\u001b[0;32m    146\u001b[0m \u001b[1;33m\u001b[0m\u001b[0m\n\u001b[1;32m--> 147\u001b[1;33m         \u001b[0mreader\u001b[0m \u001b[1;33m=\u001b[0m \u001b[0mself\u001b[0m\u001b[1;33m.\u001b[0m\u001b[0mlegacy_get_reader\u001b[0m\u001b[1;33m(\u001b[0m\u001b[1;33m**\u001b[0m\u001b[0mkwargs\u001b[0m\u001b[1;33m)\u001b[0m\u001b[1;33m\u001b[0m\u001b[1;33m\u001b[0m\u001b[0m\n\u001b[0m\u001b[0;32m    148\u001b[0m         \u001b[1;32mreturn\u001b[0m \u001b[0mreader\u001b[0m\u001b[1;33m.\u001b[0m\u001b[0mget_data\u001b[0m\u001b[1;33m(\u001b[0m\u001b[0mindex\u001b[0m\u001b[1;33m)\u001b[0m\u001b[1;33m\u001b[0m\u001b[1;33m\u001b[0m\u001b[0m\n\u001b[0;32m    149\u001b[0m \u001b[1;33m\u001b[0m\u001b[0m\n",
      "\u001b[1;32m~\\.conda\\envs\\pipeline_b06\\lib\\site-packages\\imageio\\core\\legacy_plugin_wrapper.py\u001b[0m in \u001b[0;36mlegacy_get_reader\u001b[1;34m(self, **kwargs)\u001b[0m\n\u001b[0;32m    114\u001b[0m \u001b[1;33m\u001b[0m\u001b[0m\n\u001b[0;32m    115\u001b[0m         \u001b[0mself\u001b[0m\u001b[1;33m.\u001b[0m\u001b[0m_request\u001b[0m\u001b[1;33m.\u001b[0m\u001b[0mget_file\u001b[0m\u001b[1;33m(\u001b[0m\u001b[1;33m)\u001b[0m\u001b[1;33m.\u001b[0m\u001b[0mseek\u001b[0m\u001b[1;33m(\u001b[0m\u001b[1;36m0\u001b[0m\u001b[1;33m)\u001b[0m\u001b[1;33m\u001b[0m\u001b[1;33m\u001b[0m\u001b[0m\n\u001b[1;32m--> 116\u001b[1;33m         \u001b[1;32mreturn\u001b[0m \u001b[0mself\u001b[0m\u001b[1;33m.\u001b[0m\u001b[0m_format\u001b[0m\u001b[1;33m.\u001b[0m\u001b[0mget_reader\u001b[0m\u001b[1;33m(\u001b[0m\u001b[0mself\u001b[0m\u001b[1;33m.\u001b[0m\u001b[0m_request\u001b[0m\u001b[1;33m)\u001b[0m\u001b[1;33m\u001b[0m\u001b[1;33m\u001b[0m\u001b[0m\n\u001b[0m\u001b[0;32m    117\u001b[0m \u001b[1;33m\u001b[0m\u001b[0m\n\u001b[0;32m    118\u001b[0m     \u001b[1;32mdef\u001b[0m \u001b[0mread\u001b[0m\u001b[1;33m(\u001b[0m\u001b[0mself\u001b[0m\u001b[1;33m,\u001b[0m \u001b[1;33m*\u001b[0m\u001b[1;33m,\u001b[0m \u001b[0mindex\u001b[0m\u001b[1;33m=\u001b[0m\u001b[1;32mNone\u001b[0m\u001b[1;33m,\u001b[0m \u001b[1;33m**\u001b[0m\u001b[0mkwargs\u001b[0m\u001b[1;33m)\u001b[0m\u001b[1;33m:\u001b[0m\u001b[1;33m\u001b[0m\u001b[1;33m\u001b[0m\u001b[0m\n",
      "\u001b[1;32m~\\.conda\\envs\\pipeline_b06\\lib\\site-packages\\imageio\\core\\format.py\u001b[0m in \u001b[0;36mget_reader\u001b[1;34m(self, request)\u001b[0m\n\u001b[0;32m    219\u001b[0m                 \u001b[1;34mf\"Format {self.name} cannot read in {request.mode.image_mode} mode\"\u001b[0m\u001b[1;33m\u001b[0m\u001b[1;33m\u001b[0m\u001b[0m\n\u001b[0;32m    220\u001b[0m             )\n\u001b[1;32m--> 221\u001b[1;33m         \u001b[1;32mreturn\u001b[0m \u001b[0mself\u001b[0m\u001b[1;33m.\u001b[0m\u001b[0mReader\u001b[0m\u001b[1;33m(\u001b[0m\u001b[0mself\u001b[0m\u001b[1;33m,\u001b[0m \u001b[0mrequest\u001b[0m\u001b[1;33m)\u001b[0m\u001b[1;33m\u001b[0m\u001b[1;33m\u001b[0m\u001b[0m\n\u001b[0m\u001b[0;32m    222\u001b[0m \u001b[1;33m\u001b[0m\u001b[0m\n\u001b[0;32m    223\u001b[0m     \u001b[1;32mdef\u001b[0m \u001b[0mget_writer\u001b[0m\u001b[1;33m(\u001b[0m\u001b[0mself\u001b[0m\u001b[1;33m,\u001b[0m \u001b[0mrequest\u001b[0m\u001b[1;33m)\u001b[0m\u001b[1;33m:\u001b[0m\u001b[1;33m\u001b[0m\u001b[1;33m\u001b[0m\u001b[0m\n",
      "\u001b[1;32m~\\.conda\\envs\\pipeline_b06\\lib\\site-packages\\imageio\\core\\format.py\u001b[0m in \u001b[0;36m__init__\u001b[1;34m(self, format, request)\u001b[0m\n\u001b[0;32m    310\u001b[0m             \u001b[0mself\u001b[0m\u001b[1;33m.\u001b[0m\u001b[0m_request\u001b[0m \u001b[1;33m=\u001b[0m \u001b[0mrequest\u001b[0m\u001b[1;33m\u001b[0m\u001b[1;33m\u001b[0m\u001b[0m\n\u001b[0;32m    311\u001b[0m             \u001b[1;31m# Open the reader/writer\u001b[0m\u001b[1;33m\u001b[0m\u001b[1;33m\u001b[0m\u001b[1;33m\u001b[0m\u001b[0m\n\u001b[1;32m--> 312\u001b[1;33m             \u001b[0mself\u001b[0m\u001b[1;33m.\u001b[0m\u001b[0m_open\u001b[0m\u001b[1;33m(\u001b[0m\u001b[1;33m**\u001b[0m\u001b[0mself\u001b[0m\u001b[1;33m.\u001b[0m\u001b[0mrequest\u001b[0m\u001b[1;33m.\u001b[0m\u001b[0mkwargs\u001b[0m\u001b[1;33m.\u001b[0m\u001b[0mcopy\u001b[0m\u001b[1;33m(\u001b[0m\u001b[1;33m)\u001b[0m\u001b[1;33m)\u001b[0m\u001b[1;33m\u001b[0m\u001b[1;33m\u001b[0m\u001b[0m\n\u001b[0m\u001b[0;32m    313\u001b[0m \u001b[1;33m\u001b[0m\u001b[0m\n\u001b[0;32m    314\u001b[0m         \u001b[1;33m@\u001b[0m\u001b[0mproperty\u001b[0m\u001b[1;33m\u001b[0m\u001b[1;33m\u001b[0m\u001b[0m\n",
      "\u001b[1;32m~\\.conda\\envs\\pipeline_b06\\lib\\site-packages\\imageio\\plugins\\ffmpeg.py\u001b[0m in \u001b[0;36m_open\u001b[1;34m(self, loop, size, dtype, pixelformat, print_info, ffmpeg_params, input_params, output_params, fps)\u001b[0m\n\u001b[0;32m    335\u001b[0m             \u001b[1;31m# Start ffmpeg subprocess and get meta information\u001b[0m\u001b[1;33m\u001b[0m\u001b[1;33m\u001b[0m\u001b[1;33m\u001b[0m\u001b[0m\n\u001b[0;32m    336\u001b[0m             \u001b[1;32mtry\u001b[0m\u001b[1;33m:\u001b[0m\u001b[1;33m\u001b[0m\u001b[1;33m\u001b[0m\u001b[0m\n\u001b[1;32m--> 337\u001b[1;33m                 \u001b[0mself\u001b[0m\u001b[1;33m.\u001b[0m\u001b[0m_initialize\u001b[0m\u001b[1;33m(\u001b[0m\u001b[1;33m)\u001b[0m\u001b[1;33m\u001b[0m\u001b[1;33m\u001b[0m\u001b[0m\n\u001b[0m\u001b[0;32m    338\u001b[0m             \u001b[1;32mexcept\u001b[0m \u001b[0mIndexError\u001b[0m\u001b[1;33m:\u001b[0m\u001b[1;33m\u001b[0m\u001b[1;33m\u001b[0m\u001b[0m\n\u001b[0;32m    339\u001b[0m                 \u001b[1;31m# Specify input framerate again, this time different.\u001b[0m\u001b[1;33m\u001b[0m\u001b[1;33m\u001b[0m\u001b[1;33m\u001b[0m\u001b[0m\n",
      "\u001b[1;32m~\\.conda\\envs\\pipeline_b06\\lib\\site-packages\\imageio\\plugins\\ffmpeg.py\u001b[0m in \u001b[0;36m_initialize\u001b[1;34m(self, index)\u001b[0m\n\u001b[0;32m    487\u001b[0m                     \u001b[0mself\u001b[0m\u001b[1;33m.\u001b[0m\u001b[0m_meta\u001b[0m\u001b[1;33m.\u001b[0m\u001b[0mupdate\u001b[0m\u001b[1;33m(\u001b[0m\u001b[0mmeta\u001b[0m\u001b[1;33m)\u001b[0m\u001b[1;33m\u001b[0m\u001b[1;33m\u001b[0m\u001b[0m\n\u001b[0;32m    488\u001b[0m             \u001b[1;32melif\u001b[0m \u001b[0mindex\u001b[0m \u001b[1;33m==\u001b[0m \u001b[1;36m0\u001b[0m\u001b[1;33m:\u001b[0m\u001b[1;33m\u001b[0m\u001b[1;33m\u001b[0m\u001b[0m\n\u001b[1;32m--> 489\u001b[1;33m                 \u001b[0mself\u001b[0m\u001b[1;33m.\u001b[0m\u001b[0m_meta\u001b[0m\u001b[1;33m.\u001b[0m\u001b[0mupdate\u001b[0m\u001b[1;33m(\u001b[0m\u001b[0mself\u001b[0m\u001b[1;33m.\u001b[0m\u001b[0m_read_gen\u001b[0m\u001b[1;33m.\u001b[0m\u001b[0m__next__\u001b[0m\u001b[1;33m(\u001b[0m\u001b[1;33m)\u001b[0m\u001b[1;33m)\u001b[0m\u001b[1;33m\u001b[0m\u001b[1;33m\u001b[0m\u001b[0m\n\u001b[0m\u001b[0;32m    490\u001b[0m             \u001b[1;32melse\u001b[0m\u001b[1;33m:\u001b[0m\u001b[1;33m\u001b[0m\u001b[1;33m\u001b[0m\u001b[0m\n\u001b[0;32m    491\u001b[0m                 \u001b[0mself\u001b[0m\u001b[1;33m.\u001b[0m\u001b[0m_read_gen\u001b[0m\u001b[1;33m.\u001b[0m\u001b[0m__next__\u001b[0m\u001b[1;33m(\u001b[0m\u001b[1;33m)\u001b[0m  \u001b[1;31m# we already have meta data\u001b[0m\u001b[1;33m\u001b[0m\u001b[1;33m\u001b[0m\u001b[0m\n",
      "\u001b[1;32m~\\.conda\\envs\\pipeline_b06\\lib\\site-packages\\imageio_ffmpeg\\_io.py\u001b[0m in \u001b[0;36mread_frames\u001b[1;34m(path, pix_fmt, bpp, input_params, output_params, bits_per_pixel)\u001b[0m\n\u001b[0;32m    283\u001b[0m         \u001b[0metime\u001b[0m \u001b[1;33m=\u001b[0m \u001b[0mtime\u001b[0m\u001b[1;33m.\u001b[0m\u001b[0mtime\u001b[0m\u001b[1;33m(\u001b[0m\u001b[1;33m)\u001b[0m \u001b[1;33m+\u001b[0m \u001b[1;36m10.0\u001b[0m\u001b[1;33m\u001b[0m\u001b[1;33m\u001b[0m\u001b[0m\n\u001b[0;32m    284\u001b[0m         \u001b[1;32mwhile\u001b[0m \u001b[0mlog_catcher\u001b[0m\u001b[1;33m.\u001b[0m\u001b[0mis_alive\u001b[0m\u001b[1;33m(\u001b[0m\u001b[1;33m)\u001b[0m \u001b[1;32mand\u001b[0m \u001b[1;32mnot\u001b[0m \u001b[0mlog_catcher\u001b[0m\u001b[1;33m.\u001b[0m\u001b[0mheader\u001b[0m \u001b[1;32mand\u001b[0m \u001b[0mtime\u001b[0m\u001b[1;33m.\u001b[0m\u001b[0mtime\u001b[0m\u001b[1;33m(\u001b[0m\u001b[1;33m)\u001b[0m \u001b[1;33m<\u001b[0m \u001b[0metime\u001b[0m\u001b[1;33m:\u001b[0m\u001b[1;33m\u001b[0m\u001b[1;33m\u001b[0m\u001b[0m\n\u001b[1;32m--> 285\u001b[1;33m             \u001b[0mtime\u001b[0m\u001b[1;33m.\u001b[0m\u001b[0msleep\u001b[0m\u001b[1;33m(\u001b[0m\u001b[1;36m0.01\u001b[0m\u001b[1;33m)\u001b[0m\u001b[1;33m\u001b[0m\u001b[1;33m\u001b[0m\u001b[0m\n\u001b[0m\u001b[0;32m    286\u001b[0m \u001b[1;33m\u001b[0m\u001b[0m\n\u001b[0;32m    287\u001b[0m         \u001b[1;31m# Check whether we have the information\u001b[0m\u001b[1;33m\u001b[0m\u001b[1;33m\u001b[0m\u001b[1;33m\u001b[0m\u001b[0m\n",
      "\u001b[1;31mKeyboardInterrupt\u001b[0m: "
     ]
    }
   ],
   "source": [
    "d.synchronize_recordings(verbose = True, test_mode = False)  # test_mode: bool, doesnt overwrite synchronized and analysed videos\n",
    "# exclude recordingvideos based on synchronization"
   ]
  },
  {
   "cell_type": "code",
   "execution_count": null,
   "id": "bae2a1bc",
   "metadata": {},
   "outputs": [],
   "source": [
    "d.load_meta_from_yaml(filepath=\"test_data/My_project.yaml\")"
   ]
  },
  {
   "cell_type": "code",
   "execution_count": null,
   "id": "bdca04fd-9e0c-4c6b-a4ee-6f2236be8b17",
   "metadata": {
    "tags": []
   },
   "outputs": [],
   "source": [
    "d.create_calibrations()\n",
    "# update fps, video_filepath, target_fps"
   ]
  },
  {
   "cell_type": "code",
   "execution_count": null,
   "id": "76663c1f-a516-4f43-9b33-5ad098a67fdd",
   "metadata": {
    "tags": []
   },
   "outputs": [],
   "source": [
    "d.synchronize_calibrations(test_mode = True)  \n",
    "\n",
    "# test_mode: bool, doesnt overwrite synchronized videos\n",
    "# to speed up testing, remove some cams from valid_cam_IDs in project_config.yaml\n",
    "\n",
    "# exclude calibrationvideos based on synchronization, change markerdetection_filepaths etc."
   ]
  },
  {
   "cell_type": "code",
   "execution_count": null,
   "id": "ece5a619-2d48-4675-a397-341ab9c3715e",
   "metadata": {
    "tags": []
   },
   "outputs": [],
   "source": [
    "d.calibrate()\n",
    "# exclude calibrations based on calibration log and repeat calibration (not yet implemented) "
   ]
  },
  {
   "cell_type": "code",
   "execution_count": null,
   "id": "c5a557dd-fc29-4c05-bca1-17bace9e21b6",
   "metadata": {
    "tags": []
   },
   "outputs": [],
   "source": [
    "d.triangulate_recordings()"
   ]
  },
  {
   "cell_type": "code",
   "execution_count": null,
   "id": "f98577ef-aeac-494b-b123-4efe7d105838",
   "metadata": {},
   "outputs": [],
   "source": [
    "d.meta"
   ]
  },
  {
   "cell_type": "code",
   "execution_count": null,
   "id": "f2ab7809-b48d-4f6d-9b1b-a8c9f7fd4714",
   "metadata": {
    "tags": []
   },
   "outputs": [],
   "source": [
    "d.export_meta_to_yaml(filepath=\"test_data/My_project.yaml\")"
   ]
  },
  {
   "cell_type": "code",
   "execution_count": null,
   "id": "e589b036-0788-4d00-b62f-c3fbb3d3ffb9",
   "metadata": {
    "tags": []
   },
   "outputs": [],
   "source": [
    "d.load_meta_from_yaml(filepath=\"test_data/My_project.yaml\")"
   ]
  },
  {
   "cell_type": "code",
   "execution_count": null,
   "id": "6ebaaeb2-9b93-4084-9eca-9952e8cbdd20",
   "metadata": {},
   "outputs": [],
   "source": []
  },
  {
   "cell_type": "code",
   "execution_count": null,
   "id": "e63b59f6-9fa0-4a93-8f58-6fb4f0bc1f3f",
   "metadata": {},
   "outputs": [],
   "source": []
  },
  {
   "cell_type": "code",
   "execution_count": 5,
   "id": "4e3c2b0e-c8c4-46cd-bd2c-78323afc53f4",
   "metadata": {},
   "outputs": [],
   "source": [
    "from pathlib import Path\n",
    "from core.triangulation_calibration_module import (\n",
    "    Calibration,\n",
    "    Triangulation_Positions,\n",
    "    Triangulation_Recordings,\n",
    ")"
   ]
  },
  {
   "cell_type": "code",
   "execution_count": 9,
   "id": "abd7d7a7-0777-461a-a3a9-576123ed19fe",
   "metadata": {},
   "outputs": [],
   "source": [
    "rec_config = Path(\"/Users/kobel/Downloads/220922/recording_config_220922.yaml\")\n",
    "calibration_object = Calibration(calibration_directory=rec_config.parent, \n",
    "                                 output_directory=rec_config.parent, \n",
    "                                 recording_config_filepath=rec_config, \n",
    "                                 project_config_filepath = \"test_data/project_config.yaml\")"
   ]
  },
  {
   "cell_type": "code",
   "execution_count": 10,
   "id": "dc3a17c7-3698-49e0-8970-2d27e98c92bd",
   "metadata": {
    "tags": []
   },
   "outputs": [
    {
     "name": "stderr",
     "output_type": "stream",
     "text": [
      "100%|█████████████████████████████████████████| 100/100 [01:08<00:00,  1.45it/s]\n"
     ]
    }
   ],
   "source": [
    "calibration_object.run_synchronization(test_mode = True)"
   ]
  },
  {
   "cell_type": "code",
   "execution_count": 11,
   "id": "228fa7ea-6470-4b26-8c03-0c7de4c3077e",
   "metadata": {},
   "outputs": [
    {
     "name": "stderr",
     "output_type": "stream",
     "text": [
      "100%|██████████████████████████| 18445/18445 [00:53<00:00, 347.83it/s]\n",
      "100%|██████████████████████████| 18445/18445 [00:34<00:00, 530.78it/s]\n",
      "100%|█████████████████████████| 18445/18445 [00:11<00:00, 1675.67it/s]\n",
      "100%|██████████████████████████| 18445/18445 [00:22<00:00, 817.61it/s]\n",
      "100%|██████████████████████████| 18445/18445 [00:44<00:00, 415.46it/s]\n",
      "100%|██████████████████████████| 18445/18445 [00:27<00:00, 660.63it/s]\n",
      "100%|██████████████████████████| 18447/18447 [00:30<00:00, 613.85it/s]\n"
     ]
    }
   ],
   "source": [
    "calibration_object.run_calibration(verbose=True)"
   ]
  },
  {
   "cell_type": "code",
   "execution_count": 2,
   "id": "7511f958-3ade-4b6f-bb75-70d0abdfdcfd",
   "metadata": {
    "collapsed": true,
    "jupyter": {
     "outputs_hidden": true
    },
    "tags": []
   },
   "outputs": [
    {
     "name": "stderr",
     "output_type": "stream",
     "text": [
      "2023-01-19 08:56:57.099082: I tensorflow/compiler/jit/xla_cpu_device.cc:41] Not creating XLA devices, tf_xla_enable_xla_devices not set\n",
      "2023-01-19 08:56:57.101259: I tensorflow/core/platform/cpu_feature_guard.cc:142] This TensorFlow binary is optimized with oneAPI Deep Neural Network Library (oneDNN) to use the following CPU instructions in performance-critical operations:  SSE4.2\n",
      "To enable them in other operations, rebuild TensorFlow with the appropriate compiler flags.\n",
      "2023-01-19 08:56:57.153091: I tensorflow/compiler/mlir/mlir_graph_optimization_pass.cc:196] None of the MLIR optimization passes are enabled (registered 0 passes)\n",
      "100%|█████████████████████████████████████████| 100/100 [01:44<00:00,  1.05s/it]\n",
      "100%|█████████████████████████████████████████| 100/100 [01:33<00:00,  1.07it/s]\n",
      "100%|█████████████████████████████████████████| 100/100 [01:09<00:00,  1.44it/s]\n",
      "100%|█████████████████████████████████████████| 100/100 [01:40<00:00,  1.01s/it]\n",
      "100%|█████████████████████████████████████████| 100/100 [01:01<00:00,  1.63it/s]\n",
      "100%|█████████████████████████████████████████| 100/100 [01:05<00:00,  1.52it/s]\n",
      " 85%|████████████████████████████████████▌      | 40/47 [00:31<00:05,  1.29it/s]\n"
     ]
    },
    {
     "name": "stdout",
     "output_type": "stream",
     "text": [
      "possibly bad synchronization!\n",
      "/Users/kobel/Downloads/220927/220927_Side3_synchronized.mp4\n",
      "3243 boards detected\n",
      "/Users/kobel/Downloads/220927/220927_Side2_synchronized.mp4\n",
      "6069 boards detected\n",
      "/Users/kobel/Downloads/220927/220927_Side1_synchronized.mp4\n",
      "3526 boards detected\n",
      "/Users/kobel/Downloads/220927/220927_Bottom_synchronized.mp4\n",
      "4750 boards detected\n",
      "/Users/kobel/Downloads/220927/220927_Ground2_synchronized.mp4\n",
      "5564 boards detected\n",
      "/Users/kobel/Downloads/220927/220927_Ground1_synchronized.mp4\n",
      "4863 boards detected\n",
      "/Users/kobel/Downloads/220927/220927_Top_synchronized.mp4\n",
      "0 boards detected\n",
      "defaultdict(<class 'int'>,\n",
      "            {('Bottom', 'Ground1'): 2112,\n",
      "             ('Bottom', 'Ground2'): 1680,\n",
      "             ('Bottom', 'Side1'): 149,\n",
      "             ('Bottom', 'Side2'): 389,\n",
      "             ('Bottom', 'Side3'): 695,\n",
      "             ('Ground1', 'Bottom'): 2112,\n",
      "             ('Ground1', 'Ground2'): 2015,\n",
      "             ('Ground1', 'Side1'): 217,\n",
      "             ('Ground1', 'Side2'): 428,\n",
      "             ('Ground1', 'Side3'): 514,\n",
      "             ('Ground2', 'Bottom'): 1680,\n",
      "             ('Ground2', 'Ground1'): 2015,\n",
      "             ('Ground2', 'Side1'): 411,\n",
      "             ('Ground2', 'Side2'): 950,\n",
      "             ('Ground2', 'Side3'): 266,\n",
      "             ('Side1', 'Bottom'): 149,\n",
      "             ('Side1', 'Ground1'): 217,\n",
      "             ('Side1', 'Ground2'): 411,\n",
      "             ('Side1', 'Side2'): 2307,\n",
      "             ('Side2', 'Bottom'): 389,\n",
      "             ('Side2', 'Ground1'): 428,\n",
      "             ('Side2', 'Ground2'): 950,\n",
      "             ('Side2', 'Side1'): 2307,\n",
      "             ('Side3', 'Bottom'): 695,\n",
      "             ('Side3', 'Ground1'): 514,\n",
      "             ('Side3', 'Ground2'): 266})\n"
     ]
    }
   ],
   "source": [
    "rec_config = Path(\"/Users/kobel/Downloads/220927/recording_config_270922.yaml\")\n",
    "calibration_object = Calibration(calibration_directory=rec_config.parent, \n",
    "                                 output_directory=rec_config.parent, \n",
    "                                 recording_config_filepath=rec_config, \n",
    "                                 project_config_filepath = \"test_data/project_config.yaml\")\n",
    "calibration_object.run_synchronization(test_mode = True)"
   ]
  },
  {
   "cell_type": "code",
   "execution_count": 3,
   "id": "93231369-10e7-412b-a552-ab3685642e84",
   "metadata": {},
   "outputs": [
    {
     "name": "stderr",
     "output_type": "stream",
     "text": [
      "100%|██████████████████████████| 14558/14558 [00:16<00:00, 890.19it/s]\n",
      "100%|██████████████████████████| 14558/14558 [00:24<00:00, 592.75it/s]\n",
      "100%|█████████████████████████| 14558/14558 [00:13<00:00, 1097.39it/s]\n",
      "100%|██████████████████████████| 14558/14558 [00:33<00:00, 432.17it/s]\n",
      "100%|██████████████████████████| 14558/14558 [00:27<00:00, 528.45it/s]\n",
      "100%|██████████████████████████| 14558/14558 [00:29<00:00, 493.36it/s]\n",
      "100%|███████████████████████████████| 89/89 [00:00<00:00, 1310.31it/s]\n"
     ]
    },
    {
     "ename": "AssertionError",
     "evalue": "Invalid points shape, first dim should be equal to number of cameras (7), but shape is (6, 63567, 2)",
     "output_type": "error",
     "traceback": [
      "\u001b[0;31m---------------------------------------------------------------------------\u001b[0m",
      "\u001b[0;31mAssertionError\u001b[0m                            Traceback (most recent call last)",
      "\u001b[0;32m/var/folders/hx/_gs381js7bx3d219r2yjsf8c0000gn/T/ipykernel_66395/4063096982.py\u001b[0m in \u001b[0;36m<module>\u001b[0;34m\u001b[0m\n\u001b[0;32m----> 1\u001b[0;31m \u001b[0mcalibration_object\u001b[0m\u001b[0;34m.\u001b[0m\u001b[0mrun_calibration\u001b[0m\u001b[0;34m(\u001b[0m\u001b[0mverbose\u001b[0m\u001b[0;34m=\u001b[0m\u001b[0;32mTrue\u001b[0m\u001b[0;34m)\u001b[0m\u001b[0;34m\u001b[0m\u001b[0;34m\u001b[0m\u001b[0m\n\u001b[0m",
      "\u001b[0;32m~/let_it_be_3D/core/triangulation_calibration_module.py\u001b[0m in \u001b[0;36mrun_calibration\u001b[0;34m(self, use_own_intrinsic_calibration, verbose, charuco_calibration_board)\u001b[0m\n\u001b[1;32m    229\u001b[0m             \u001b[0minit_intrinsics\u001b[0m\u001b[0;34m=\u001b[0m\u001b[0;32mnot\u001b[0m \u001b[0muse_own_intrinsic_calibration\u001b[0m\u001b[0;34m,\u001b[0m\u001b[0;34m\u001b[0m\u001b[0;34m\u001b[0m\u001b[0m\n\u001b[1;32m    230\u001b[0m             \u001b[0minit_extrinsics\u001b[0m\u001b[0;34m=\u001b[0m\u001b[0;32mTrue\u001b[0m\u001b[0;34m,\u001b[0m\u001b[0;34m\u001b[0m\u001b[0;34m\u001b[0m\u001b[0m\n\u001b[0;32m--> 231\u001b[0;31m             \u001b[0mverbose\u001b[0m\u001b[0;34m=\u001b[0m\u001b[0mverbose\u001b[0m\u001b[0;34m,\u001b[0m\u001b[0;34m\u001b[0m\u001b[0;34m\u001b[0m\u001b[0m\n\u001b[0m\u001b[1;32m    232\u001b[0m         )\n\u001b[1;32m    233\u001b[0m         \u001b[0mself\u001b[0m\u001b[0;34m.\u001b[0m\u001b[0m_save_calibration\u001b[0m\u001b[0;34m(\u001b[0m\u001b[0;34m)\u001b[0m\u001b[0;34m\u001b[0m\u001b[0;34m\u001b[0m\u001b[0m\n",
      "\u001b[0;32m~/opt/anaconda3/envs/DEEPLABCUT_M1/lib/python3.7/site-packages/aniposelib/cameras.py\u001b[0m in \u001b[0;36mcalibrate_videos\u001b[0;34m(self, videos, board, init_intrinsics, init_extrinsics, verbose, **kwargs)\u001b[0m\n\u001b[1;32m   1606\u001b[0m                                     \u001b[0minit_intrinsics\u001b[0m\u001b[0;34m=\u001b[0m\u001b[0minit_intrinsics\u001b[0m\u001b[0;34m,\u001b[0m\u001b[0;34m\u001b[0m\u001b[0;34m\u001b[0m\u001b[0m\n\u001b[1;32m   1607\u001b[0m                                     \u001b[0minit_extrinsics\u001b[0m\u001b[0;34m=\u001b[0m\u001b[0minit_extrinsics\u001b[0m\u001b[0;34m,\u001b[0m\u001b[0;34m\u001b[0m\u001b[0;34m\u001b[0m\u001b[0m\n\u001b[0;32m-> 1608\u001b[0;31m                                     verbose=verbose, **kwargs)\n\u001b[0m\u001b[1;32m   1609\u001b[0m         \u001b[0;32mreturn\u001b[0m \u001b[0merror\u001b[0m\u001b[0;34m,\u001b[0m \u001b[0mall_rows\u001b[0m\u001b[0;34m\u001b[0m\u001b[0;34m\u001b[0m\u001b[0m\n\u001b[1;32m   1610\u001b[0m \u001b[0;34m\u001b[0m\u001b[0m\n",
      "\u001b[0;32m~/opt/anaconda3/envs/DEEPLABCUT_M1/lib/python3.7/site-packages/aniposelib/cameras.py\u001b[0m in \u001b[0;36mcalibrate_rows\u001b[0;34m(self, all_rows, board, init_intrinsics, init_extrinsics, verbose, **kwargs)\u001b[0m\n\u001b[1;32m   1567\u001b[0m             \u001b[0mself\u001b[0m\u001b[0;34m.\u001b[0m\u001b[0mset_translations\u001b[0m\u001b[0;34m(\u001b[0m\u001b[0mtvecs\u001b[0m\u001b[0;34m)\u001b[0m\u001b[0;34m\u001b[0m\u001b[0;34m\u001b[0m\u001b[0m\n\u001b[1;32m   1568\u001b[0m \u001b[0;34m\u001b[0m\u001b[0m\n\u001b[0;32m-> 1569\u001b[0;31m         \u001b[0merror\u001b[0m \u001b[0;34m=\u001b[0m \u001b[0mself\u001b[0m\u001b[0;34m.\u001b[0m\u001b[0mbundle_adjust_iter\u001b[0m\u001b[0;34m(\u001b[0m\u001b[0mimgp\u001b[0m\u001b[0;34m,\u001b[0m \u001b[0mextra\u001b[0m\u001b[0;34m,\u001b[0m \u001b[0mverbose\u001b[0m\u001b[0;34m=\u001b[0m\u001b[0mverbose\u001b[0m\u001b[0;34m,\u001b[0m \u001b[0;34m**\u001b[0m\u001b[0mkwargs\u001b[0m\u001b[0;34m)\u001b[0m\u001b[0;34m\u001b[0m\u001b[0;34m\u001b[0m\u001b[0m\n\u001b[0m\u001b[1;32m   1570\u001b[0m \u001b[0;34m\u001b[0m\u001b[0m\n\u001b[1;32m   1571\u001b[0m         \u001b[0;32mreturn\u001b[0m \u001b[0merror\u001b[0m\u001b[0;34m\u001b[0m\u001b[0;34m\u001b[0m\u001b[0m\n",
      "\u001b[0;32m~/opt/anaconda3/envs/DEEPLABCUT_M1/lib/python3.7/site-packages/aniposelib/cameras.py\u001b[0m in \u001b[0;36mbundle_adjust_iter\u001b[0;34m(self, p2ds, extra, n_iters, start_mu, end_mu, max_nfev, ftol, n_samp_iter, n_samp_full, error_threshold, verbose)\u001b[0m\n\u001b[1;32m    671\u001b[0m             \u001b[0;34m\"Invalid points shape, first dim should be equal to\"\u001b[0m\u001b[0;31m \u001b[0m\u001b[0;31m\\\u001b[0m\u001b[0;34m\u001b[0m\u001b[0;34m\u001b[0m\u001b[0m\n\u001b[1;32m    672\u001b[0m             \" number of cameras ({}), but shape is {}\".format(\n\u001b[0;32m--> 673\u001b[0;31m                 \u001b[0mlen\u001b[0m\u001b[0;34m(\u001b[0m\u001b[0mself\u001b[0m\u001b[0;34m.\u001b[0m\u001b[0mcameras\u001b[0m\u001b[0;34m)\u001b[0m\u001b[0;34m,\u001b[0m \u001b[0mp2ds\u001b[0m\u001b[0;34m.\u001b[0m\u001b[0mshape\u001b[0m\u001b[0;34m\u001b[0m\u001b[0;34m\u001b[0m\u001b[0m\n\u001b[0m\u001b[1;32m    674\u001b[0m             )\n\u001b[1;32m    675\u001b[0m \u001b[0;34m\u001b[0m\u001b[0m\n",
      "\u001b[0;31mAssertionError\u001b[0m: Invalid points shape, first dim should be equal to number of cameras (7), but shape is (6, 63567, 2)"
     ]
    }
   ],
   "source": [
    "calibration_object.run_calibration(verbose=True)"
   ]
  },
  {
   "cell_type": "code",
   "execution_count": null,
   "id": "009c5d74-d5d0-4ac2-acbf-2267e2ca1c5c",
   "metadata": {},
   "outputs": [],
   "source": []
  },
  {
   "cell_type": "code",
   "execution_count": null,
   "id": "71d577de-5d2d-4f79-a294-0808e9f33b7c",
   "metadata": {},
   "outputs": [],
   "source": [
    "21.09. Side3 to be excluded! do calibration!\n",
    "22.09. \n",
    "23.09. Top to be excluded!\n",
    "27.09.\n",
    "19.12. error 0.95\n",
    "20.12. Side3 not well synchronized, exclude! redo calibration!\n",
    "21.12. Side2 and Side3 not well synchronized, exclude! redo calibration! Top has 15000 frames less (why?, how?)\n",
    "22.12. error 2.22 Side3 not well synchronized, exclude! redo calibration!\n",
    "# calibration error wenn eine Kamera 0 boards detektiert hat!"
   ]
  },
  {
   "cell_type": "code",
   "execution_count": 1,
   "id": "c24fdd4a",
   "metadata": {},
   "outputs": [],
   "source": []
  },
  {
   "cell_type": "code",
   "execution_count": null,
   "id": "b13cae61",
   "metadata": {
    "scrolled": true,
    "tags": []
   },
   "outputs": [],
   "source": [
    "a = Calibration(\n",
    "    calibration_directory=\"test_data/Server_structure/Calibrations/220826/\",\n",
    "    project_config_filepath=\"test_data/project_config.yaml\",\n",
    "    recording_config_filepath=\"test_data/Server_structure/Calibrations/220826/recording_config.yaml\",\n",
    "    output_directory=\"test_data/Server_structure/Calibrations/220826/\",\n",
    ")"
   ]
  },
  {
   "cell_type": "code",
   "execution_count": null,
   "id": "628e3bb8-ce39-4733-83d8-89030428ee6b",
   "metadata": {
    "tags": []
   },
   "outputs": [],
   "source": [
    "a.run_synchronization()"
   ]
  },
  {
   "cell_type": "code",
   "execution_count": null,
   "id": "519526d5",
   "metadata": {
    "scrolled": true,
    "tags": []
   },
   "outputs": [],
   "source": [
    "a.run_calibration(verbose=True)"
   ]
  },
  {
   "cell_type": "code",
   "execution_count": null,
   "id": "c67ac275",
   "metadata": {},
   "outputs": [],
   "source": [
    "b = Triangulation_Recordings(\n",
    "    recording_directory=\"test_data/Server_structure/VGlut2-flp/September2022/196_F7-27/220826_OTT/\",\n",
    "    calibration_directory=\"test_data/Server_structure/Calibrations/220826/\",\n",
    "    recording_config_filepath=\"test_data/Server_structure/Calibrations/220826/recording_config.yaml\",\n",
    "    project_config_filepath=\"test_data/project_config.yaml\",\n",
    "    output_directory=\"test_data/Server_structure/VGlut2-flp/September2022/196_F7-27/220826_OTT/\",\n",
    ")"
   ]
  },
  {
   "cell_type": "code",
   "execution_count": null,
   "id": "f7e34efe-dc61-4ed2-bb6d-9e6acdfe1d59",
   "metadata": {},
   "outputs": [],
   "source": [
    "b.run_synchronization()"
   ]
  },
  {
   "cell_type": "code",
   "execution_count": null,
   "id": "fb2aabbb",
   "metadata": {
    "scrolled": true
   },
   "outputs": [],
   "source": [
    "b.run_triangulation(\n",
    "    calibration_toml_filepath=\"test_data/Server_structure/Calibrations/220826/calibration_220826.toml\"\n",
    ")"
   ]
  },
  {
   "cell_type": "code",
   "execution_count": null,
   "id": "a0b1927d-a532-4206-9c57-daeb0553a5a5",
   "metadata": {},
   "outputs": [],
   "source": [
    "c = Triangulation_Positions(\n",
    "    positions_directory=\"test_data/Server_structure/Calibrations/220826/\",\n",
    "    calibration_directory=\"test_data/Server_structure/Calibrations/220826/\",\n",
    "    recording_config_filepath=\"test_data/Server_structure/Calibrations/220826/recording_config.yaml\",\n",
    "    project_config_filepath=\"test_data/project_config.yaml\",\n",
    "    output_directory=\"test_data/Server_structure/Calibrations/220826/\",\n",
    ")"
   ]
  },
  {
   "cell_type": "code",
   "execution_count": null,
   "id": "fb8f9bb3-8578-4703-8562-6e12f0c26d2b",
   "metadata": {
    "tags": []
   },
   "outputs": [],
   "source": [
    "c.get_marker_predictions()"
   ]
  },
  {
   "cell_type": "code",
   "execution_count": null,
   "id": "e96eaf92-545f-40a1-897d-76b5cd38b978",
   "metadata": {},
   "outputs": [],
   "source": [
    "c.run_triangulation(\n",
    "    calibration_toml_filepath=\"test_data/Server_structure/Calibrations/220826/calibration_220826.toml\"\n",
    ")"
   ]
  },
  {
   "cell_type": "code",
   "execution_count": null,
   "id": "5ea35e8d-2332-4cf2-adce-e16a1b98594f",
   "metadata": {},
   "outputs": [],
   "source": []
  },
  {
   "cell_type": "code",
   "execution_count": null,
   "id": "a03a4ea9-c141-4656-be59-c0cf9230b626",
   "metadata": {},
   "outputs": [],
   "source": []
  },
  {
   "cell_type": "code",
   "execution_count": null,
   "id": "b475c3e6-2385-489f-8e02-60f6d1f1cd10",
   "metadata": {},
   "outputs": [],
   "source": []
  },
  {
   "cell_type": "code",
   "execution_count": null,
   "id": "056a5855-9ce4-45ce-9954-4092ee8302a8",
   "metadata": {},
   "outputs": [],
   "source": [
    "# special dependencies"
   ]
  },
  {
   "cell_type": "code",
   "execution_count": null,
   "id": "fc040d6b",
   "metadata": {},
   "outputs": [],
   "source": [
    "\"\"\"\n",
    "pip install aniposelib\n",
    "pip install ffmpeg\n",
    "pip install ffmpeg-python\n",
    "pip install imageio-ffmpeg\n",
    "jupyter lab\n",
    "Tkinter\n",
    "\"\"\""
   ]
  }
 ],
 "metadata": {
  "kernelspec": {
   "display_name": "Python 3 (ipykernel)",
   "language": "python",
   "name": "python3"
  },
  "language_info": {
   "codemirror_mode": {
    "name": "ipython",
    "version": 3
   },
   "file_extension": ".py",
   "mimetype": "text/x-python",
   "name": "python",
   "nbconvert_exporter": "python",
   "pygments_lexer": "ipython3",
   "version": "3.7.12"
  }
 },
 "nbformat": 4,
 "nbformat_minor": 5
}
