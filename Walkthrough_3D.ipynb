{
 "cells": [
  {
   "cell_type": "code",
   "execution_count": 1,
   "id": "0f2ec33e-8724-40c0-8cf1-7f9fbae03295",
   "metadata": {
    "tags": []
   },
   "outputs": [
    {
     "name": "stderr",
     "output_type": "stream",
     "text": [
      "C:\\Users\\Kobel_K\\.conda\\envs\\pipeline_b06\\lib\\site-packages\\tqdm\\auto.py:22: TqdmWarning: IProgress not found. Please update jupyter and ipywidgets. See https://ipywidgets.readthedocs.io/en/stable/user_install.html\n",
      "  from .autonotebook import tqdm as notebook_tqdm\n"
     ]
    }
   ],
   "source": [
    "from core.meta import meta_interface\n",
    "%matplotlib inline"
   ]
  },
  {
   "cell_type": "code",
   "execution_count": 2,
   "id": "f059c912-24ee-4975-9e0b-c23212f6a10a",
   "metadata": {},
   "outputs": [],
   "source": [
    "d = meta_interface(project_config_filepath=\"Z:Konstantin/project_config_server.yaml\", project_name=\"analysis_01\")"
   ]
  },
  {
   "cell_type": "code",
   "execution_count": 3,
   "id": "6dabb529-8cb0-4931-8b12-8def470a287f",
   "metadata": {},
   "outputs": [],
   "source": [
    "d.add_recording_config(\"Z:Konstantin/Calibration/220921/recording_config_210922.yaml\")\n",
    "d.add_recording_config(\"Z:Konstantin/Calibration/220922/recording_config_220922.yaml\")\n",
    "d.add_recording_config(\"Z:Konstantin/Calibration/220923/recording_config_230922.yaml\")"
   ]
  },
  {
   "cell_type": "code",
   "execution_count": 4,
   "id": "94876f1b-330a-4ba3-8044-0f4fa56e7ea6",
   "metadata": {},
   "outputs": [],
   "source": [
    "d.initialize_meta_config()"
   ]
  },
  {
   "cell_type": "code",
   "execution_count": 5,
   "id": "ca93a065-918a-4682-81f6-9999990f7194",
   "metadata": {},
   "outputs": [],
   "source": [
    "d.create_recordings()"
   ]
  },
  {
   "cell_type": "code",
   "execution_count": null,
   "id": "715e09b9-673b-44df-af59-139eaeaf9d04",
   "metadata": {
    "tags": []
   },
   "outputs": [
    {
     "name": "stderr",
     "output_type": "stream",
     "text": [
      "100%|████████████████████████████████████████████████████████████████████████████████| 100/100 [00:06<00:00, 15.65it/s]\n",
      "100%|██████████████████████████████████████████████████████████████████████████▉| 47400/47440 [07:35<00:00, 104.14it/s]\n",
      "100%|████████████████████████████████████████████████████████████████████████████████| 100/100 [00:02<00:00, 37.19it/s]\n",
      "100%|███████████████████████████████████████████████████████████████████████████▉| 39900/39949 [06:55<00:00, 96.01it/s]\n",
      "100%|████████████████████████████████████████████████████████████████████████████████| 100/100 [00:04<00:00, 24.27it/s]\n",
      "  4%|███                                                                          | 1896/47440 [00:40<16:05, 47.18it/s]"
     ]
    }
   ],
   "source": [
    "d.synchronize_recordings(verbose = True, test_mode = False)  # test_mode: bool, doesnt overwrite synchronized and analysed videos\n",
    "# exclude recordingvideos based on synchronization"
   ]
  },
  {
   "cell_type": "code",
   "execution_count": null,
   "id": "bae2a1bc",
   "metadata": {},
   "outputs": [],
   "source": [
    "d.load_meta_from_yaml(filepath=\"test_data/My_project.yaml\")"
   ]
  },
  {
   "cell_type": "code",
   "execution_count": null,
   "id": "bdca04fd-9e0c-4c6b-a4ee-6f2236be8b17",
   "metadata": {
    "tags": []
   },
   "outputs": [],
   "source": [
    "d.create_calibrations()\n",
    "# update fps, video_filepath, target_fps"
   ]
  },
  {
   "cell_type": "code",
   "execution_count": null,
   "id": "76663c1f-a516-4f43-9b33-5ad098a67fdd",
   "metadata": {
    "tags": []
   },
   "outputs": [],
   "source": [
    "d.synchronize_calibrations(test_mode = True)  \n",
    "\n",
    "# test_mode: bool, doesnt overwrite synchronized videos\n",
    "# to speed up testing, remove some cams from valid_cam_IDs in project_config.yaml\n",
    "\n",
    "# exclude calibrationvideos based on synchronization, change markerdetection_filepaths etc."
   ]
  },
  {
   "cell_type": "code",
   "execution_count": null,
   "id": "ece5a619-2d48-4675-a397-341ab9c3715e",
   "metadata": {
    "tags": []
   },
   "outputs": [],
   "source": [
    "d.calibrate()\n",
    "# exclude calibrations based on calibration log and repeat calibration (not yet implemented) "
   ]
  },
  {
   "cell_type": "code",
   "execution_count": null,
   "id": "c5a557dd-fc29-4c05-bca1-17bace9e21b6",
   "metadata": {
    "tags": []
   },
   "outputs": [],
   "source": [
    "d.triangulate_recordings()"
   ]
  },
  {
   "cell_type": "code",
   "execution_count": null,
   "id": "f98577ef-aeac-494b-b123-4efe7d105838",
   "metadata": {},
   "outputs": [],
   "source": [
    "d.meta"
   ]
  },
  {
   "cell_type": "code",
   "execution_count": null,
   "id": "f2ab7809-b48d-4f6d-9b1b-a8c9f7fd4714",
   "metadata": {
    "tags": []
   },
   "outputs": [],
   "source": [
    "d.export_meta_to_yaml(filepath=\"test_data/My_project.yaml\")"
   ]
  },
  {
   "cell_type": "code",
   "execution_count": null,
   "id": "e589b036-0788-4d00-b62f-c3fbb3d3ffb9",
   "metadata": {
    "tags": []
   },
   "outputs": [],
   "source": [
    "d.load_meta_from_yaml(filepath=\"test_data/My_project.yaml\")"
   ]
  },
  {
   "cell_type": "code",
   "execution_count": null,
   "id": "6ebaaeb2-9b93-4084-9eca-9952e8cbdd20",
   "metadata": {},
   "outputs": [],
   "source": []
  },
  {
   "cell_type": "code",
   "execution_count": null,
   "id": "e63b59f6-9fa0-4a93-8f58-6fb4f0bc1f3f",
   "metadata": {},
   "outputs": [],
   "source": []
  },
  {
   "cell_type": "code",
   "execution_count": null,
   "id": "4e3c2b0e-c8c4-46cd-bd2c-78323afc53f4",
   "metadata": {},
   "outputs": [],
   "source": []
  },
  {
   "cell_type": "code",
   "execution_count": null,
   "id": "abd7d7a7-0777-461a-a3a9-576123ed19fe",
   "metadata": {},
   "outputs": [],
   "source": []
  },
  {
   "cell_type": "code",
   "execution_count": null,
   "id": "228fa7ea-6470-4b26-8c03-0c7de4c3077e",
   "metadata": {},
   "outputs": [],
   "source": []
  },
  {
   "cell_type": "code",
   "execution_count": null,
   "id": "c24fdd4a",
   "metadata": {},
   "outputs": [],
   "source": [
    "from core.triangulation_calibration_module import (\n",
    "    Calibration,\n",
    "    Triangulation_Positions,\n",
    "    Triangulation_Recordings,\n",
    ")"
   ]
  },
  {
   "cell_type": "code",
   "execution_count": null,
   "id": "b13cae61",
   "metadata": {
    "scrolled": true,
    "tags": []
   },
   "outputs": [],
   "source": [
    "a = Calibration(\n",
    "    calibration_directory=\"test_data/Server_structure/Calibrations/220826/\",\n",
    "    project_config_filepath=\"test_data/project_config.yaml\",\n",
    "    recording_config_filepath=\"test_data/Server_structure/Calibrations/220826/recording_config.yaml\",\n",
    "    output_directory=\"test_data/Server_structure/Calibrations/220826/\",\n",
    ")"
   ]
  },
  {
   "cell_type": "code",
   "execution_count": null,
   "id": "628e3bb8-ce39-4733-83d8-89030428ee6b",
   "metadata": {
    "tags": []
   },
   "outputs": [],
   "source": [
    "a.run_synchronization()"
   ]
  },
  {
   "cell_type": "code",
   "execution_count": null,
   "id": "519526d5",
   "metadata": {
    "scrolled": true,
    "tags": []
   },
   "outputs": [],
   "source": [
    "a.run_calibration(verbose=True)"
   ]
  },
  {
   "cell_type": "code",
   "execution_count": null,
   "id": "c67ac275",
   "metadata": {},
   "outputs": [],
   "source": [
    "b = Triangulation_Recordings(\n",
    "    recording_directory=\"test_data/Server_structure/VGlut2-flp/September2022/196_F7-27/220826_OTT/\",\n",
    "    calibration_directory=\"test_data/Server_structure/Calibrations/220826/\",\n",
    "    recording_config_filepath=\"test_data/Server_structure/Calibrations/220826/recording_config.yaml\",\n",
    "    project_config_filepath=\"test_data/project_config.yaml\",\n",
    "    output_directory=\"test_data/Server_structure/VGlut2-flp/September2022/196_F7-27/220826_OTT/\",\n",
    ")"
   ]
  },
  {
   "cell_type": "code",
   "execution_count": null,
   "id": "f7e34efe-dc61-4ed2-bb6d-9e6acdfe1d59",
   "metadata": {},
   "outputs": [],
   "source": [
    "b.run_synchronization()"
   ]
  },
  {
   "cell_type": "code",
   "execution_count": null,
   "id": "fb2aabbb",
   "metadata": {
    "scrolled": true
   },
   "outputs": [],
   "source": [
    "b.run_triangulation(\n",
    "    calibration_toml_filepath=\"test_data/Server_structure/Calibrations/220826/calibration_220826.toml\"\n",
    ")"
   ]
  },
  {
   "cell_type": "code",
   "execution_count": null,
   "id": "a0b1927d-a532-4206-9c57-daeb0553a5a5",
   "metadata": {},
   "outputs": [],
   "source": [
    "c = Triangulation_Positions(\n",
    "    positions_directory=\"test_data/Server_structure/Calibrations/220826/\",\n",
    "    calibration_directory=\"test_data/Server_structure/Calibrations/220826/\",\n",
    "    recording_config_filepath=\"test_data/Server_structure/Calibrations/220826/recording_config.yaml\",\n",
    "    project_config_filepath=\"test_data/project_config.yaml\",\n",
    "    output_directory=\"test_data/Server_structure/Calibrations/220826/\",\n",
    ")"
   ]
  },
  {
   "cell_type": "code",
   "execution_count": null,
   "id": "fb8f9bb3-8578-4703-8562-6e12f0c26d2b",
   "metadata": {
    "tags": []
   },
   "outputs": [],
   "source": [
    "c.get_marker_predictions()"
   ]
  },
  {
   "cell_type": "code",
   "execution_count": null,
   "id": "e96eaf92-545f-40a1-897d-76b5cd38b978",
   "metadata": {},
   "outputs": [],
   "source": [
    "c.run_triangulation(\n",
    "    calibration_toml_filepath=\"test_data/Server_structure/Calibrations/220826/calibration_220826.toml\"\n",
    ")"
   ]
  },
  {
   "cell_type": "code",
   "execution_count": null,
   "id": "5ea35e8d-2332-4cf2-adce-e16a1b98594f",
   "metadata": {},
   "outputs": [],
   "source": []
  },
  {
   "cell_type": "code",
   "execution_count": null,
   "id": "a03a4ea9-c141-4656-be59-c0cf9230b626",
   "metadata": {},
   "outputs": [],
   "source": []
  },
  {
   "cell_type": "code",
   "execution_count": null,
   "id": "b475c3e6-2385-489f-8e02-60f6d1f1cd10",
   "metadata": {},
   "outputs": [],
   "source": []
  },
  {
   "cell_type": "code",
   "execution_count": null,
   "id": "056a5855-9ce4-45ce-9954-4092ee8302a8",
   "metadata": {},
   "outputs": [],
   "source": [
    "# special dependencies"
   ]
  },
  {
   "cell_type": "code",
   "execution_count": null,
   "id": "fc040d6b",
   "metadata": {},
   "outputs": [],
   "source": [
    "\"\"\"\n",
    "pip install aniposelib\n",
    "pip install ffmpeg\n",
    "pip install ffmpeg-python\n",
    "pip install imageio-ffmpeg\n",
    "jupyter lab\n",
    "Tkinter\n",
    "\"\"\""
   ]
  }
 ],
 "metadata": {
  "kernelspec": {
   "display_name": "Python 3 (ipykernel)",
   "language": "python",
   "name": "python3"
  },
  "language_info": {
   "codemirror_mode": {
    "name": "ipython",
    "version": 3
   },
   "file_extension": ".py",
   "mimetype": "text/x-python",
   "name": "python",
   "nbconvert_exporter": "python",
   "pygments_lexer": "ipython3",
   "version": "3.7.15"
  }
 },
 "nbformat": 4,
 "nbformat_minor": 5
}
