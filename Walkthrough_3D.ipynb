{
 "cells": [
  {
   "cell_type": "markdown",
   "id": "3c01515e-0093-45fa-a21c-5179610717fa",
   "metadata": {},
   "source": [
    "## To run the pipeline:"
   ]
  },
  {
   "cell_type": "code",
   "execution_count": null,
   "id": "0f2ec33e-8724-40c0-8cf1-7f9fbae03295",
   "metadata": {
    "tags": []
   },
   "outputs": [],
   "source": [
    "from core.meta import meta_interface"
   ]
  },
  {
   "cell_type": "code",
   "execution_count": null,
   "id": "f059c912-24ee-4975-9e0b-c23212f6a10a",
   "metadata": {},
   "outputs": [],
   "source": [
    "d = meta_interface(project_config_filepath=\"test_data/project_config.yaml\", project_name=\"test_data\")"
   ]
  },
  {
   "cell_type": "code",
   "execution_count": null,
   "id": "6dabb529-8cb0-4931-8b12-8def470a287f",
   "metadata": {},
   "outputs": [],
   "source": [
    "d.add_recording_config(\"test_data/Server_structure/Calibrations/220922/recording_config_220922.yaml\")"
   ]
  },
  {
   "cell_type": "code",
   "execution_count": null,
   "id": "94876f1b-330a-4ba3-8044-0f4fa56e7ea6",
   "metadata": {
    "tags": []
   },
   "outputs": [],
   "source": [
    "d.initialize_meta_config()"
   ]
  },
  {
   "cell_type": "markdown",
   "id": "3ecb5ba9-4d40-455d-adbc-568bcdbea537",
   "metadata": {},
   "source": [
    "#### creates undistorted images per cam and reads metadata"
   ]
  },
  {
   "cell_type": "code",
   "execution_count": null,
   "id": "ca93a065-918a-4682-81f6-9999990f7194",
   "metadata": {},
   "outputs": [],
   "source": [
    "d.create_recordings()"
   ]
  },
  {
   "cell_type": "markdown",
   "id": "d4f0e9e5-9919-43c9-b2ab-b0b86db2bfe7",
   "metadata": {},
   "source": [
    "#### runs synchronisation and DLC analysis\n",
    "##### test_mode=True doesn't overwrite already existing synchronized/analysed files\n",
    "##### synchronize_only=True doesn't DLC analyse files\n",
    "##### verbose=True prints the duration of one recording analysis"
   ]
  },
  {
   "cell_type": "code",
   "execution_count": null,
   "id": "715e09b9-673b-44df-af59-139eaeaf9d04",
   "metadata": {
    "tags": []
   },
   "outputs": [],
   "source": [
    "d.synchronize_recordings(verbose = True, test_mode = True)"
   ]
  },
  {
   "cell_type": "code",
   "execution_count": null,
   "id": "bdca04fd-9e0c-4c6b-a4ee-6f2236be8b17",
   "metadata": {
    "tags": []
   },
   "outputs": [],
   "source": [
    "d.create_calibrations(ground_truth_config_filepath=\"test_data/ground_truth_config.yaml\")"
   ]
  },
  {
   "cell_type": "markdown",
   "id": "cbf2cd00-5790-4a7f-a9fa-b7bf3bd2c63e",
   "metadata": {},
   "source": [
    "#### runs synchronisation\n",
    "##### test_mode=True doesn't overwrite already existing synchronized videos"
   ]
  },
  {
   "cell_type": "code",
   "execution_count": null,
   "id": "76663c1f-a516-4f43-9b33-5ad098a67fdd",
   "metadata": {
    "tags": []
   },
   "outputs": [],
   "source": [
    "d.synchronize_calibrations(test_mode = True)  "
   ]
  },
  {
   "cell_type": "markdown",
   "id": "cf9f3320-52ea-4c02-be9b-b9bc97bb58c2",
   "metadata": {},
   "source": [
    "#### Anipose calibration\n",
    "##### calibrate_optimal = True uses calibration_validation for repeated calibrations\n",
    "##### verbose = True shows aniposelib output. Calibration_validation output is shown by default"
   ]
  },
  {
   "cell_type": "code",
   "execution_count": null,
   "id": "ece5a619-2d48-4675-a397-341ab9c3715e",
   "metadata": {
    "tags": []
   },
   "outputs": [],
   "source": [
    "d.calibrate(verbose = False, calibrate_optimal = True)"
   ]
  },
  {
   "cell_type": "code",
   "execution_count": null,
   "id": "c5a557dd-fc29-4c05-bca1-17bace9e21b6",
   "metadata": {
    "tags": []
   },
   "outputs": [],
   "source": [
    "d.triangulate_recordings()"
   ]
  },
  {
   "cell_type": "markdown",
   "id": "b2fff393-26e2-4592-85e7-44503f647550",
   "metadata": {},
   "source": [
    "### The meta .yaml file contains all information stored in d.meta"
   ]
  },
  {
   "cell_type": "code",
   "execution_count": null,
   "id": "f2ab7809-b48d-4f6d-9b1b-a8c9f7fd4714",
   "metadata": {
    "tags": []
   },
   "outputs": [],
   "source": [
    "d.export_meta_to_yaml(filepath=\"test_data/My_project.yaml\")"
   ]
  },
  {
   "cell_type": "code",
   "execution_count": null,
   "id": "e589b036-0788-4d00-b62f-c3fbb3d3ffb9",
   "metadata": {
    "tags": []
   },
   "outputs": [],
   "source": [
    "d.load_meta_from_yaml(filepath=\"test_data/test_data_01.yaml\")"
   ]
  },
  {
   "cell_type": "markdown",
   "id": "96e4be0e-f647-492c-8515-d76e2e519d14",
   "metadata": {},
   "source": [
    "#### To inspect the files, we recommend https://www.treedoc.org/, which creates a tree-like structured view for .yaml files"
   ]
  },
  {
   "cell_type": "code",
   "execution_count": null,
   "id": "9e17e9ae-5b23-4726-b618-fe0040a7a28f",
   "metadata": {
    "tags": []
   },
   "outputs": [],
   "source": []
  },
  {
   "cell_type": "code",
   "execution_count": null,
   "id": "911006e8-2f69-4080-b192-a31f698411f1",
   "metadata": {},
   "outputs": [],
   "source": []
  },
  {
   "cell_type": "code",
   "execution_count": null,
   "id": "81017b94-f420-46cd-98ab-8e072889dad4",
   "metadata": {},
   "outputs": [],
   "source": []
  },
  {
   "cell_type": "markdown",
   "id": "c66730e1-f52c-4dd2-9af6-8459decf3079",
   "metadata": {},
   "source": [
    "## To access calibration_objects"
   ]
  },
  {
   "cell_type": "code",
   "execution_count": null,
   "id": "4e3c2b0e-c8c4-46cd-bd2c-78323afc53f4",
   "metadata": {},
   "outputs": [],
   "source": [
    "from pathlib import Path\n",
    "from core.triangulation_calibration_module import (\n",
    "    Calibration,\n",
    "    Triangulation_Positions,\n",
    "    Triangulation_Recordings,\n",
    ")"
   ]
  },
  {
   "cell_type": "code",
   "execution_count": null,
   "id": "abd7d7a7-0777-461a-a3a9-576123ed19fe",
   "metadata": {},
   "outputs": [],
   "source": [
    "rec_config = Path(\"test_data/Server_structure/Calibrations/220826/recording_config.yaml\")\n",
    "calibration_object = Calibration(calibration_directory=rec_config.parent, \n",
    "                                 output_directory=rec_config.parent, \n",
    "                                 recording_config_filepath=rec_config, \n",
    "                                 project_config_filepath = \"test_data/project_config.yaml\")"
   ]
  },
  {
   "cell_type": "code",
   "execution_count": null,
   "id": "dc3a17c7-3698-49e0-8970-2d27e98c92bd",
   "metadata": {
    "tags": []
   },
   "outputs": [],
   "source": [
    "calibration_object.run_synchronization(test_mode = True)"
   ]
  },
  {
   "cell_type": "code",
   "execution_count": null,
   "id": "228fa7ea-6470-4b26-8c03-0c7de4c3077e",
   "metadata": {},
   "outputs": [],
   "source": [
    "calibration_object.run_calibration(verbose=True)"
   ]
  }
 ],
 "metadata": {
  "kernelspec": {
   "display_name": "Python 3 (ipykernel)",
   "language": "python",
   "name": "python3"
  },
  "language_info": {
   "codemirror_mode": {
    "name": "ipython",
    "version": 3
   },
   "file_extension": ".py",
   "mimetype": "text/x-python",
   "name": "python",
   "nbconvert_exporter": "python",
   "pygments_lexer": "ipython3",
   "version": "3.9.16"
  }
 },
 "nbformat": 4,
 "nbformat_minor": 5
}
