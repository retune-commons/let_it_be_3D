{
 "cells": [
  {
   "cell_type": "code",
   "execution_count": null,
   "id": "0f2ec33e-8724-40c0-8cf1-7f9fbae03295",
   "metadata": {
    "tags": []
   },
   "outputs": [],
   "source": [
    "from core.meta import meta_interface\n",
    "%matplotlib inline"
   ]
  },
  {
   "cell_type": "code",
   "execution_count": null,
   "id": "5d56a5c6-066e-443b-a194-ad453f040f17",
   "metadata": {},
   "outputs": [],
   "source": [
    "d = meta_interface(project_config_path=\"test_data/project_config.yaml\")\n",
    "d.add_recording_config('test_data/Server_structure/Calibrations/220826/recording_config.yaml')\n",
    "d.initialize_meta_config()\n",
    "d.create_recordings()\n",
    "d.synchronize_recordings()\n",
    "d.create_calibrations()\n",
    "d.synchronize_calibrations()\n",
    "d.calibrate()\n",
    "d.triangulate_recordings()"
   ]
  },
  {
   "cell_type": "code",
   "execution_count": null,
   "id": "50288d24-7c18-4953-b94d-7c59fdeb9063",
   "metadata": {},
   "outputs": [],
   "source": [
    "d.export_meta_to_yaml(filename = \"test_data/meta_test.yaml\")"
   ]
  },
  {
   "cell_type": "code",
   "execution_count": null,
   "id": "584f4922-949e-4832-bc4a-3d1fc421c9cb",
   "metadata": {
    "tags": []
   },
   "outputs": [],
   "source": [
    "d.meta"
   ]
  },
  {
   "cell_type": "code",
   "execution_count": null,
   "id": "1fc6ad2e-f17b-4f21-9068-c0b7f48c4c2b",
   "metadata": {},
   "outputs": [],
   "source": []
  },
  {
   "cell_type": "code",
   "execution_count": null,
   "id": "65cd98fd-f07d-45e6-81a5-109adb9befbb",
   "metadata": {},
   "outputs": [],
   "source": []
  },
  {
   "cell_type": "code",
   "execution_count": null,
   "id": "5d0ad7b3-cf84-4ba8-b027-1a06dc6c1752",
   "metadata": {},
   "outputs": [],
   "source": [
    "Was geschehen soll:\n",
    "    \n",
    "1.\n",
    "- alle recording configs manuell hinzufügen\n",
    "- alle recording directories finden/manuell hinzufügen\n",
    "- Recording_Triangulation objekte erstellen\n",
    "- metadata sammeln\n",
    "STOP\n",
    "2.\n",
    "- synchronisiert videos und läuft DLC\n",
    "- meta: synchro_path, DLC_path, synchro_framenum\n",
    "STOP: check exclusion manually!\n",
    "3.\n",
    "?A\n",
    "- necessary_calibrations based on exclusion_flags\n",
    "- meta: calibration_to_use based on necessary_calibrations\n",
    "- create calibration objects based on necessary_calibrations\n",
    "4.\n",
    "Calibration wird erstellt\n",
    "- meta: videos mit cam_id, fps, framenum, path, exclusion_flag, intrinsic_calibrations\n",
    "erstellt Positions\n",
    "- meta: Positions\n",
    "STOP\n",
    "5.\n",
    "- Positions: marker predicition\n",
    "- synchronisiert videos\n",
    "- meta: synchro videos, marker_predictions positions\n",
    "STOP\n",
    "6.\n",
    "!wenn calbration video excluded wird, repeat von ?A mit overwrite=False\n",
    "!wenn nicht: continue\n",
    "- create calibration.toml \n",
    "7.\n",
    "Triangulation_Recordings\n",
    "- run triangulation\n",
    "- meta: 3D.csv, error"
   ]
  },
  {
   "cell_type": "code",
   "execution_count": null,
   "id": "35727373-5458-47c9-bcdd-1c327a3092f4",
   "metadata": {},
   "outputs": [],
   "source": [
    "Was bisher noch fehlt:\n",
    "\n",
    "1. exclusion based on framenum? zu viele framedrops?, video_metadata ändern und updaten: (fps, led_pattern)\n",
    "2. exclusion manually or based on synchro\n",
    "5. calibration subgroup\n",
    "6. repeat and exclude \n",
    "6. in triangulation_calibration_module: all_cams or Side1_Side2_Bottom in .toml filename\n",
    "6. (sobald implementiert: optimize calibration based on positions dafür: triangulate positions)  \n",
    "x. already_existing and overwrite false\n",
    "x. how to update existing objects?\n"
   ]
  },
  {
   "cell_type": "code",
   "execution_count": null,
   "id": "77d1f1b8-6281-44be-88d2-b881ee16338e",
   "metadata": {},
   "outputs": [],
   "source": []
  },
  {
   "cell_type": "code",
   "execution_count": null,
   "id": "4e3c2b0e-c8c4-46cd-bd2c-78323afc53f4",
   "metadata": {},
   "outputs": [],
   "source": []
  },
  {
   "cell_type": "code",
   "execution_count": null,
   "id": "abd7d7a7-0777-461a-a3a9-576123ed19fe",
   "metadata": {},
   "outputs": [],
   "source": []
  },
  {
   "cell_type": "code",
   "execution_count": null,
   "id": "228fa7ea-6470-4b26-8c03-0c7de4c3077e",
   "metadata": {},
   "outputs": [],
   "source": []
  },
  {
   "cell_type": "code",
   "execution_count": null,
   "id": "c24fdd4a",
   "metadata": {},
   "outputs": [],
   "source": [
    "from core.triangulation_calibration_module import Calibration, Triangulation_Positions, Triangulation_Recordings"
   ]
  },
  {
   "cell_type": "code",
   "execution_count": null,
   "id": "b13cae61",
   "metadata": {
    "scrolled": true,
    "tags": []
   },
   "outputs": [],
   "source": [
    "a = Calibration(calibration_directory = 'test_data/Server_structure/Calibrations/220826/', \n",
    "                project_config_filepath = 'test_data/project_config.yaml',\n",
    "                recording_config_filepath = 'test_data/Server_structure/Calibrations/220826/recording_config.yaml',\n",
    "                output_directory = 'test_data/Server_structure/Calibrations/220826/',\n",
    "                overwrite = False)"
   ]
  },
  {
   "cell_type": "code",
   "execution_count": null,
   "id": "628e3bb8-ce39-4733-83d8-89030428ee6b",
   "metadata": {
    "tags": []
   },
   "outputs": [],
   "source": [
    "a.run_synchronization()"
   ]
  },
  {
   "cell_type": "code",
   "execution_count": null,
   "id": "519526d5",
   "metadata": {
    "scrolled": true,
    "tags": []
   },
   "outputs": [],
   "source": [
    "a.run_calibration(verbose = True)"
   ]
  },
  {
   "cell_type": "code",
   "execution_count": null,
   "id": "c67ac275",
   "metadata": {},
   "outputs": [],
   "source": [
    "b = Triangulation_Recordings(recording_directory = 'test_data/Server_structure/VGlut2-flp/September2022/196_F7-27/220826_OTT/', \n",
    "                             calibration_directory = 'test_data/Server_structure/Calibrations/220826/',\n",
    "                             recording_config_filepath = 'test_data/Server_structure/Calibrations/220826/recording_config.yaml', \n",
    "                             project_config_filepath= 'test_data/project_config.yaml',\n",
    "                             output_directory = \"test_data/Server_structure/VGlut2-flp/September2022/196_F7-27/220826_OTT/\", overwrite = False)"
   ]
  },
  {
   "cell_type": "code",
   "execution_count": null,
   "id": "f7e34efe-dc61-4ed2-bb6d-9e6acdfe1d59",
   "metadata": {},
   "outputs": [],
   "source": [
    "b.run_synchronization()"
   ]
  },
  {
   "cell_type": "code",
   "execution_count": null,
   "id": "fb2aabbb",
   "metadata": {
    "scrolled": true
   },
   "outputs": [],
   "source": [
    "b.run_triangulation(calibration_toml_filepath = 'test_data/Server_structure/Calibrations/220826/calibration_220826.toml')"
   ]
  },
  {
   "cell_type": "code",
   "execution_count": null,
   "id": "a0b1927d-a532-4206-9c57-daeb0553a5a5",
   "metadata": {},
   "outputs": [],
   "source": [
    "c = Triangulation_Positions(positions_directory = 'test_data/Server_structure/Calibrations/220826/', \n",
    "                            calibration_directory = 'test_data/Server_structure/Calibrations/220826/',\n",
    "                            recording_config_filepath = 'test_data/Server_structure/Calibrations/220826/recording_config.yaml', \n",
    "                            project_config_filepath= 'test_data/project_config.yaml',\n",
    "                            output_directory = 'test_data/Server_structure/Calibrations/220826/', \n",
    "                            overwrite = False)"
   ]
  },
  {
   "cell_type": "code",
   "execution_count": null,
   "id": "fb8f9bb3-8578-4703-8562-6e12f0c26d2b",
   "metadata": {
    "tags": []
   },
   "outputs": [],
   "source": [
    "c.get_marker_predictions()"
   ]
  },
  {
   "cell_type": "code",
   "execution_count": null,
   "id": "e96eaf92-545f-40a1-897d-76b5cd38b978",
   "metadata": {},
   "outputs": [],
   "source": [
    "c.run_triangulation(calibration_toml_filepath = 'test_data/Server_structure/Calibrations/220826/calibration_220826.toml')"
   ]
  },
  {
   "cell_type": "code",
   "execution_count": null,
   "id": "5ea35e8d-2332-4cf2-adce-e16a1b98594f",
   "metadata": {},
   "outputs": [],
   "source": []
  },
  {
   "cell_type": "code",
   "execution_count": null,
   "id": "a03a4ea9-c141-4656-be59-c0cf9230b626",
   "metadata": {},
   "outputs": [],
   "source": []
  },
  {
   "cell_type": "code",
   "execution_count": null,
   "id": "b475c3e6-2385-489f-8e02-60f6d1f1cd10",
   "metadata": {},
   "outputs": [],
   "source": []
  },
  {
   "cell_type": "code",
   "execution_count": null,
   "id": "056a5855-9ce4-45ce-9954-4092ee8302a8",
   "metadata": {},
   "outputs": [],
   "source": [
    "#dependencies"
   ]
  },
  {
   "cell_type": "code",
   "execution_count": null,
   "id": "fc040d6b",
   "metadata": {},
   "outputs": [],
   "source": [
    "\"\"\"\n",
    "pip install aniposelib\n",
    "pip install ffmpeg\n",
    "pip install ffmpeg-python\n",
    "pip install imageio-ffmpeg\n",
    "jupyter lab\n",
    "Tkinter\n",
    "\"\"\""
   ]
  }
 ],
 "metadata": {
  "kernelspec": {
   "display_name": "Python 3 (ipykernel)",
   "language": "python",
   "name": "python3"
  },
  "language_info": {
   "codemirror_mode": {
    "name": "ipython",
    "version": 3
   },
   "file_extension": ".py",
   "mimetype": "text/x-python",
   "name": "python",
   "nbconvert_exporter": "python",
   "pygments_lexer": "ipython3",
   "version": "3.9.12"
  }
 },
 "nbformat": 4,
 "nbformat_minor": 5
}
