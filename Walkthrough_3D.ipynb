{
 "cells": [
  {
   "cell_type": "code",
   "execution_count": null,
   "id": "c24fdd4a",
   "metadata": {},
   "outputs": [],
   "source": [
    "from pathlib import Path\n",
    "#%matplotlib notebook\n",
    "from core.triangulation_calibration_module import Calibration, Triangulation_Positions, Triangulation_Recordings"
   ]
  },
  {
   "cell_type": "code",
   "execution_count": null,
   "id": "b13cae61",
   "metadata": {
    "scrolled": true
   },
   "outputs": [],
   "source": [
    "a = Calibration(calibration_directory = Path('test_data/220826_Calibration/'), \n",
    "                project_config_filepath = Path('test_data/project_config.yaml'),\n",
    "                recording_config_filepath = Path('test_data/recording_config.yaml'),\n",
    "                overwrite = False, load_calibration = True, max_frame_count = 300, use_gpu = False, output_directory = Path('test_data/220826_Calibration/'))"
   ]
  },
  {
   "cell_type": "code",
   "execution_count": null,
   "id": "74e57d9f",
   "metadata": {},
   "outputs": [],
   "source": [
    "a.synchronization_crossvalidation.plot(save_to_disk = False)"
   ]
  },
  {
   "cell_type": "code",
   "execution_count": null,
   "id": "e75204f6",
   "metadata": {
    "scrolled": true
   },
   "outputs": [],
   "source": [
    "for individual_plot in a.synchronization_individuals:\n",
    "    individual_plot.plot(save_to_disk = False)\n",
    "for individual_plot in a.led_detection_individuals:\n",
    "    individual_plot.plot(save_to_disk = False)"
   ]
  },
  {
   "cell_type": "code",
   "execution_count": null,
   "id": "519526d5",
   "metadata": {
    "scrolled": true
   },
   "outputs": [],
   "source": [
    "a.run_calibration(verbose = True)"
   ]
  },
  {
   "cell_type": "code",
   "execution_count": null,
   "id": "c67ac275",
   "metadata": {},
   "outputs": [],
   "source": [
    "b = Triangulation_Recordings(recording_directory = Path('test_data/220826_Recording/'), \n",
    "                             calibration_toml_filepath = Path('test_data/220826_Calibration/calibration_220826.toml'), \n",
    "                             recording_config_filepath = Path('test_data/recording_config.yaml'), \n",
    "                             project_config_filepath=Path.cwd().joinpath('test_data/project_config.yaml'),\n",
    "                             output_directory = Path(\"test_data/220826_Recording/\"), overwrite = False, load_calibration=True, use_gpu = False)"
   ]
  },
  {
   "cell_type": "code",
   "execution_count": null,
   "id": "fb2aabbb",
   "metadata": {
    "scrolled": true
   },
   "outputs": [],
   "source": [
    "b.run_triangulation()"
   ]
  },
  {
   "cell_type": "code",
   "execution_count": null,
   "id": "796a9f62",
   "metadata": {},
   "outputs": [],
   "source": [
    "b.df"
   ]
  },
  {
   "cell_type": "code",
   "execution_count": null,
   "id": "67c8581c",
   "metadata": {},
   "outputs": [],
   "source": []
  },
  {
   "cell_type": "code",
   "execution_count": null,
   "id": "57954298",
   "metadata": {},
   "outputs": [],
   "source": [
    "# distinguish between max_frame_count! (used in intrinsic_calibrations and save_videoto_disk)"
   ]
  },
  {
   "cell_type": "code",
   "execution_count": null,
   "id": "94a8b47a",
   "metadata": {},
   "outputs": [],
   "source": []
  },
  {
   "cell_type": "markdown",
   "id": "e984a3ed",
   "metadata": {},
   "source": [
    "## dependencies"
   ]
  },
  {
   "cell_type": "code",
   "execution_count": null,
   "id": "fc040d6b",
   "metadata": {},
   "outputs": [],
   "source": [
    "\"\"\"\n",
    "pip install aniposelib\n",
    "pip install ffmpeg\n",
    "pip install ffmpeg-python\n",
    "pip install imageio-ffmpeg\n",
    "jupyter lab\n",
    "\"\"\""
   ]
  }
 ],
 "metadata": {
  "kernelspec": {
   "display_name": "Python 3 (ipykernel)",
   "language": "python",
   "name": "python3"
  },
  "language_info": {
   "codemirror_mode": {
    "name": "ipython",
    "version": 3
   },
   "file_extension": ".py",
   "mimetype": "text/x-python",
   "name": "python",
   "nbconvert_exporter": "python",
   "pygments_lexer": "ipython3",
   "version": "3.9.12"
  }
 },
 "nbformat": 4,
 "nbformat_minor": 5
}
