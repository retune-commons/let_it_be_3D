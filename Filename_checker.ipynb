{
 "cells": [
  {
   "cell_type": "code",
   "execution_count": 2,
   "id": "fbd1d5ca-c50f-4cc4-a7ab-7c1b52ebd987",
   "metadata": {},
   "outputs": [],
   "source": [
    "from core.check_filenames import filename_checking_interface"
   ]
  },
  {
   "cell_type": "code",
   "execution_count": null,
   "id": "f05b5bfc-2bc9-4e23-8d1c-4ff695186a8e",
   "metadata": {},
   "outputs": [],
   "source": []
  }
 ],
 "metadata": {
  "kernelspec": {
   "display_name": "Python 3 (ipykernel)",
   "language": "python",
   "name": "python3"
  },
  "language_info": {
   "codemirror_mode": {
    "name": "ipython",
    "version": 3
   },
   "file_extension": ".py",
   "mimetype": "text/x-python",
   "name": "python",
   "nbconvert_exporter": "python",
   "pygments_lexer": "ipython3",
   "version": "3.7.12"
  }
 },
 "nbformat": 4,
 "nbformat_minor": 5
}
