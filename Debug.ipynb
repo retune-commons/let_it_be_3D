{
 "cells": [
  {
   "cell_type": "code",
   "execution_count": null,
   "id": "eefbde70-faa9-483c-b635-fd1f551f5f51",
   "metadata": {},
   "outputs": [],
   "source": [
    "from pathlib import Path\n",
    "%matplotlib notebook\n",
    "from b06_source.triangulation_calibration_module import Calibration, Triangulation, Triangulation_Positions, Triangulation_Recordings"
   ]
  },
  {
   "cell_type": "code",
   "execution_count": null,
   "id": "a531b2e0-7942-4e9c-9e3b-27e03ae0151f",
   "metadata": {
    "scrolled": true
   },
   "outputs": [],
   "source": [
    "a = Calibration(calibration_directory = Path('/Users/kobel/Downloads/PipelineTest/Calibrations/220826/'), \n",
    "                project_config_filepath = Path.cwd().joinpath('test_data/let_it_be_3D_project_config.yaml'),\n",
    "                recording_config_filepath = Path('/Users/kobel/Downloads/PipelineTest/Calibrations/220826/recording_config.yaml'),\n",
    "                overwrite = False, load_calibration = True, max_frame_count = 300, use_gpu = False)"
   ]
  },
  {
   "cell_type": "code",
   "execution_count": null,
   "id": "5cfa6176",
   "metadata": {
    "scrolled": true
   },
   "outputs": [],
   "source": [
    "a.run_calibration()#verbose: bool"
   ]
  },
  {
   "cell_type": "code",
   "execution_count": null,
   "id": "750e4c77",
   "metadata": {},
   "outputs": [],
   "source": [
    "b = Triangulation_Recordings(recording_directory = Path('/Users/kobel/Downloads/PipelineTest/VGlut2-flp/September2022/196_F7-27/220826_OTT/'), \n",
    "                             calibration_toml_filepath = Path('/Users/kobel/Downloads/PipelineTest/Calibrations/220826/calibration_220826.toml'), \n",
    "                             recording_config_filepath = Path('/Users/kobel/Downloads/PipelineTest/Calibrations/220826/recording_config.yaml'), \n",
    "                             project_config_filepath=Path.cwd().joinpath('test_data/let_it_be_3D_project_config.yaml'),\n",
    "                             overwrite = False, load_calibration=True, use_gpu = False) #output directory: Path"
   ]
  },
  {
   "cell_type": "code",
   "execution_count": null,
   "id": "812b92b6",
   "metadata": {
    "scrolled": true
   },
   "outputs": [],
   "source": [
    "b.run_triangulation()"
   ]
  },
  {
   "cell_type": "code",
   "execution_count": null,
   "id": "0427020f",
   "metadata": {},
   "outputs": [],
   "source": [
    "b.df"
   ]
  },
  {
   "cell_type": "markdown",
   "id": "9120460b",
   "metadata": {},
   "source": [
    "## ToDo synchro"
   ]
  },
  {
   "cell_type": "code",
   "execution_count": null,
   "id": "17f217ea",
   "metadata": {},
   "outputs": [],
   "source": [
    "# box size adaptable (here 25 works better than 5)\n",
    "# evaluate synchronization by matching number of frames (loop mit overwrite? new predictions? increased box size?)"
   ]
  },
  {
   "cell_type": "markdown",
   "id": "bd106ab8",
   "metadata": {},
   "source": [
    "## ToDo Triangulation"
   ]
  },
  {
   "cell_type": "code",
   "execution_count": null,
   "id": "9a44b0df",
   "metadata": {},
   "outputs": [],
   "source": []
  },
  {
   "cell_type": "markdown",
   "id": "06f6fd59",
   "metadata": {},
   "source": [
    "## ToDo Config"
   ]
  },
  {
   "cell_type": "code",
   "execution_count": null,
   "id": "e62aaf84",
   "metadata": {},
   "outputs": [],
   "source": [
    "# implement all arguments to be read in by Calibration/Triangulation\n",
    "# when creating new recording yamls give filepath to project config? -> spart ein input argument"
   ]
  },
  {
   "cell_type": "code",
   "execution_count": null,
   "id": "f8cbbba4",
   "metadata": {},
   "outputs": [],
   "source": [
    "\n",
    "#distinguish between max_frame_count! (used in intrinsic_calibrations and save_videoto_disk)"
   ]
  },
  {
   "cell_type": "code",
   "execution_count": null,
   "id": "2634a95f",
   "metadata": {},
   "outputs": [],
   "source": [
    "outputs:\n",
    "    \n",
    "    optional outputs:\n",
    "        - synchro_plots\n",
    "        - positions_plots\n",
    "        - calibration_log\n",
    "        "
   ]
  },
  {
   "cell_type": "code",
   "execution_count": null,
   "id": "80789914",
   "metadata": {},
   "outputs": [],
   "source": [
    "Path.rmdir?"
   ]
  },
  {
   "cell_type": "markdown",
   "id": "7f1aa7da",
   "metadata": {},
   "source": [
    "## dependencies"
   ]
  },
  {
   "cell_type": "code",
   "execution_count": null,
   "id": "6fd6bde0-cfdb-4b72-b956-f95e2a51b3ce",
   "metadata": {},
   "outputs": [],
   "source": [
    "\"\"\"\n",
    "pip install aniposelib\n",
    "pip install ffmpeg\n",
    "pip install ffmpeg-python\n",
    "pip install imageio-ffmpeg\"\"\""
   ]
  }
 ],
 "metadata": {
  "kernelspec": {
   "display_name": "Python 3 (ipykernel)",
   "language": "python",
   "name": "python3"
  },
  "language_info": {
   "codemirror_mode": {
    "name": "ipython",
    "version": 3
   },
   "file_extension": ".py",
   "mimetype": "text/x-python",
   "name": "python",
   "nbconvert_exporter": "python",
   "pygments_lexer": "ipython3",
   "version": "3.7.12"
  }
 },
 "nbformat": 4,
 "nbformat_minor": 5
}
