{
 "cells": [
  {
   "cell_type": "code",
   "execution_count": 1,
   "id": "eefbde70-faa9-483c-b635-fd1f551f5f51",
   "metadata": {},
   "outputs": [],
   "source": [
    "from pathlib import Path\n",
    "from b06_source.triangulation_calibration_module import Calibration, Triangulation, Triangulation_Positions, Triangulation_Recordings"
   ]
  },
  {
   "cell_type": "code",
   "execution_count": 2,
   "id": "a531b2e0-7942-4e9c-9e3b-27e03ae0151f",
   "metadata": {},
   "outputs": [
    {
     "ename": "NameError",
     "evalue": "name 'led_center_coords' is not defined",
     "output_type": "error",
     "traceback": [
      "\u001b[0;31m---------------------------------------------------------------------------\u001b[0m",
      "\u001b[0;31mNameError\u001b[0m                                 Traceback (most recent call last)",
      "Input \u001b[0;32mIn [2]\u001b[0m, in \u001b[0;36m<cell line: 1>\u001b[0;34m()\u001b[0m\n\u001b[0;32m----> 1\u001b[0m a \u001b[38;5;241m=\u001b[39m \u001b[43mCalibration\u001b[49m\u001b[43m(\u001b[49m\u001b[43mcalibration_directory\u001b[49m\u001b[43m \u001b[49m\u001b[38;5;241;43m=\u001b[39;49m\u001b[43m \u001b[49m\u001b[43mPath\u001b[49m\u001b[43m \u001b[49m\u001b[43m(\u001b[49m\u001b[38;5;124;43m\"\u001b[39;49m\u001b[38;5;124;43m/Users/kobel/Downloads/PipelineTest/Calibrations/220826/\u001b[39;49m\u001b[38;5;124;43m\"\u001b[39;49m\u001b[43m)\u001b[49m\u001b[43m,\u001b[49m\u001b[43m \u001b[49m\u001b[43mload_calibration\u001b[49m\u001b[43m \u001b[49m\u001b[38;5;241;43m=\u001b[39;49m\u001b[43m \u001b[49m\u001b[38;5;28;43;01mTrue\u001b[39;49;00m\u001b[43m,\u001b[49m\u001b[43m \u001b[49m\u001b[43mmax_frame_count\u001b[49m\u001b[43m \u001b[49m\u001b[38;5;241;43m=\u001b[39;49m\u001b[43m \u001b[49m\u001b[38;5;241;43m300\u001b[39;49m\u001b[43m,\u001b[49m\u001b[43m \u001b[49m\u001b[43muse_gpu\u001b[49m\u001b[43m \u001b[49m\u001b[38;5;241;43m=\u001b[39;49m\u001b[43m \u001b[49m\u001b[38;5;28;43;01mFalse\u001b[39;49;00m\u001b[43m)\u001b[49m\n",
      "File \u001b[0;32m~/let_it_be_3D/b06_source/triangulation_calibration_module.py:97\u001b[0m, in \u001b[0;36mCalibration.__init__\u001b[0;34m(self, calibration_directory, output_directory, load_calibration, max_frame_count, use_gpu)\u001b[0m\n\u001b[1;32m     96\u001b[0m \u001b[38;5;28;01mdef\u001b[39;00m \u001b[38;5;21m__init__\u001b[39m(\u001b[38;5;28mself\u001b[39m, calibration_directory: Path, output_directory: Optional[Path] \u001b[38;5;241m=\u001b[39m \u001b[38;5;28;01mNone\u001b[39;00m, load_calibration: \u001b[38;5;28mbool\u001b[39m \u001b[38;5;241m=\u001b[39m \u001b[38;5;28;01mFalse\u001b[39;00m, max_frame_count: \u001b[38;5;28mint\u001b[39m \u001b[38;5;241m=\u001b[39m \u001b[38;5;241m300\u001b[39m, use_gpu: \u001b[38;5;28mbool\u001b[39m \u001b[38;5;241m=\u001b[39m \u001b[38;5;28;01mTrue\u001b[39;00m) \u001b[38;5;241m-\u001b[39m\u001b[38;5;241m>\u001b[39m \u001b[38;5;28;01mNone\u001b[39;00m:\n\u001b[0;32m---> 97\u001b[0m     \u001b[38;5;28;43mself\u001b[39;49m\u001b[38;5;241;43m.\u001b[39;49m\u001b[43m_create_video_objects\u001b[49m\u001b[43m(\u001b[49m\u001b[43mcalibration_directory\u001b[49m\u001b[43m \u001b[49m\u001b[38;5;241;43m=\u001b[39;49m\u001b[43m \u001b[49m\u001b[43mcalibration_directory\u001b[49m\u001b[43m,\u001b[49m\u001b[43m \u001b[49m\u001b[43mload_calibration\u001b[49m\u001b[43m \u001b[49m\u001b[38;5;241;43m=\u001b[39;49m\u001b[43m \u001b[49m\u001b[43mload_calibration\u001b[49m\u001b[43m,\u001b[49m\u001b[43m \u001b[49m\u001b[43mmax_frame_count\u001b[49m\u001b[43m \u001b[49m\u001b[38;5;241;43m=\u001b[39;49m\u001b[43m \u001b[49m\u001b[43mmax_frame_count\u001b[49m\u001b[43m,\u001b[49m\u001b[43m \u001b[49m\u001b[43muse_gpu\u001b[49m\u001b[43m \u001b[49m\u001b[38;5;241;43m=\u001b[39;49m\u001b[43m \u001b[49m\u001b[43muse_gpu\u001b[49m\u001b[43m)\u001b[49m\n\u001b[1;32m     98\u001b[0m     \u001b[38;5;28mself\u001b[39m\u001b[38;5;241m.\u001b[39m_validate_unique_cam_ids()\n\u001b[1;32m     99\u001b[0m     \u001b[38;5;66;03m# user input to choose the correct file, if there are multiple for one cam_id?\u001b[39;00m\n",
      "File \u001b[0;32m~/let_it_be_3D/b06_source/triangulation_calibration_module.py:137\u001b[0m, in \u001b[0;36mCalibration._create_video_objects\u001b[0;34m(self, calibration_directory, max_frame_count, load_calibration, use_gpu)\u001b[0m\n\u001b[1;32m    135\u001b[0m \u001b[38;5;66;03m#bool to inspect and validate intrinsic calibration?\u001b[39;00m\n\u001b[1;32m    136\u001b[0m \u001b[38;5;28;01mfor\u001b[39;00m video_interface \u001b[38;5;129;01min\u001b[39;00m charuco_interfaces:\n\u001b[0;32m--> 137\u001b[0m     \u001b[43mvideo_interface\u001b[49m\u001b[38;5;241;43m.\u001b[39;49m\u001b[43mrun_synchronizer\u001b[49m\u001b[43m(\u001b[49m\u001b[43msynchronizer\u001b[49m\u001b[43m \u001b[49m\u001b[38;5;241;43m=\u001b[39;49m\u001b[43m \u001b[49m\u001b[43mCharucoVideoSynchronizer\u001b[49m\u001b[43m,\u001b[49m\u001b[43m \u001b[49m\u001b[43muse_gpu\u001b[49m\u001b[43m \u001b[49m\u001b[38;5;241;43m=\u001b[39;49m\u001b[43m \u001b[49m\u001b[43muse_gpu\u001b[49m\u001b[43m)\u001b[49m\u001b[38;5;66;03m#missing subclass for synchronizer\u001b[39;00m\n\u001b[1;32m    138\u001b[0m \u001b[38;5;28mself\u001b[39m\u001b[38;5;241m.\u001b[39msynchronized_charuco_videofiles \u001b[38;5;241m=\u001b[39m [video_interface\u001b[38;5;241m.\u001b[39msynchronized_object_filepath \u001b[38;5;28;01mfor\u001b[39;00m video_interface \u001b[38;5;129;01min\u001b[39;00m charuco_interfaces]\n\u001b[1;32m    139\u001b[0m \u001b[38;5;28mself\u001b[39m\u001b[38;5;241m.\u001b[39mcamera_objects \u001b[38;5;241m=\u001b[39m [video_interface\u001b[38;5;241m.\u001b[39mexport_for_aniposelib() \u001b[38;5;28;01mfor\u001b[39;00m video_interface \u001b[38;5;129;01min\u001b[39;00m charuco_interfaces]\n",
      "File \u001b[0;32m~/let_it_be_3D/b06_source/video_module.py:39\u001b[0m, in \u001b[0;36mVideoInterface.run_synchronizer\u001b[0;34m(self, synchronizer, use_gpu)\u001b[0m\n\u001b[1;32m     37\u001b[0m \u001b[38;5;28;01mdef\u001b[39;00m \u001b[38;5;21mrun_synchronizer\u001b[39m(\u001b[38;5;28mself\u001b[39m, synchronizer: Synchronizer, use_gpu: \u001b[38;5;28mbool\u001b[39m) \u001b[38;5;241m-\u001b[39m\u001b[38;5;241m>\u001b[39m \u001b[38;5;28;01mNone\u001b[39;00m:\n\u001b[1;32m     38\u001b[0m     synchronizer_object \u001b[38;5;241m=\u001b[39m synchronizer(video_metadata \u001b[38;5;241m=\u001b[39m \u001b[38;5;28mself\u001b[39m\u001b[38;5;241m.\u001b[39mmetadata, use_gpu \u001b[38;5;241m=\u001b[39m use_gpu)\n\u001b[0;32m---> 39\u001b[0m     \u001b[38;5;28mself\u001b[39m\u001b[38;5;241m.\u001b[39msynchronized_object_filepath \u001b[38;5;241m=\u001b[39m \u001b[43msynchronizer_object\u001b[49m\u001b[38;5;241;43m.\u001b[39;49m\u001b[43mrun_synchronization\u001b[49m\u001b[43m(\u001b[49m\u001b[43m)\u001b[49m\n",
      "File \u001b[0;32m~/let_it_be_3D/b06_source/video_synchronization.py:114\u001b[0m, in \u001b[0;36mSynchronizer.run_synchronization\u001b[0;34m(self)\u001b[0m\n\u001b[1;32m    113\u001b[0m \u001b[38;5;28;01mdef\u001b[39;00m \u001b[38;5;21mrun_synchronization\u001b[39m(\u001b[38;5;28mself\u001b[39m) \u001b[38;5;241m-\u001b[39m\u001b[38;5;241m>\u001b[39m Path:\n\u001b[0;32m--> 114\u001b[0m     led_center_coordinates \u001b[38;5;241m=\u001b[39m \u001b[38;5;28;43mself\u001b[39;49m\u001b[38;5;241;43m.\u001b[39;49m\u001b[43m_get_LED_center_coordinates\u001b[49m\u001b[43m(\u001b[49m\u001b[43m)\u001b[49m\n\u001b[1;32m    115\u001b[0m     \u001b[38;5;28mself\u001b[39m\u001b[38;5;241m.\u001b[39mled_timeseries \u001b[38;5;241m=\u001b[39m \u001b[38;5;28mself\u001b[39m\u001b[38;5;241m.\u001b[39m_extract_led_pixel_intensities_timeseries(led_center_coords \u001b[38;5;241m=\u001b[39m led_center_coordinates)\n\u001b[1;32m    116\u001b[0m     template_blinking_motif \u001b[38;5;241m=\u001b[39m \u001b[38;5;28mself\u001b[39m\u001b[38;5;241m.\u001b[39m_construct_template_motif(blinking_patterns_metadata \u001b[38;5;241m=\u001b[39m \u001b[38;5;28mself\u001b[39m\u001b[38;5;241m.\u001b[39mvideo_metadata\u001b[38;5;241m.\u001b[39mconfigs[\u001b[38;5;124m'\u001b[39m\u001b[38;5;124mblinking_patterns\u001b[39m\u001b[38;5;124m'\u001b[39m])\n",
      "File \u001b[0;32m~/let_it_be_3D/b06_source/video_synchronization.py:126\u001b[0m, in \u001b[0;36mSynchronizer._get_LED_center_coordinates\u001b[0;34m(self)\u001b[0m\n\u001b[1;32m    124\u001b[0m \u001b[38;5;28;01mdef\u001b[39;00m \u001b[38;5;21m_get_LED_center_coordinates\u001b[39m(\u001b[38;5;28mself\u001b[39m) \u001b[38;5;241m-\u001b[39m\u001b[38;5;241m>\u001b[39m Coordinates:\n\u001b[1;32m    125\u001b[0m     \u001b[38;5;66;03m# call marker detector to detect the LED on some 100 frames\u001b[39;00m\n\u001b[0;32m--> 126\u001b[0m     \u001b[38;5;28;01mreturn\u001b[39;00m \u001b[43mled_center_coords\u001b[49m\n",
      "\u001b[0;31mNameError\u001b[0m: name 'led_center_coords' is not defined"
     ]
    }
   ],
   "source": [
    "a = Calibration(calibration_directory = Path (\"/Users/kobel/Downloads/PipelineTest/Calibrations/220826/\"), load_calibration = True, max_frame_count = 300, use_gpu = False) #output_directory"
   ]
  },
  {
   "cell_type": "code",
   "execution_count": null,
   "id": "a46b440e-ce4c-4a79-86ae-02390ecf662c",
   "metadata": {},
   "outputs": [],
   "source": []
  },
  {
   "cell_type": "code",
   "execution_count": null,
   "id": "a77c91fd-2d1e-44ec-b987-75c2c5e5a805",
   "metadata": {},
   "outputs": [],
   "source": [
    "from b06_source.marker_detection import Justforfun"
   ]
  },
  {
   "cell_type": "code",
   "execution_count": null,
   "id": "22c3c42a-3bd4-44d1-8f27-3d9765cf88e2",
   "metadata": {},
   "outputs": [],
   "source": [
    "import deeplabcut"
   ]
  },
  {
   "cell_type": "code",
   "execution_count": null,
   "id": "6fd6bde0-cfdb-4b72-b956-f95e2a51b3ce",
   "metadata": {},
   "outputs": [],
   "source": []
  }
 ],
 "metadata": {
  "kernelspec": {
   "display_name": "Python 3 (ipykernel)",
   "language": "python",
   "name": "python3"
  },
  "language_info": {
   "codemirror_mode": {
    "name": "ipython",
    "version": 3
   },
   "file_extension": ".py",
   "mimetype": "text/x-python",
   "name": "python",
   "nbconvert_exporter": "python",
   "pygments_lexer": "ipython3",
   "version": "3.9.12"
  }
 },
 "nbformat": 4,
 "nbformat_minor": 5
}
