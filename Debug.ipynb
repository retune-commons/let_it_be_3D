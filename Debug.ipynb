{
 "cells": [
  {
   "cell_type": "code",
   "execution_count": null,
   "id": "eefbde70-faa9-483c-b635-fd1f551f5f51",
   "metadata": {},
   "outputs": [],
   "source": [
    "from pathlib import Path\n",
    "#%matplotlib notebook\n",
    "from b06_source.triangulation_calibration_module import Calibration, Triangulation_Positions, Triangulation_Recordings"
   ]
  },
  {
   "cell_type": "code",
   "execution_count": null,
   "id": "a531b2e0-7942-4e9c-9e3b-27e03ae0151f",
   "metadata": {
    "scrolled": true
   },
   "outputs": [],
   "source": [
    "a = Calibration(calibration_directory = Path('/Users/kobel/Downloads/PipelineTest/Calibrations/220826/'), \n",
    "                project_config_filepath = Path.cwd().joinpath('test_data/let_it_be_3D_project_config.yaml'),\n",
    "                recording_config_filepath = Path('/Users/kobel/Downloads/PipelineTest/Calibrations/220826/recording_config.yaml'),\n",
    "                overwrite = False, load_calibration = True, max_frame_count = 300, use_gpu = False)"
   ]
  },
  {
   "cell_type": "code",
   "execution_count": null,
   "id": "6b214368",
   "metadata": {},
   "outputs": [],
   "source": [
    "a.synchronization_crossvalidation.plot(save_to_disk = False)\n",
    "for individual_plot in a.synchronization_individuals:\n",
    "    individual_plot.plot(save_to_disk = False)"
   ]
  },
  {
   "cell_type": "code",
   "execution_count": null,
   "id": "303df932",
   "metadata": {
    "scrolled": true
   },
   "outputs": [],
   "source": [
    "for individual_plot in a.led_detection_individuals:\n",
    "    individual_plot.plot(save_to_disk = False)"
   ]
  },
  {
   "cell_type": "code",
   "execution_count": null,
   "id": "5cfa6176",
   "metadata": {
    "scrolled": true
   },
   "outputs": [],
   "source": [
    "a.run_calibration()#verbose: bool"
   ]
  },
  {
   "cell_type": "code",
   "execution_count": null,
   "id": "750e4c77",
   "metadata": {},
   "outputs": [],
   "source": [
    "b = Triangulation_Recordings(recording_directory = Path('/Users/kobel/Downloads/PipelineTest/VGlut2-flp/September2022/196_F7-27/220826_OTT/'), \n",
    "                             calibration_toml_filepath = Path('/Users/kobel/Downloads/PipelineTest/Calibrations/220826/calibration_220826.toml'), \n",
    "                             recording_config_filepath = Path('/Users/kobel/Downloads/PipelineTest/Calibrations/220826/recording_config.yaml'), \n",
    "                             project_config_filepath=Path.cwd().joinpath('test_data/let_it_be_3D_project_config.yaml'),\n",
    "                             overwrite = False, load_calibration=True, use_gpu = False) #output directory: Path"
   ]
  },
  {
   "cell_type": "code",
   "execution_count": null,
   "id": "812b92b6",
   "metadata": {
    "scrolled": true
   },
   "outputs": [],
   "source": [
    "b.run_triangulation()"
   ]
  },
  {
   "cell_type": "code",
   "execution_count": null,
   "id": "0427020f",
   "metadata": {},
   "outputs": [],
   "source": [
    "b.df"
   ]
  },
  {
   "cell_type": "markdown",
   "id": "9120460b",
   "metadata": {},
   "source": [
    "## ToDo synchro"
   ]
  },
  {
   "cell_type": "code",
   "execution_count": null,
   "id": "17f217ea",
   "metadata": {},
   "outputs": [],
   "source": [
    "# how to define alignment threshold? (dependent on box size, predicition, pattern length) -> normalize somehow? manual input in config file? function to set error initially?\n",
    "# led plotting: plot box"
   ]
  },
  {
   "cell_type": "markdown",
   "id": "bd106ab8",
   "metadata": {},
   "source": [
    "## ToDo Triangulation"
   ]
  },
  {
   "cell_type": "code",
   "execution_count": null,
   "id": "9a44b0df",
   "metadata": {},
   "outputs": [],
   "source": [
    "# try filtering and different triangulation methods\n",
    "# implement manual labeling"
   ]
  },
  {
   "cell_type": "markdown",
   "id": "06f6fd59",
   "metadata": {},
   "source": [
    "## ToDo Config"
   ]
  },
  {
   "cell_type": "code",
   "execution_count": null,
   "id": "e62aaf84",
   "metadata": {},
   "outputs": [],
   "source": [
    "# implement all arguments to be read in by Calibration/Triangulation\n",
    "# increase adaptability: specify video format, number of cams, synchro_marker, etc. (alles was hard gecodet ist in yaml file!), calibration tag (\"Charuco\" in filename)\n",
    "# when creating new recording yamls give filepath to project config? -> spart ein input argument"
   ]
  },
  {
   "cell_type": "code",
   "execution_count": null,
   "id": "f8cbbba4",
   "metadata": {},
   "outputs": [],
   "source": [
    "# distinguish between max_frame_count! (used in intrinsic_calibrations and save_videoto_disk)"
   ]
  },
  {
   "cell_type": "markdown",
   "id": "3823592e-0a22-441b-83c6-f3740cb35020",
   "metadata": {},
   "source": [
    "## ToDo Calibration"
   ]
  },
  {
   "cell_type": "code",
   "execution_count": null,
   "id": "8d307ae8-4c17-44d7-bd21-75b44453eca3",
   "metadata": {},
   "outputs": [],
   "source": [
    "# implement Code from Robert/Elisa for repeated calibrations"
   ]
  },
  {
   "cell_type": "code",
   "execution_count": null,
   "id": "2634a95f",
   "metadata": {},
   "outputs": [],
   "source": [
    "outputs:\n",
    "    optional outputs:\n",
    "        - intrinsic calibrations plot!\n",
    "        - positions_plots\n",
    "        - calibration_log!"
   ]
  },
  {
   "cell_type": "code",
   "execution_count": null,
   "id": "80789914",
   "metadata": {},
   "outputs": [],
   "source": [
    "# alle inputs als path oder string inputs möglich machen (type())"
   ]
  },
  {
   "cell_type": "markdown",
   "id": "7f1aa7da",
   "metadata": {},
   "source": [
    "## dependencies"
   ]
  },
  {
   "cell_type": "code",
   "execution_count": null,
   "id": "6fd6bde0-cfdb-4b72-b956-f95e2a51b3ce",
   "metadata": {},
   "outputs": [],
   "source": [
    "\"\"\"\n",
    "pip install aniposelib\n",
    "pip install ffmpeg\n",
    "pip install ffmpeg-python\n",
    "pip install imageio-ffmpeg\n",
    "jupyter lab\n",
    "\"\"\""
   ]
  },
  {
   "cell_type": "code",
   "execution_count": null,
   "id": "36627100",
   "metadata": {},
   "outputs": [],
   "source": []
  }
 ],
 "metadata": {
  "kernelspec": {
   "display_name": "Python 3 (ipykernel)",
   "language": "python",
   "name": "python3"
  },
  "language_info": {
   "codemirror_mode": {
    "name": "ipython",
    "version": 3
   },
   "file_extension": ".py",
   "mimetype": "text/x-python",
   "name": "python",
   "nbconvert_exporter": "python",
   "pygments_lexer": "ipython3",
   "version": "3.7.12"
  }
 },
 "nbformat": 4,
 "nbformat_minor": 5
}
