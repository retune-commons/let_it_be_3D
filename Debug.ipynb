{
 "cells": [
  {
   "cell_type": "code",
   "execution_count": null,
   "id": "c24fdd4a",
   "metadata": {},
   "outputs": [],
   "source": [
    "from pathlib import Path\n",
    "#%matplotlib notebook\n",
    "from b06_source.triangulation_calibration_module import Calibration, Triangulation_Positions, Triangulation_Recordings"
   ]
  },
  {
   "cell_type": "code",
   "execution_count": null,
   "id": "1561d4b0",
   "metadata": {
    "scrolled": true
   },
   "outputs": [],
   "source": [
    "c = Triangulation_Recordings(recording_directory = Path('/Users/kobel/Downloads/test'), \n",
    "                calibration_toml_filepath = Path('test_data/220826_Analysis/calibration_220826.toml'),\n",
    "                project_config_filepath = Path('/Users/kobel/Downloads/test/project_config.yaml'),\n",
    "                recording_config_filepath = Path('/Users/kobel/Downloads/test/recording_config.yaml'),\n",
    "                overwrite = False, output_directory = \"/Users/kobel/Downloads/test/221108_Analysis/\", load_calibration = True, max_frame_count = 300, use_gpu = False,\n",
    "                synchronize_only = True)"
   ]
  },
  {
   "cell_type": "code",
   "execution_count": null,
   "id": "b13cae61",
   "metadata": {
    "scrolled": true
   },
   "outputs": [],
   "source": [
    "a = Calibration(calibration_directory = Path('/Users/kobel/Downloads/test'), \n",
    "                project_config_filepath = Path('/Users/kobel/Downloads/test/project_config.yaml'),\n",
    "                recording_config_filepath = Path('/Users/kobel/Downloads/PipelineTest/Calibrations/220826/recording_config.yaml'),\n",
    "                overwrite = False, load_calibration = True, max_frame_count = 300, use_gpu = False)"
   ]
  },
  {
   "cell_type": "code",
   "execution_count": null,
   "id": "74e57d9f",
   "metadata": {},
   "outputs": [],
   "source": [
    "a.synchronization_crossvalidation.plot(save_to_disk = False)\n",
    "for individual_plot in a.synchronization_individuals:\n",
    "    individual_plot.plot(save_to_disk = False)"
   ]
  },
  {
   "cell_type": "code",
   "execution_count": null,
   "id": "e75204f6",
   "metadata": {
    "scrolled": true
   },
   "outputs": [],
   "source": [
    "for individual_plot in a.led_detection_individuals:\n",
    "    individual_plot.plot(save_to_disk = False)"
   ]
  },
  {
   "cell_type": "code",
   "execution_count": null,
   "id": "519526d5",
   "metadata": {
    "scrolled": true
   },
   "outputs": [],
   "source": [
    "a.run_calibration()#verbose: bool"
   ]
  },
  {
   "cell_type": "code",
   "execution_count": null,
   "id": "c67ac275",
   "metadata": {},
   "outputs": [],
   "source": [
    "b = Triangulation_Recordings(recording_directory = Path('/Users/kobel/Downloads/PipelineTest/VGlut2-flp/September2022/196_F7-27/220826_OTT/'), \n",
    "                             calibration_toml_filepath = Path('/Users/kobel/Downloads/PipelineTest/Calibrations/220826/calibration_220826.toml'), \n",
    "                             recording_config_filepath = Path('/Users/kobel/Downloads/PipelineTest/Calibrations/220826/recording_config.yaml'), \n",
    "                             project_config_filepath=Path.cwd().joinpath('test_data/let_it_be_3D_project_config.yaml'),\n",
    "                             overwrite = False, load_calibration=True, use_gpu = False) #output directory: Path"
   ]
  },
  {
   "cell_type": "code",
   "execution_count": null,
   "id": "fb2aabbb",
   "metadata": {
    "scrolled": true
   },
   "outputs": [],
   "source": [
    "b.run_triangulation()"
   ]
  },
  {
   "cell_type": "code",
   "execution_count": null,
   "id": "796a9f62",
   "metadata": {},
   "outputs": [],
   "source": [
    "b.df"
   ]
  },
  {
   "cell_type": "markdown",
   "id": "48f8df6c",
   "metadata": {},
   "source": [
    "## ToDo synchro"
   ]
  },
  {
   "cell_type": "code",
   "execution_count": null,
   "id": "dcb09935",
   "metadata": {},
   "outputs": [],
   "source": [
    "# how to define alignment threshold? (dependent on box size, predicition, pattern length) -> normalize somehow? manual input in config file? function to set error initially?\n",
    "# led plotting: plot box"
   ]
  },
  {
   "cell_type": "markdown",
   "id": "a02c9ce9",
   "metadata": {},
   "source": [
    "## ToDo Triangulation"
   ]
  },
  {
   "cell_type": "code",
   "execution_count": null,
   "id": "351ecb53",
   "metadata": {},
   "outputs": [],
   "source": [
    "# try filtering and different triangulation methods\n",
    "# implement manual labeling"
   ]
  },
  {
   "cell_type": "markdown",
   "id": "2e1ae9de",
   "metadata": {},
   "source": [
    "## ToDo Config"
   ]
  },
  {
   "cell_type": "code",
   "execution_count": null,
   "id": "67c8581c",
   "metadata": {},
   "outputs": [],
   "source": [
    "# implement all arguments to be read in by Calibration/Triangulation\n",
    "# increase adaptability: specify video format, number of cams, synchro_marker, etc. (alles was hard gecodet ist in yaml file!), calibration tag (\"Charuco\" in filename)\n",
    "# when creating new recording yamls give filepath to project config? -> spart ein input argument"
   ]
  },
  {
   "cell_type": "code",
   "execution_count": null,
   "id": "57954298",
   "metadata": {},
   "outputs": [],
   "source": [
    "# distinguish between max_frame_count! (used in intrinsic_calibrations and save_videoto_disk)"
   ]
  },
  {
   "cell_type": "markdown",
   "id": "d7ff5e97",
   "metadata": {},
   "source": [
    "## ToDo Calibration"
   ]
  },
  {
   "cell_type": "code",
   "execution_count": null,
   "id": "4cda3ea9",
   "metadata": {},
   "outputs": [],
   "source": [
    "# implement Code from Robert/Elisa for repeated calibrations"
   ]
  },
  {
   "cell_type": "code",
   "execution_count": null,
   "id": "98a9d389",
   "metadata": {},
   "outputs": [],
   "source": [
    "outputs:\n",
    "    optional outputs:\n",
    "        - intrinsic calibrations plot!\n",
    "        - positions_plots\n",
    "        - calibration_log!"
   ]
  },
  {
   "cell_type": "code",
   "execution_count": null,
   "id": "94a8b47a",
   "metadata": {},
   "outputs": [],
   "source": [
    "# alle inputs als path oder string inputs möglich machen (type())"
   ]
  },
  {
   "cell_type": "markdown",
   "id": "e984a3ed",
   "metadata": {},
   "source": [
    "## dependencies"
   ]
  },
  {
   "cell_type": "code",
   "execution_count": null,
   "id": "fc040d6b",
   "metadata": {},
   "outputs": [],
   "source": [
    "\"\"\"\n",
    "pip install aniposelib\n",
    "pip install ffmpeg\n",
    "pip install ffmpeg-python\n",
    "pip install imageio-ffmpeg\n",
    "jupyter lab\n",
    "\"\"\""
   ]
  },
  {
   "cell_type": "code",
   "execution_count": null,
   "id": "ed0b7eee",
   "metadata": {},
   "outputs": [],
   "source": []
  }
 ],
 "metadata": {
  "kernelspec": {
   "display_name": "Python 3 (Spyder)",
   "language": "python3",
   "name": "python3"
  },
  "language_info": {
   "codemirror_mode": {
    "name": "ipython",
    "version": 3
   },
   "file_extension": ".py",
   "mimetype": "text/x-python",
   "name": "python",
   "nbconvert_exporter": "python",
   "pygments_lexer": "ipython3",
   "version": "3.9.12"
  }
 },
 "nbformat": 4,
 "nbformat_minor": 5
}
