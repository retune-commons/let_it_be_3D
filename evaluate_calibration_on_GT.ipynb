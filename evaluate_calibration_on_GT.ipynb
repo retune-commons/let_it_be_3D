{
 "cells": [
  {
   "cell_type": "markdown",
   "id": "5e6dc4ef-caa9-43a2-88da-d2b250d899e1",
   "metadata": {},
   "source": [
    "# Sample code for evaluation of anipose calibrations"
   ]
  },
  {
   "cell_type": "code",
   "execution_count": 1,
   "id": "b08f9c8e-b4df-4f3c-81c4-1cc6bd3e61b5",
   "metadata": {},
   "outputs": [],
   "source": [
    "from b06_source.camera_calibration import CalibrationForAnipose3DTracking, SingleCamDataForAnipose, TestPositionsGroundTruth\n",
    "\n",
    "from pathlib import Path\n",
    "import matplotlib.pyplot as plt\n",
    "\n",
    "# for creating an interactive 3D plot\n",
    "%matplotlib widget"
   ]
  },
  {
   "cell_type": "code",
   "execution_count": 2,
   "id": "2f2f6d5e-cbd4-4477-9808-f779be464521",
   "metadata": {},
   "outputs": [],
   "source": [
    "dummy_filepath = Path('random.mp4')\n",
    "intrinsic_calibrations_dir = Path('test_data/intrinsic_calibrations/')"
   ]
  },
  {
   "cell_type": "markdown",
   "id": "2ea617be-c994-46a5-9eb5-6753ee7cef56",
   "metadata": {},
   "source": [
    "### To switch between different calibrations, use one of the following paths:\n",
    "- `'test_data/evaluate_calibration/calibration_00/'`\n",
    "- `'test_data/evaluate_calibration/calibration_01/'`\n",
    "- `'test_data/evaluate_calibration/calibration_02/'`"
   ]
  },
  {
   "cell_type": "code",
   "execution_count": 3,
   "id": "67555990-41dc-40c4-a2ad-b45fc8f8b0bf",
   "metadata": {},
   "outputs": [],
   "source": [
    "test_data_dir = 'test_data/evaluate_calibration/calibration_00/'"
   ]
  },
  {
   "cell_type": "markdown",
   "id": "bce290a9-b272-4539-abe5-8c8cf0e5cbbd",
   "metadata": {},
   "source": [
    "## Create ground truth of test positions with real-world distances"
   ]
  },
  {
   "cell_type": "code",
   "execution_count": 4,
   "id": "39a0407b-4e33-4dcd-9d1d-7fa64593a60e",
   "metadata": {},
   "outputs": [],
   "source": [
    "test_positions = TestPositionsGroundTruth()\n",
    "test_positions.add_new_marker_id(marker_id='screw1_bottom', other_marker_ids_with_distances=[('screw2_bottom', 5),\n",
    "                                                                                             ('screw1_top', 8.1),\n",
    "                                                                                             ('screw1_nut', 6.1),\n",
    "                                                                                             ('screw3_bottom', 7),\n",
    "                                                                                             ('screw4_bottom', 10)])"
   ]
  },
  {
   "cell_type": "code",
   "execution_count": 5,
   "id": "af9b3bb2-5ed1-44a5-9d2d-6de034307ce7",
   "metadata": {},
   "outputs": [],
   "source": [
    "test_positions.add_new_marker_id(marker_id='screw1_nut', other_marker_ids_with_distances=[('screw4_top', 10),\n",
    "                                                                                          ('screw1_top', 2)])"
   ]
  },
  {
   "cell_type": "code",
   "execution_count": 6,
   "id": "babfb6ba-606d-4a8b-b620-3e797282ff86",
   "metadata": {},
   "outputs": [],
   "source": [
    "test_positions.add_new_marker_id(marker_id='screw2_bottom', other_marker_ids_with_distances=[('screw3_bottom', 2),\n",
    "                                                                                             ('screw4_bottom', 5)])"
   ]
  },
  {
   "cell_type": "code",
   "execution_count": 7,
   "id": "0cb8d1eb-91c8-4e6a-a2cf-54eb9838f539",
   "metadata": {},
   "outputs": [],
   "source": [
    "test_positions.add_new_marker_id(marker_id='screw2_top', other_marker_ids_with_distances=[('screw1_top', 7.7),\n",
    "                                                                                          ('screw3_top', 1.9)])"
   ]
  },
  {
   "cell_type": "code",
   "execution_count": 8,
   "id": "f8f8432d-4cde-4bf0-a347-a38f1350caa2",
   "metadata": {},
   "outputs": [],
   "source": [
    "test_positions.add_new_marker_id(marker_id='screw3_bottom', other_marker_ids_with_distances=[('screw4_bottom', 3)])"
   ]
  },
  {
   "cell_type": "code",
   "execution_count": 9,
   "id": "37a12769-b38d-42ff-94e0-d919954a2d3e",
   "metadata": {},
   "outputs": [],
   "source": [
    "test_positions.add_new_marker_id(marker_id='screw3_top', other_marker_ids_with_distances=[('screw4_top', 4.6)])"
   ]
  },
  {
   "cell_type": "code",
   "execution_count": 10,
   "id": "8a03eb22-23c7-4a71-af89-0972cc4a9944",
   "metadata": {},
   "outputs": [],
   "source": [
    "test_positions.add_new_marker_id(marker_id='screw4_bottom', other_marker_ids_with_distances=[('screw4_top', 6.1)])"
   ]
  },
  {
   "cell_type": "code",
   "execution_count": 11,
   "id": "f43e70f3-6e73-4cd1-8f4e-db7908d170fb",
   "metadata": {},
   "outputs": [],
   "source": [
    "test_positions.add_new_marker_id(marker_id='x1', other_marker_ids_with_distances=[('maze_corner_open_left', 9.4),\n",
    "                                                                                  ('x2', 16.8)])"
   ]
  },
  {
   "cell_type": "code",
   "execution_count": 12,
   "id": "3f99923e-8ba7-4303-b5c2-2e02b7d112f8",
   "metadata": {},
   "outputs": [],
   "source": [
    "test_positions.add_new_marker_id(marker_id='x2', other_marker_ids_with_distances=[('maze_corner_closed_left', 17.4)])"
   ]
  },
  {
   "cell_type": "code",
   "execution_count": 13,
   "id": "f1836098-52a0-43f9-80dc-38b79bf9f737",
   "metadata": {},
   "outputs": [],
   "source": [
    "test_positions.add_marker_ids_and_distance_id_as_reference_distance(marker_ids=('screw1_bottom', 'screw4_bottom'), distance_id='screw_1-4_bottoms')"
   ]
  },
  {
   "cell_type": "code",
   "execution_count": 14,
   "id": "70f432f9-0dfc-4dd4-a7f2-c96bbf3fecf2",
   "metadata": {},
   "outputs": [],
   "source": [
    "test_positions.add_marker_ids_to_be_connected_in_3d_plots(marker_ids=('screw1_bottom', 'screw4_bottom', 'screw4_top', 'screw1_nut'))"
   ]
  },
  {
   "cell_type": "markdown",
   "id": "61e570d7-ac86-461a-bcd6-bea10aa4cd98",
   "metadata": {},
   "source": [
    "## Create individual camera objects with intrinsic calibrations & 2D coordinates of detected markers"
   ]
  },
  {
   "cell_type": "code",
   "execution_count": 15,
   "id": "4815d6a9-e582-47a5-9461-ba1499f31195",
   "metadata": {},
   "outputs": [
    {
     "ename": "AttributeError",
     "evalue": "'str' object has no attribute 'joinpath'",
     "output_type": "error",
     "traceback": [
      "\u001b[0;31m---------------------------------------------------------------------------\u001b[0m",
      "\u001b[0;31mAttributeError\u001b[0m                            Traceback (most recent call last)",
      "\u001b[0;32m<ipython-input-15-c38462b2c995>\u001b[0m in \u001b[0;36m<module>\u001b[0;34m\u001b[0m\n\u001b[1;32m      1\u001b[0m \u001b[0mtop_cam\u001b[0m \u001b[0;34m=\u001b[0m \u001b[0mSingleCamDataForAnipose\u001b[0m\u001b[0;34m(\u001b[0m\u001b[0mcam_id\u001b[0m \u001b[0;34m=\u001b[0m \u001b[0;34m'Top'\u001b[0m\u001b[0;34m,\u001b[0m \u001b[0mfilepath_synchronized_calibration_video\u001b[0m \u001b[0;34m=\u001b[0m \u001b[0mdummy_filepath\u001b[0m\u001b[0;34m)\u001b[0m\u001b[0;34m\u001b[0m\u001b[0;34m\u001b[0m\u001b[0m\n\u001b[0;32m----> 2\u001b[0;31m \u001b[0mtop_cam\u001b[0m\u001b[0;34m.\u001b[0m\u001b[0mload_test_position_markers_df_from_dlc_prediction\u001b[0m\u001b[0;34m(\u001b[0m\u001b[0mfilepath_deeplabcut_prediction\u001b[0m \u001b[0;34m=\u001b[0m \u001b[0mtest_data_dir\u001b[0m\u001b[0;34m.\u001b[0m\u001b[0mjoinpath\u001b[0m\u001b[0;34m(\u001b[0m\u001b[0;34m'Top_manual_test_position_marker_fake.h5'\u001b[0m\u001b[0;34m)\u001b[0m\u001b[0;34m)\u001b[0m\u001b[0;34m\u001b[0m\u001b[0;34m\u001b[0m\u001b[0m\n\u001b[0m\u001b[1;32m      3\u001b[0m \u001b[0mtop_cam\u001b[0m\u001b[0;34m.\u001b[0m\u001b[0mload_intrinsic_camera_calibration\u001b[0m\u001b[0;34m(\u001b[0m\u001b[0mfilepath_intrinsic_calibration\u001b[0m \u001b[0;34m=\u001b[0m \u001b[0mintrinsic_calibrations_dir\u001b[0m\u001b[0;34m.\u001b[0m\u001b[0mjoinpath\u001b[0m\u001b[0;34m(\u001b[0m\u001b[0;34m'Top_checkerboard_intrinsic_calibration_results.p'\u001b[0m\u001b[0;34m)\u001b[0m\u001b[0;34m)\u001b[0m\u001b[0;34m\u001b[0m\u001b[0;34m\u001b[0m\u001b[0m\n\u001b[1;32m      4\u001b[0m \u001b[0;34m\u001b[0m\u001b[0m\n\u001b[1;32m      5\u001b[0m \u001b[0mbottom_cam\u001b[0m \u001b[0;34m=\u001b[0m \u001b[0mSingleCamDataForAnipose\u001b[0m\u001b[0;34m(\u001b[0m\u001b[0mcam_id\u001b[0m \u001b[0;34m=\u001b[0m \u001b[0;34m'Bottom'\u001b[0m\u001b[0;34m,\u001b[0m \u001b[0mfilepath_synchronized_calibration_video\u001b[0m \u001b[0;34m=\u001b[0m \u001b[0mdummy_filepath\u001b[0m\u001b[0;34m)\u001b[0m\u001b[0;34m\u001b[0m\u001b[0;34m\u001b[0m\u001b[0m\n",
      "\u001b[0;31mAttributeError\u001b[0m: 'str' object has no attribute 'joinpath'"
     ]
    }
   ],
   "source": [
    "top_cam = SingleCamDataForAnipose(cam_id = 'Top', filepath_synchronized_calibration_video = dummy_filepath)\n",
    "top_cam.load_test_position_markers_df_from_dlc_prediction(filepath_deeplabcut_prediction = test_data_dir.joinpath('Top_manual_test_position_marker_fake.h5'))\n",
    "top_cam.load_intrinsic_camera_calibration(filepath_intrinsic_calibration = intrinsic_calibrations_dir.joinpath('Top_checkerboard_intrinsic_calibration_results.p'))\n",
    "\n",
    "bottom_cam = SingleCamDataForAnipose(cam_id = 'Bottom', filepath_synchronized_calibration_video = dummy_filepath)\n",
    "bottom_cam.load_test_position_markers_df_from_dlc_prediction(filepath_deeplabcut_prediction = test_data_dir.joinpath('Bottom_manual_test_position_marker_fake.h5'))\n",
    "bottom_cam.load_intrinsic_camera_calibration(filepath_intrinsic_calibration = intrinsic_calibrations_dir.joinpath('Bottom_checkerboard_intrinsic_calibration_results.p'))\n",
    "\n",
    "side1_cam = SingleCamDataForAnipose(cam_id = 'Side1', filepath_synchronized_calibration_video = dummy_filepath)\n",
    "side1_cam.load_test_position_markers_df_from_dlc_prediction(filepath_deeplabcut_prediction = test_data_dir.joinpath('Side1_manual_test_position_marker_fake.h5'))\n",
    "side1_cam.load_intrinsic_camera_calibration(filepath_intrinsic_calibration = intrinsic_calibrations_dir.joinpath('Side1_checkerboard_intrinsic_calibration_results.p'))\n",
    "\n",
    "side2_cam = SingleCamDataForAnipose(cam_id = 'Side2', filepath_synchronized_calibration_video = dummy_filepath)\n",
    "side2_cam.load_test_position_markers_df_from_dlc_prediction(filepath_deeplabcut_prediction = test_data_dir.joinpath('Side2_manual_test_position_marker_fake.h5'))\n",
    "side2_cam.load_intrinsic_camera_calibration(filepath_intrinsic_calibration = intrinsic_calibrations_dir.joinpath('Side2_checkerboard_intrinsic_calibration_results.p'))\n",
    "\n",
    "ground1_cam = SingleCamDataForAnipose(cam_id = 'Ground1', filepath_synchronized_calibration_video = dummy_filepath)\n",
    "ground1_cam.load_test_position_markers_df_from_dlc_prediction(filepath_deeplabcut_prediction = test_data_dir.joinpath('Ground1_manual_test_position_marker_fake.h5'))\n",
    "ground1_cam.load_intrinsic_camera_calibration(filepath_intrinsic_calibration = intrinsic_calibrations_dir.joinpath('Ground1_checkerboard_intrinsic_calibration_results.p'))\n",
    "\n",
    "ground2_cam = SingleCamDataForAnipose(cam_id = 'Ground2', filepath_synchronized_calibration_video = dummy_filepath)\n",
    "ground2_cam.load_test_position_markers_df_from_dlc_prediction(filepath_deeplabcut_prediction = test_data_dir.joinpath('Ground2_manual_test_position_marker_fake.h5'))\n",
    "ground2_cam.load_intrinsic_camera_calibration(filepath_intrinsic_calibration = intrinsic_calibrations_dir.joinpath('Ground2_checkerboard_intrinsic_calibration_results.p'))\n",
    "\n",
    "single_cams = [bottom_cam, ground1_cam, ground2_cam, side1_cam, side2_cam, top_cam]"
   ]
  },
  {
   "cell_type": "markdown",
   "id": "37670913-a943-4d40-9201-494d64e13f5a",
   "metadata": {},
   "source": [
    "## Load calibration, triangulate markers & plot"
   ]
  },
  {
   "cell_type": "code",
   "execution_count": null,
   "id": "99ae9ff9-f06e-4b74-904d-e6f08fc6b140",
   "metadata": {},
   "outputs": [],
   "source": [
    "anipose_calibration = CalibrationForAnipose3DTracking(single_cams_to_calibrate = single_cams)"
   ]
  },
  {
   "cell_type": "code",
   "execution_count": null,
   "id": "cd5a688b-2401-4f95-805b-f38ddad940a8",
   "metadata": {},
   "outputs": [],
   "source": [
    "anipose_calibration.load_calibration(filepath = test_data_dir.joinpath('anipose_calibration_all_cams.toml'))"
   ]
  },
  {
   "cell_type": "code",
   "execution_count": null,
   "id": "9cf49254-c6a7-421d-8fa8-3d6c18c95925",
   "metadata": {},
   "outputs": [],
   "source": [
    "anipose_calibration.evaluate_triangulation_of_test_position_markers(test_positions_gt = test_positions)"
   ]
  },
  {
   "cell_type": "code",
   "execution_count": null,
   "id": "0bb819e5-447d-4cc0-986e-eec513feec5e",
   "metadata": {},
   "outputs": [],
   "source": [
    "# additional function to check angles:\n",
    "anipose_calibration.run_calibration_control()"
   ]
  },
  {
   "cell_type": "markdown",
   "id": "d144140f-66f6-4c8a-b411-227da386c345",
   "metadata": {},
   "source": [
    "## Where you find the data:"
   ]
  },
  {
   "cell_type": "markdown",
   "id": "c4d761d5-9d7d-4cb6-b26d-9ebd11a86b01",
   "metadata": {},
   "source": [
    "### 1) x,y,z coordinates of triangulated markers in unitless space:"
   ]
  },
  {
   "cell_type": "code",
   "execution_count": null,
   "id": "5d215d0d-8311-4436-9cfb-25670a651455",
   "metadata": {},
   "outputs": [],
   "source": [
    "anipose_calibration.anipose_io['df_xyz']"
   ]
  },
  {
   "cell_type": "markdown",
   "id": "5b79f11c-ae2a-46c7-b6a7-c401c611ade5",
   "metadata": {},
   "source": [
    "### 2) ground truth distances between markers in cm:"
   ]
  },
  {
   "cell_type": "code",
   "execution_count": null,
   "id": "64e206d5-e58f-47b1-b522-41d622c627b3",
   "metadata": {},
   "outputs": [],
   "source": [
    "test_positions.marker_ids_with_distances"
   ]
  }
 ],
 "metadata": {
  "kernelspec": {
   "display_name": "Python 3 (ipykernel)",
   "language": "python",
   "name": "python3"
  },
  "language_info": {
   "codemirror_mode": {
    "name": "ipython",
    "version": 3
   },
   "file_extension": ".py",
   "mimetype": "text/x-python",
   "name": "python",
   "nbconvert_exporter": "python",
   "pygments_lexer": "ipython3",
   "version": "3.7.13"
  }
 },
 "nbformat": 4,
 "nbformat_minor": 5
}
