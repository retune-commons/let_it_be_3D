{
 "cells": [
  {
   "cell_type": "code",
   "execution_count": null,
   "id": "96f1d5c3-9703-4267-aa2f-45a9f4c042fa",
   "metadata": {},
   "outputs": [],
   "source": [
    "import pickle\n",
    "import imageio as iio\n",
    "import matplotlib.pyplot as plt\n",
    "import numpy as np\n",
    "from pathlib import Path\n",
    "from moviepy.editor import VideoClip\n",
    "%matplotlib widget"
   ]
  },
  {
   "cell_type": "code",
   "execution_count": null,
   "id": "9d1992db-a803-4a53-9ee4-131b9dee8d1c",
   "metadata": {},
   "outputs": [],
   "source": [
    "correctly_synch_vid = \"test_data/Server_structure/Calibrations/230214/230214_Ground1_synchronized_downsampled80fps.mp4\"\n",
    "broken_vid = \"test_data/Server_structure/Calibrations/230214/230214_Bottom_synchronized_downsampled80fps.mp4\""
   ]
  },
  {
   "cell_type": "code",
   "execution_count": null,
   "id": "3bff2666-25e4-4615-898b-5f7a0c03f2fe",
   "metadata": {},
   "outputs": [],
   "source": [
    "broken_led_img = iio.v3.imread(broken_vid, index=0)\n",
    "correct_led_img = iio.v3.imread(correctly_synch_vid, index=0)"
   ]
  },
  {
   "cell_type": "code",
   "execution_count": null,
   "id": "b3544c4a-0499-4534-8947-5a9c62592198",
   "metadata": {},
   "outputs": [],
   "source": [
    "fig = plt.figure()\n",
    "plt.imshow(broken_led_img)\n",
    "plt.show()"
   ]
  },
  {
   "cell_type": "code",
   "execution_count": null,
   "id": "32164382-7123-4936-a36a-0d8c6ef1f61a",
   "metadata": {},
   "outputs": [],
   "source": [
    "broken_x = int(input(\"x\"))\n",
    "broken_y = int(input(\"y\"))"
   ]
  },
  {
   "cell_type": "code",
   "execution_count": null,
   "id": "cf837959-fef0-46c3-9f4b-70bf43360d6c",
   "metadata": {},
   "outputs": [],
   "source": [
    "fig = plt.figure()\n",
    "plt.imshow(correct_led_img)\n",
    "plt.show()"
   ]
  },
  {
   "cell_type": "code",
   "execution_count": null,
   "id": "cc55697b-7a40-40a7-99c7-af944450fb4e",
   "metadata": {},
   "outputs": [],
   "source": [
    "correct_x = int(input(\"x\"))\n",
    "correct_y = int(input(\"y\"))"
   ]
  },
  {
   "cell_type": "code",
   "execution_count": null,
   "id": "24e43517-fa7f-44ca-98f6-70735e11672b",
   "metadata": {},
   "outputs": [],
   "source": [
    "broken_reader = iio.v2.get_reader(broken_vid)\n",
    "broken_timeseries = [broken_reader.get_data(index=i)[broken_y, broken_x].mean() for i in range(broken_reader.count_frames())]\n",
    "correct_reader = iio.v2.get_reader(correctly_synch_vid)\n",
    "correct_timeseries = [correct_reader.get_data(index=i)[correct_y, correct_x].mean() for i in range(correct_reader.count_frames())]"
   ]
  },
  {
   "cell_type": "code",
   "execution_count": null,
   "id": "7b499e04-f7ec-4afd-9b78-1f627959438f",
   "metadata": {},
   "outputs": [],
   "source": [
    "start = 1000\n",
    "end = 2000\n",
    "plt.figure()\n",
    "plt.plot(broken_timeseries[start:end], c=\"red\")\n",
    "plt.plot(correct_timeseries[start:end], c=\"green\")\n",
    "plt.show()"
   ]
  },
  {
   "cell_type": "code",
   "execution_count": null,
   "id": "b6fefdd8-d740-4c54-b3b0-42d0e2001efd",
   "metadata": {},
   "outputs": [],
   "source": [
    "broken_range = (280, 370)"
   ]
  },
  {
   "cell_type": "code",
   "execution_count": null,
   "id": "2200cefc-cd21-4c7b-b03b-1ae6006b4f89",
   "metadata": {},
   "outputs": [],
   "source": [
    "offset = correct_reader.count_frames() - broken_reader.count_frames()\n",
    "fps = 80"
   ]
  },
  {
   "cell_type": "code",
   "execution_count": null,
   "id": "bd3a7cce-6187-431d-b69e-1500033a8ed2",
   "metadata": {},
   "outputs": [],
   "source": [
    "output_dir = Path(broken_vid).parent\n",
    "output_video = output_dir.joinpath(Path(broken_vid).stem + \"_framesfixed.mp4\")\n",
    "rename_video = output_dir.joinpath(Path(broken_vid).stem + \"_framesbroken.mp4\")\n",
    "black_image = np.zeros(broken_led_img.shape)"
   ]
  },
  {
   "cell_type": "code",
   "execution_count": null,
   "id": "fef11561-fe9e-4bc3-a2ed-df44936f25e4",
   "metadata": {},
   "outputs": [],
   "source": [
    "def get_frame(index: int):\n",
    "    index = round(index*fps)\n",
    "    if index > broken_range[0]:\n",
    "        if index < broken_range[1]:\n",
    "            return black_image\n",
    "        else:\n",
    "            frame_index = index - offset\n",
    "    else:\n",
    "        frame_index = index\n",
    "    frame = broken_reader.get_data(frame_index)\n",
    "    return frame"
   ]
  },
  {
   "cell_type": "code",
   "execution_count": null,
   "id": "6d8a0d5f-5567-4af1-8f14-6db4507870e2",
   "metadata": {},
   "outputs": [],
   "source": [
    "out_clip = VideoClip(get_frame, duration=(broken_reader.count_frames()+offset)/80)\n",
    "out_clip.write_videofile(str(output_video), fps=fps, verbose=True, logger=None)"
   ]
  },
  {
   "cell_type": "code",
   "execution_count": null,
   "id": "b3867503-34b7-4d52-b47f-496e73bf6b48",
   "metadata": {},
   "outputs": [],
   "source": [
    "Path(broken_vid).rename(rename_video)\n",
    "Path(output_video).rename(broken_vid)"
   ]
  },
  {
   "cell_type": "code",
   "execution_count": null,
   "id": "429734ed-0d2f-4e86-8c6a-2f45236514a1",
   "metadata": {},
   "outputs": [],
   "source": []
  },
  {
   "cell_type": "code",
   "execution_count": null,
   "id": "57a5152d-3a1f-4e05-b9d1-af77c12fa5f7",
   "metadata": {},
   "outputs": [],
   "source": []
  },
  {
   "cell_type": "code",
   "execution_count": null,
   "id": "7bf02301-db6f-45e0-9888-ef7d0848395a",
   "metadata": {},
   "outputs": [],
   "source": []
  }
 ],
 "metadata": {
  "kernelspec": {
   "display_name": "python3",
   "language": "python",
   "name": "python3"
  }
 },
 "nbformat": 4,
 "nbformat_minor": 5
}
