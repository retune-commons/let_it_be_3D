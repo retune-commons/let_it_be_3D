{
 "cells": [
  {
   "cell_type": "code",
   "execution_count": null,
   "id": "7db1306a-6c72-4f74-9823-15fcf4f00626",
   "metadata": {},
   "outputs": [],
   "source": [
    "from core.filename_checker import filename_checker_interface"
   ]
  },
  {
   "cell_type": "code",
   "execution_count": null,
   "id": "5237b6d3-3031-4f96-8167-66afa5e8b1eb",
   "metadata": {},
   "outputs": [],
   "source": [
    "f = filename_checker_interface(project_config_filepath=\"test_data/project_config.yaml\")\n",
    "f.add_recording_config(\"test_data/Server_structure/Calibrations/220922/recording_config_220922.yaml\")\n",
    "f.initialize_meta_config()"
   ]
  },
  {
   "cell_type": "markdown",
   "id": "a00dcf6f-9ec4-4401-afe9-b19ed5f1ff8e",
   "metadata": {},
   "source": [
    "#### checks metadata and prints one undistorted plot per camera per day\n",
    "##### if it detects errors in filenaming or metadata, it will print output or requires user_input"
   ]
  },
  {
   "cell_type": "code",
   "execution_count": null,
   "id": "819108e1-5b0c-4ece-a63d-6bbc452da59b",
   "metadata": {},
   "outputs": [],
   "source": [
    "f.create_recordings()"
   ]
  },
  {
   "cell_type": "markdown",
   "id": "08d12a5b-bba7-4799-8800-3ca3711cd5af",
   "metadata": {},
   "source": [
    "#### checks metadata and prints one undistorted plot per camera per day for calibration videos and positions images\n",
    "##### if it detects errors in filenaming or metadata, it will print output or requires user_input"
   ]
  },
  {
   "cell_type": "code",
   "execution_count": null,
   "id": "58eed216-1650-4384-a377-463e901a6fe7",
   "metadata": {},
   "outputs": [],
   "source": [
    "f.create_calibrations(ground_truth_config_filepath=\"test_data/ground_truth_config.yaml\")"
   ]
  },
  {
   "cell_type": "code",
   "execution_count": null,
   "id": "b87232c6-c9d5-43ec-b4cc-9b2f14f71a45",
   "metadata": {
    "tags": []
   },
   "outputs": [],
   "source": []
  },
  {
   "cell_type": "code",
   "execution_count": null,
   "id": "f3ad3d5b-48c6-4dc5-8db2-1a8a5d84f2d9",
   "metadata": {},
   "outputs": [],
   "source": []
  }
 ],
 "metadata": {
  "kernelspec": {
   "display_name": "Python 3 (ipykernel)",
   "language": "python",
   "name": "python3"
  },
  "language_info": {
   "codemirror_mode": {
    "name": "ipython",
    "version": 3
   },
   "file_extension": ".py",
   "mimetype": "text/x-python",
   "name": "python",
   "nbconvert_exporter": "python",
   "pygments_lexer": "ipython3",
   "version": "3.9.16"
  }
 },
 "nbformat": 4,
 "nbformat_minor": 5
}
