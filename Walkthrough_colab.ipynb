{
  "cells": [
    {
      "cell_type": "code",
      "source": [
        "!pip install aniposelib\n",
        "!pip install imageio==2.19.3\n",
        "!pip install pip install aniposelib\n",
        "!pip install ffmpeg\n",
        "!pip install ffmpeg-python\n",
        "!pip install imageio-ffmpeg\n",
        "!pip install deeplabcut"
      ],
      "metadata": {
        "id": "WRX-jL-79fFJ"
      },
      "id": "WRX-jL-79fFJ",
      "execution_count": null,
      "outputs": []
    },
    {
      "cell_type": "code",
      "source": [
        "from google.colab import drive\n",
        "drive.mount('/content/drive/')\n",
        "import sys\n",
        "sys.path.insert(0,'/content/drive/My Drive/Medizin/Shareable/')"
      ],
      "metadata": {
        "colab": {
          "base_uri": "https://localhost:8080/"
        },
        "id": "whwfjZxi6Y2p",
        "outputId": "d63247eb-7039-4507-a2ce-974d38761e3f"
      },
      "id": "whwfjZxi6Y2p",
      "execution_count": 1,
      "outputs": [
        {
          "output_type": "stream",
          "name": "stdout",
          "text": [
            "Mounted at /content/drive/\n"
          ]
        }
      ]
    },
    {
      "cell_type": "code",
      "execution_count": 3,
      "id": "0f2ec33e-8724-40c0-8cf1-7f9fbae03295",
      "metadata": {
        "tags": [],
        "id": "0f2ec33e-8724-40c0-8cf1-7f9fbae03295"
      },
      "outputs": [],
      "source": [
        "from core.meta import meta_interface\n",
        "%matplotlib inline"
      ]
    },
    {
      "cell_type": "code",
      "execution_count": 4,
      "id": "5d56a5c6-066e-443b-a194-ad453f040f17",
      "metadata": {
        "tags": [],
        "id": "5d56a5c6-066e-443b-a194-ad453f040f17"
      },
      "outputs": [],
      "source": [
        "d = meta_interface(project_config_path=\"/content/drive/My Drive/Medizin/Shareable/test_data/project_config.yaml\")\n",
        "# manually add recording_configs \n",
        "d.add_recording_config('/content/drive/My Drive/Medizin/Shareable/test_data/Server_structure/Calibrations/220826/recording_config.yaml')\n",
        "d.initialize_meta_config()\n",
        "#d.meta\n",
        "# switch recordings to other Recording_days -> calibration_directroy"
      ]
    },
    {
      "cell_type": "code",
      "execution_count": 5,
      "id": "3a5c71ad-cfd1-437e-8191-9691f95cd0c1",
      "metadata": {
        "tags": [],
        "id": "3a5c71ad-cfd1-437e-8191-9691f95cd0c1"
      },
      "outputs": [],
      "source": [
        "d.create_recordings()\n",
        "#d.meta"
      ]
    },
    {
      "cell_type": "code",
      "execution_count": null,
      "id": "715e09b9-673b-44df-af59-139eaeaf9d04",
      "metadata": {
        "collapsed": true,
        "jupyter": {
          "outputs_hidden": true
        },
        "tags": [],
        "id": "715e09b9-673b-44df-af59-139eaeaf9d04"
      },
      "outputs": [],
      "source": [
        "d.synchronize_recordings()\n",
        "#d.meta\n",
        "# exclude recordingvideos based on synchronization"
      ]
    },
    {
      "cell_type": "code",
      "execution_count": null,
      "id": "bdca04fd-9e0c-4c6b-a4ee-6f2236be8b17",
      "metadata": {
        "tags": [],
        "id": "bdca04fd-9e0c-4c6b-a4ee-6f2236be8b17"
      },
      "outputs": [],
      "source": [
        "d.create_calibrations()\n",
        "#d.meta"
      ]
    },
    {
      "cell_type": "code",
      "execution_count": null,
      "id": "76663c1f-a516-4f43-9b33-5ad098a67fdd",
      "metadata": {
        "tags": [],
        "id": "76663c1f-a516-4f43-9b33-5ad098a67fdd"
      },
      "outputs": [],
      "source": [
        "d.synchronize_calibrations()\n",
        "#d.meta\n",
        "# exclude calibrationvideos based on synchronization, change markerdetection_filepaths etc."
      ]
    },
    {
      "cell_type": "code",
      "execution_count": null,
      "id": "931e8d8e-60a6-428a-ba95-db040bad14ff",
      "metadata": {
        "id": "931e8d8e-60a6-428a-ba95-db040bad14ff"
      },
      "outputs": [],
      "source": [
        "\"\"\"\n",
        "import yaml\n",
        "with open(\"test_data/Server_structure/Calibrations/220826/positionsh5s.yaml\", \"r\") as ymlfile:\n",
        "    positionsh5s = yaml.load(ymlfile, Loader=yaml.SafeLoader)\n",
        "for video in d.meta[\"recording_days\"][\"Recording_Day_220826_0\"][\"calibrations\"][\"videos\"].values():\n",
        "    video[\"positions_marker_detection_filepath\"]=positionsh5s[video.cam_id]\n",
        "\"\"\""
      ]
    },
    {
      "cell_type": "code",
      "execution_count": null,
      "id": "ece5a619-2d48-4675-a397-341ab9c3715e",
      "metadata": {
        "tags": [],
        "id": "ece5a619-2d48-4675-a397-341ab9c3715e"
      },
      "outputs": [],
      "source": [
        "d.calibrate()\n",
        "#d.meta\n",
        "# exclude calibrations based on calibration log (not yet implemented) and repeat calibration "
      ]
    },
    {
      "cell_type": "code",
      "execution_count": null,
      "id": "c5a557dd-fc29-4c05-bca1-17bace9e21b6",
      "metadata": {
        "tags": [],
        "id": "c5a557dd-fc29-4c05-bca1-17bace9e21b6"
      },
      "outputs": [],
      "source": [
        "d.triangulate_recordings()"
      ]
    },
    {
      "cell_type": "code",
      "execution_count": null,
      "id": "b9599b10-881b-42aa-b91d-06c3e219b0ad",
      "metadata": {
        "id": "b9599b10-881b-42aa-b91d-06c3e219b0ad"
      },
      "outputs": [],
      "source": []
    },
    {
      "cell_type": "code",
      "execution_count": null,
      "id": "4f75519e-a7c8-46f5-a072-efb98882c274",
      "metadata": {
        "id": "4f75519e-a7c8-46f5-a072-efb98882c274"
      },
      "outputs": [],
      "source": []
    },
    {
      "cell_type": "code",
      "execution_count": null,
      "id": "6c7a2e88-40d1-4998-9908-44ee286dfbcf",
      "metadata": {
        "id": "6c7a2e88-40d1-4998-9908-44ee286dfbcf"
      },
      "outputs": [],
      "source": []
    },
    {
      "cell_type": "code",
      "execution_count": null,
      "id": "eb82f9ae-1313-4b14-af25-f499573c81b8",
      "metadata": {
        "id": "eb82f9ae-1313-4b14-af25-f499573c81b8"
      },
      "outputs": [],
      "source": []
    },
    {
      "cell_type": "code",
      "execution_count": null,
      "id": "e63b59f6-9fa0-4a93-8f58-6fb4f0bc1f3f",
      "metadata": {
        "id": "e63b59f6-9fa0-4a93-8f58-6fb4f0bc1f3f"
      },
      "outputs": [],
      "source": []
    },
    {
      "cell_type": "code",
      "execution_count": null,
      "id": "4e3c2b0e-c8c4-46cd-bd2c-78323afc53f4",
      "metadata": {
        "id": "4e3c2b0e-c8c4-46cd-bd2c-78323afc53f4"
      },
      "outputs": [],
      "source": []
    },
    {
      "cell_type": "code",
      "execution_count": null,
      "id": "abd7d7a7-0777-461a-a3a9-576123ed19fe",
      "metadata": {
        "id": "abd7d7a7-0777-461a-a3a9-576123ed19fe"
      },
      "outputs": [],
      "source": []
    },
    {
      "cell_type": "code",
      "execution_count": null,
      "id": "228fa7ea-6470-4b26-8c03-0c7de4c3077e",
      "metadata": {
        "id": "228fa7ea-6470-4b26-8c03-0c7de4c3077e"
      },
      "outputs": [],
      "source": []
    },
    {
      "cell_type": "code",
      "execution_count": null,
      "id": "c24fdd4a",
      "metadata": {
        "id": "c24fdd4a"
      },
      "outputs": [],
      "source": [
        "from core.triangulation_calibration_module import Calibration, Triangulation_Positions, Triangulation_Recordings"
      ]
    },
    {
      "cell_type": "code",
      "execution_count": null,
      "id": "b13cae61",
      "metadata": {
        "scrolled": true,
        "tags": [],
        "id": "b13cae61"
      },
      "outputs": [],
      "source": [
        "a = Calibration(calibration_directory = 'test_data/Server_structure/Calibrations/220826/', \n",
        "                project_config_filepath = 'test_data/project_config.yaml',\n",
        "                recording_config_filepath = 'test_data/Server_structure/Calibrations/220826/recording_config.yaml',\n",
        "                output_directory = 'test_data/Server_structure/Calibrations/220826/')"
      ]
    },
    {
      "cell_type": "code",
      "execution_count": null,
      "id": "628e3bb8-ce39-4733-83d8-89030428ee6b",
      "metadata": {
        "tags": [],
        "id": "628e3bb8-ce39-4733-83d8-89030428ee6b"
      },
      "outputs": [],
      "source": [
        "a.run_synchronization()"
      ]
    },
    {
      "cell_type": "code",
      "execution_count": null,
      "id": "519526d5",
      "metadata": {
        "scrolled": true,
        "tags": [],
        "id": "519526d5"
      },
      "outputs": [],
      "source": [
        "a.run_calibration(verbose = True)"
      ]
    },
    {
      "cell_type": "code",
      "execution_count": null,
      "id": "c67ac275",
      "metadata": {
        "id": "c67ac275"
      },
      "outputs": [],
      "source": [
        "b = Triangulation_Recordings(recording_directory = 'test_data/Server_structure/VGlut2-flp/September2022/196_F7-27/220826_OTT/', \n",
        "                             calibration_directory = 'test_data/Server_structure/Calibrations/220826/',\n",
        "                             recording_config_filepath = 'test_data/Server_structure/Calibrations/220826/recording_config.yaml', \n",
        "                             project_config_filepath= 'test_data/project_config.yaml',\n",
        "                             output_directory = \"test_data/Server_structure/VGlut2-flp/September2022/196_F7-27/220826_OTT/\")"
      ]
    },
    {
      "cell_type": "code",
      "execution_count": null,
      "id": "f7e34efe-dc61-4ed2-bb6d-9e6acdfe1d59",
      "metadata": {
        "id": "f7e34efe-dc61-4ed2-bb6d-9e6acdfe1d59"
      },
      "outputs": [],
      "source": [
        "b.run_synchronization()"
      ]
    },
    {
      "cell_type": "code",
      "execution_count": null,
      "id": "fb2aabbb",
      "metadata": {
        "scrolled": true,
        "id": "fb2aabbb"
      },
      "outputs": [],
      "source": [
        "b.run_triangulation(calibration_toml_filepath = 'test_data/Server_structure/Calibrations/220826/calibration_220826.toml')"
      ]
    },
    {
      "cell_type": "code",
      "execution_count": null,
      "id": "a0b1927d-a532-4206-9c57-daeb0553a5a5",
      "metadata": {
        "id": "a0b1927d-a532-4206-9c57-daeb0553a5a5"
      },
      "outputs": [],
      "source": [
        "c = Triangulation_Positions(positions_directory = 'test_data/Server_structure/Calibrations/220826/', \n",
        "                            calibration_directory = 'test_data/Server_structure/Calibrations/220826/',\n",
        "                            recording_config_filepath = 'test_data/Server_structure/Calibrations/220826/recording_config.yaml', \n",
        "                            project_config_filepath= 'test_data/project_config.yaml',\n",
        "                            output_directory = 'test_data/Server_structure/Calibrations/220826/')"
      ]
    },
    {
      "cell_type": "code",
      "execution_count": null,
      "id": "fb8f9bb3-8578-4703-8562-6e12f0c26d2b",
      "metadata": {
        "tags": [],
        "id": "fb8f9bb3-8578-4703-8562-6e12f0c26d2b"
      },
      "outputs": [],
      "source": [
        "c.get_marker_predictions()"
      ]
    },
    {
      "cell_type": "code",
      "execution_count": null,
      "id": "e96eaf92-545f-40a1-897d-76b5cd38b978",
      "metadata": {
        "id": "e96eaf92-545f-40a1-897d-76b5cd38b978"
      },
      "outputs": [],
      "source": [
        "c.run_triangulation(calibration_toml_filepath = 'test_data/Server_structure/Calibrations/220826/calibration_220826.toml')"
      ]
    },
    {
      "cell_type": "code",
      "execution_count": null,
      "id": "5ea35e8d-2332-4cf2-adce-e16a1b98594f",
      "metadata": {
        "id": "5ea35e8d-2332-4cf2-adce-e16a1b98594f"
      },
      "outputs": [],
      "source": []
    },
    {
      "cell_type": "code",
      "execution_count": null,
      "id": "a03a4ea9-c141-4656-be59-c0cf9230b626",
      "metadata": {
        "id": "a03a4ea9-c141-4656-be59-c0cf9230b626"
      },
      "outputs": [],
      "source": []
    },
    {
      "cell_type": "code",
      "execution_count": null,
      "id": "b475c3e6-2385-489f-8e02-60f6d1f1cd10",
      "metadata": {
        "id": "b475c3e6-2385-489f-8e02-60f6d1f1cd10"
      },
      "outputs": [],
      "source": []
    },
    {
      "cell_type": "code",
      "execution_count": null,
      "id": "056a5855-9ce4-45ce-9954-4092ee8302a8",
      "metadata": {
        "id": "056a5855-9ce4-45ce-9954-4092ee8302a8"
      },
      "outputs": [],
      "source": [
        "# special dependencies"
      ]
    },
    {
      "cell_type": "code",
      "execution_count": null,
      "id": "fc040d6b",
      "metadata": {
        "id": "fc040d6b"
      },
      "outputs": [],
      "source": [
        "\"\"\"\n",
        "pip install aniposelib\n",
        "pip install ffmpeg\n",
        "pip install ffmpeg-python\n",
        "pip install imageio-ffmpeg\n",
        "jupyter lab\n",
        "Tkinter\n",
        "\"\"\""
      ]
    }
  ],
  "metadata": {
    "kernelspec": {
      "display_name": "Python 3 (ipykernel)",
      "language": "python",
      "name": "python3"
    },
    "language_info": {
      "codemirror_mode": {
        "name": "ipython",
        "version": 3
      },
      "file_extension": ".py",
      "mimetype": "text/x-python",
      "name": "python",
      "nbconvert_exporter": "python",
      "pygments_lexer": "ipython3",
      "version": "3.9.12"
    },
    "colab": {
      "provenance": []
    },
    "accelerator": "GPU",
    "gpuClass": "standard"
  },
  "nbformat": 4,
  "nbformat_minor": 5
}